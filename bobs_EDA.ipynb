{
 "cells": [
  {
   "cell_type": "markdown",
   "id": "522b6134",
   "metadata": {},
   "source": [
    "### 데이터 간단 EDA \n",
    "\n",
    "노션이 제시하는 방향 : OTT별 고객층 인구 통계학적 특성 선호 장르 평점 경향성등 특징 비교   \n",
    "\n",
    "\n",
    "\n"
   ]
  },
  {
   "cell_type": "code",
   "execution_count": 894,
   "id": "13c7c0d3",
   "metadata": {},
   "outputs": [],
   "source": [
    "import numpy as np \n",
    "import pandas as pd \n",
    "import matplotlib.pyplot as plt\n",
    "import seaborn as sns\n"
   ]
  },
  {
   "cell_type": "code",
   "execution_count": 895,
   "id": "38587aaf",
   "metadata": {},
   "outputs": [],
   "source": [
    "# read csv \n",
    "\n",
    "df =pd.read_csv(\"./Data_bob//titles.csv\")\n",
    "df_credit = pd.read_csv(\"./Data_bob/credits.csv\")\n",
    "\n",
    "\n"
   ]
  },
  {
   "cell_type": "code",
   "execution_count": 896,
   "id": "aee760a1",
   "metadata": {},
   "outputs": [
    {
     "data": {
      "text/html": [
       "<div>\n",
       "<style scoped>\n",
       "    .dataframe tbody tr th:only-of-type {\n",
       "        vertical-align: middle;\n",
       "    }\n",
       "\n",
       "    .dataframe tbody tr th {\n",
       "        vertical-align: top;\n",
       "    }\n",
       "\n",
       "    .dataframe thead th {\n",
       "        text-align: right;\n",
       "    }\n",
       "</style>\n",
       "<table border=\"1\" class=\"dataframe\">\n",
       "  <thead>\n",
       "    <tr style=\"text-align: right;\">\n",
       "      <th></th>\n",
       "      <th>Unnamed: 0</th>\n",
       "      <th>id</th>\n",
       "      <th>title</th>\n",
       "      <th>type</th>\n",
       "      <th>description</th>\n",
       "      <th>release_year</th>\n",
       "      <th>age_certification</th>\n",
       "      <th>runtime</th>\n",
       "      <th>genres</th>\n",
       "      <th>production_countries</th>\n",
       "      <th>seasons</th>\n",
       "      <th>imdb_id</th>\n",
       "      <th>imdb_score</th>\n",
       "      <th>imdb_votes</th>\n",
       "      <th>tmdb_popularity</th>\n",
       "      <th>tmdb_score</th>\n",
       "      <th>platform</th>\n",
       "    </tr>\n",
       "  </thead>\n",
       "  <tbody>\n",
       "    <tr>\n",
       "      <th>0</th>\n",
       "      <td>0</td>\n",
       "      <td>ts20945</td>\n",
       "      <td>The Three Stooges</td>\n",
       "      <td>SHOW</td>\n",
       "      <td>The Three Stooges were an American vaudeville ...</td>\n",
       "      <td>1934</td>\n",
       "      <td>TV-PG</td>\n",
       "      <td>19</td>\n",
       "      <td>['comedy', 'family', 'animation', 'action', 'f...</td>\n",
       "      <td>['US']</td>\n",
       "      <td>26.0</td>\n",
       "      <td>tt0850645</td>\n",
       "      <td>8.6</td>\n",
       "      <td>1092.0</td>\n",
       "      <td>15.424</td>\n",
       "      <td>7.6</td>\n",
       "      <td>AmazonPrime</td>\n",
       "    </tr>\n",
       "    <tr>\n",
       "      <th>1</th>\n",
       "      <td>1</td>\n",
       "      <td>tm19248</td>\n",
       "      <td>The General</td>\n",
       "      <td>MOVIE</td>\n",
       "      <td>During America’s Civil War, Union spies steal ...</td>\n",
       "      <td>1926</td>\n",
       "      <td>NaN</td>\n",
       "      <td>78</td>\n",
       "      <td>['action', 'drama', 'war', 'western', 'comedy'...</td>\n",
       "      <td>['US']</td>\n",
       "      <td>NaN</td>\n",
       "      <td>tt0017925</td>\n",
       "      <td>8.2</td>\n",
       "      <td>89766.0</td>\n",
       "      <td>8.647</td>\n",
       "      <td>8.0</td>\n",
       "      <td>AmazonPrime</td>\n",
       "    </tr>\n",
       "    <tr>\n",
       "      <th>2</th>\n",
       "      <td>2</td>\n",
       "      <td>tm82253</td>\n",
       "      <td>The Best Years of Our Lives</td>\n",
       "      <td>MOVIE</td>\n",
       "      <td>It's the hope that sustains the spirit of ever...</td>\n",
       "      <td>1946</td>\n",
       "      <td>NaN</td>\n",
       "      <td>171</td>\n",
       "      <td>['romance', 'war', 'drama']</td>\n",
       "      <td>['US']</td>\n",
       "      <td>NaN</td>\n",
       "      <td>tt0036868</td>\n",
       "      <td>8.1</td>\n",
       "      <td>63026.0</td>\n",
       "      <td>8.435</td>\n",
       "      <td>7.8</td>\n",
       "      <td>AmazonPrime</td>\n",
       "    </tr>\n",
       "    <tr>\n",
       "      <th>3</th>\n",
       "      <td>3</td>\n",
       "      <td>tm83884</td>\n",
       "      <td>His Girl Friday</td>\n",
       "      <td>MOVIE</td>\n",
       "      <td>Hildy, the journalist former wife of newspaper...</td>\n",
       "      <td>1940</td>\n",
       "      <td>NaN</td>\n",
       "      <td>92</td>\n",
       "      <td>['comedy', 'drama', 'romance']</td>\n",
       "      <td>['US']</td>\n",
       "      <td>NaN</td>\n",
       "      <td>tt0032599</td>\n",
       "      <td>7.8</td>\n",
       "      <td>57835.0</td>\n",
       "      <td>11.270</td>\n",
       "      <td>7.4</td>\n",
       "      <td>AmazonPrime</td>\n",
       "    </tr>\n",
       "    <tr>\n",
       "      <th>4</th>\n",
       "      <td>4</td>\n",
       "      <td>tm56584</td>\n",
       "      <td>In a Lonely Place</td>\n",
       "      <td>MOVIE</td>\n",
       "      <td>An aspiring actress begins to suspect that her...</td>\n",
       "      <td>1950</td>\n",
       "      <td>NaN</td>\n",
       "      <td>94</td>\n",
       "      <td>['thriller', 'drama', 'romance']</td>\n",
       "      <td>['US']</td>\n",
       "      <td>NaN</td>\n",
       "      <td>tt0042593</td>\n",
       "      <td>7.9</td>\n",
       "      <td>30924.0</td>\n",
       "      <td>8.273</td>\n",
       "      <td>7.6</td>\n",
       "      <td>AmazonPrime</td>\n",
       "    </tr>\n",
       "  </tbody>\n",
       "</table>\n",
       "</div>"
      ],
      "text/plain": [
       "   Unnamed: 0       id                        title   type  \\\n",
       "0           0  ts20945            The Three Stooges   SHOW   \n",
       "1           1  tm19248                  The General  MOVIE   \n",
       "2           2  tm82253  The Best Years of Our Lives  MOVIE   \n",
       "3           3  tm83884              His Girl Friday  MOVIE   \n",
       "4           4  tm56584            In a Lonely Place  MOVIE   \n",
       "\n",
       "                                         description  release_year  \\\n",
       "0  The Three Stooges were an American vaudeville ...          1934   \n",
       "1  During America’s Civil War, Union spies steal ...          1926   \n",
       "2  It's the hope that sustains the spirit of ever...          1946   \n",
       "3  Hildy, the journalist former wife of newspaper...          1940   \n",
       "4  An aspiring actress begins to suspect that her...          1950   \n",
       "\n",
       "  age_certification  runtime  \\\n",
       "0             TV-PG       19   \n",
       "1               NaN       78   \n",
       "2               NaN      171   \n",
       "3               NaN       92   \n",
       "4               NaN       94   \n",
       "\n",
       "                                              genres production_countries  \\\n",
       "0  ['comedy', 'family', 'animation', 'action', 'f...               ['US']   \n",
       "1  ['action', 'drama', 'war', 'western', 'comedy'...               ['US']   \n",
       "2                        ['romance', 'war', 'drama']               ['US']   \n",
       "3                     ['comedy', 'drama', 'romance']               ['US']   \n",
       "4                   ['thriller', 'drama', 'romance']               ['US']   \n",
       "\n",
       "   seasons    imdb_id  imdb_score  imdb_votes  tmdb_popularity  tmdb_score  \\\n",
       "0     26.0  tt0850645         8.6      1092.0           15.424         7.6   \n",
       "1      NaN  tt0017925         8.2     89766.0            8.647         8.0   \n",
       "2      NaN  tt0036868         8.1     63026.0            8.435         7.8   \n",
       "3      NaN  tt0032599         7.8     57835.0           11.270         7.4   \n",
       "4      NaN  tt0042593         7.9     30924.0            8.273         7.6   \n",
       "\n",
       "      platform  \n",
       "0  AmazonPrime  \n",
       "1  AmazonPrime  \n",
       "2  AmazonPrime  \n",
       "3  AmazonPrime  \n",
       "4  AmazonPrime  "
      ]
     },
     "execution_count": 896,
     "metadata": {},
     "output_type": "execute_result"
    }
   ],
   "source": [
    "df.head()"
   ]
  },
  {
   "cell_type": "code",
   "execution_count": 897,
   "id": "5aa7f914",
   "metadata": {
    "scrolled": false
   },
   "outputs": [],
   "source": [
    "df.drop([\"Unnamed: 0\"],axis=1,inplace=True)"
   ]
  },
  {
   "cell_type": "code",
   "execution_count": null,
   "id": "e50e559c",
   "metadata": {},
   "outputs": [],
   "source": [
    "\n"
   ]
  },
  {
   "cell_type": "code",
   "execution_count": null,
   "id": "eccfc5d9",
   "metadata": {},
   "outputs": [],
   "source": []
  },
  {
   "cell_type": "code",
   "execution_count": 898,
   "id": "3e7a572b",
   "metadata": {
    "scrolled": true
   },
   "outputs": [
    {
     "data": {
      "text/html": [
       "<div>\n",
       "<style scoped>\n",
       "    .dataframe tbody tr th:only-of-type {\n",
       "        vertical-align: middle;\n",
       "    }\n",
       "\n",
       "    .dataframe tbody tr th {\n",
       "        vertical-align: top;\n",
       "    }\n",
       "\n",
       "    .dataframe thead th {\n",
       "        text-align: right;\n",
       "    }\n",
       "</style>\n",
       "<table border=\"1\" class=\"dataframe\">\n",
       "  <thead>\n",
       "    <tr style=\"text-align: right;\">\n",
       "      <th></th>\n",
       "      <th>release_year</th>\n",
       "      <th>runtime</th>\n",
       "      <th>seasons</th>\n",
       "      <th>imdb_score</th>\n",
       "      <th>imdb_votes</th>\n",
       "      <th>tmdb_popularity</th>\n",
       "      <th>tmdb_score</th>\n",
       "    </tr>\n",
       "  </thead>\n",
       "  <tbody>\n",
       "    <tr>\n",
       "      <th>count</th>\n",
       "      <td>24877.000000</td>\n",
       "      <td>24877.000000</td>\n",
       "      <td>7164.000000</td>\n",
       "      <td>22403.000000</td>\n",
       "      <td>2.237200e+04</td>\n",
       "      <td>24071.000000</td>\n",
       "      <td>21567.000000</td>\n",
       "    </tr>\n",
       "    <tr>\n",
       "      <th>mean</th>\n",
       "      <td>2006.138562</td>\n",
       "      <td>75.971982</td>\n",
       "      <td>3.123534</td>\n",
       "      <td>6.287323</td>\n",
       "      <td>2.098952e+04</td>\n",
       "      <td>17.577640</td>\n",
       "      <td>6.456596</td>\n",
       "    </tr>\n",
       "    <tr>\n",
       "      <th>std</th>\n",
       "      <td>22.406687</td>\n",
       "      <td>36.588651</td>\n",
       "      <td>4.293499</td>\n",
       "      <td>1.292541</td>\n",
       "      <td>8.825699e+04</td>\n",
       "      <td>95.647613</td>\n",
       "      <td>1.408923</td>\n",
       "    </tr>\n",
       "    <tr>\n",
       "      <th>min</th>\n",
       "      <td>1912.000000</td>\n",
       "      <td>0.000000</td>\n",
       "      <td>1.000000</td>\n",
       "      <td>1.000000</td>\n",
       "      <td>5.000000e+00</td>\n",
       "      <td>0.000011</td>\n",
       "      <td>0.500000</td>\n",
       "    </tr>\n",
       "    <tr>\n",
       "      <th>25%</th>\n",
       "      <td>2005.000000</td>\n",
       "      <td>46.000000</td>\n",
       "      <td>1.000000</td>\n",
       "      <td>5.500000</td>\n",
       "      <td>2.140000e+02</td>\n",
       "      <td>1.821000</td>\n",
       "      <td>5.700000</td>\n",
       "    </tr>\n",
       "    <tr>\n",
       "      <th>50%</th>\n",
       "      <td>2016.000000</td>\n",
       "      <td>83.000000</td>\n",
       "      <td>2.000000</td>\n",
       "      <td>6.400000</td>\n",
       "      <td>1.122000e+03</td>\n",
       "      <td>4.493000</td>\n",
       "      <td>6.500000</td>\n",
       "    </tr>\n",
       "    <tr>\n",
       "      <th>75%</th>\n",
       "      <td>2019.000000</td>\n",
       "      <td>99.000000</td>\n",
       "      <td>3.000000</td>\n",
       "      <td>7.200000</td>\n",
       "      <td>6.373250e+03</td>\n",
       "      <td>12.130000</td>\n",
       "      <td>7.400000</td>\n",
       "    </tr>\n",
       "    <tr>\n",
       "      <th>max</th>\n",
       "      <td>2022.000000</td>\n",
       "      <td>549.000000</td>\n",
       "      <td>63.000000</td>\n",
       "      <td>9.900000</td>\n",
       "      <td>2.294231e+06</td>\n",
       "      <td>9323.832000</td>\n",
       "      <td>10.000000</td>\n",
       "    </tr>\n",
       "  </tbody>\n",
       "</table>\n",
       "</div>"
      ],
      "text/plain": [
       "       release_year       runtime      seasons    imdb_score    imdb_votes  \\\n",
       "count  24877.000000  24877.000000  7164.000000  22403.000000  2.237200e+04   \n",
       "mean    2006.138562     75.971982     3.123534      6.287323  2.098952e+04   \n",
       "std       22.406687     36.588651     4.293499      1.292541  8.825699e+04   \n",
       "min     1912.000000      0.000000     1.000000      1.000000  5.000000e+00   \n",
       "25%     2005.000000     46.000000     1.000000      5.500000  2.140000e+02   \n",
       "50%     2016.000000     83.000000     2.000000      6.400000  1.122000e+03   \n",
       "75%     2019.000000     99.000000     3.000000      7.200000  6.373250e+03   \n",
       "max     2022.000000    549.000000    63.000000      9.900000  2.294231e+06   \n",
       "\n",
       "       tmdb_popularity    tmdb_score  \n",
       "count     24071.000000  21567.000000  \n",
       "mean         17.577640      6.456596  \n",
       "std          95.647613      1.408923  \n",
       "min           0.000011      0.500000  \n",
       "25%           1.821000      5.700000  \n",
       "50%           4.493000      6.500000  \n",
       "75%          12.130000      7.400000  \n",
       "max        9323.832000     10.000000  "
      ]
     },
     "execution_count": 898,
     "metadata": {},
     "output_type": "execute_result"
    }
   ],
   "source": [
    "\"\"\"\n",
    "각 계절마다 보는 영화나 쇼 \n",
    "런타임 긴 영화 순위 짧은 영화 순위 \n",
    "\n",
    "\"\"\"\n",
    "df.describe()\n"
   ]
  },
  {
   "cell_type": "code",
   "execution_count": 899,
   "id": "09cf5738",
   "metadata": {},
   "outputs": [
    {
     "data": {
      "text/html": [
       "<div>\n",
       "<style scoped>\n",
       "    .dataframe tbody tr th:only-of-type {\n",
       "        vertical-align: middle;\n",
       "    }\n",
       "\n",
       "    .dataframe tbody tr th {\n",
       "        vertical-align: top;\n",
       "    }\n",
       "\n",
       "    .dataframe thead th {\n",
       "        text-align: right;\n",
       "    }\n",
       "</style>\n",
       "<table border=\"1\" class=\"dataframe\">\n",
       "  <thead>\n",
       "    <tr style=\"text-align: right;\">\n",
       "      <th></th>\n",
       "      <th>release_year</th>\n",
       "      <th>runtime</th>\n",
       "      <th>seasons</th>\n",
       "      <th>imdb_score</th>\n",
       "      <th>imdb_votes</th>\n",
       "      <th>tmdb_popularity</th>\n",
       "      <th>tmdb_score</th>\n",
       "    </tr>\n",
       "  </thead>\n",
       "  <tbody>\n",
       "    <tr>\n",
       "      <th>release_year</th>\n",
       "      <td>1.000000</td>\n",
       "      <td>-0.030486</td>\n",
       "      <td>-0.439780</td>\n",
       "      <td>0.091987</td>\n",
       "      <td>0.007953</td>\n",
       "      <td>0.057579</td>\n",
       "      <td>0.205085</td>\n",
       "    </tr>\n",
       "    <tr>\n",
       "      <th>runtime</th>\n",
       "      <td>-0.030486</td>\n",
       "      <td>1.000000</td>\n",
       "      <td>0.001909</td>\n",
       "      <td>-0.199542</td>\n",
       "      <td>0.152910</td>\n",
       "      <td>-0.025257</td>\n",
       "      <td>-0.261446</td>\n",
       "    </tr>\n",
       "    <tr>\n",
       "      <th>seasons</th>\n",
       "      <td>-0.439780</td>\n",
       "      <td>0.001909</td>\n",
       "      <td>1.000000</td>\n",
       "      <td>0.016232</td>\n",
       "      <td>0.169241</td>\n",
       "      <td>0.087614</td>\n",
       "      <td>-0.044247</td>\n",
       "    </tr>\n",
       "    <tr>\n",
       "      <th>imdb_score</th>\n",
       "      <td>0.091987</td>\n",
       "      <td>-0.199542</td>\n",
       "      <td>0.016232</td>\n",
       "      <td>1.000000</td>\n",
       "      <td>0.202514</td>\n",
       "      <td>0.070895</td>\n",
       "      <td>0.617578</td>\n",
       "    </tr>\n",
       "    <tr>\n",
       "      <th>imdb_votes</th>\n",
       "      <td>0.007953</td>\n",
       "      <td>0.152910</td>\n",
       "      <td>0.169241</td>\n",
       "      <td>0.202514</td>\n",
       "      <td>1.000000</td>\n",
       "      <td>0.169403</td>\n",
       "      <td>0.148987</td>\n",
       "    </tr>\n",
       "    <tr>\n",
       "      <th>tmdb_popularity</th>\n",
       "      <td>0.057579</td>\n",
       "      <td>-0.025257</td>\n",
       "      <td>0.087614</td>\n",
       "      <td>0.070895</td>\n",
       "      <td>0.169403</td>\n",
       "      <td>1.000000</td>\n",
       "      <td>0.099467</td>\n",
       "    </tr>\n",
       "    <tr>\n",
       "      <th>tmdb_score</th>\n",
       "      <td>0.205085</td>\n",
       "      <td>-0.261446</td>\n",
       "      <td>-0.044247</td>\n",
       "      <td>0.617578</td>\n",
       "      <td>0.148987</td>\n",
       "      <td>0.099467</td>\n",
       "      <td>1.000000</td>\n",
       "    </tr>\n",
       "  </tbody>\n",
       "</table>\n",
       "</div>"
      ],
      "text/plain": [
       "                 release_year   runtime   seasons  imdb_score  imdb_votes  \\\n",
       "release_year         1.000000 -0.030486 -0.439780    0.091987    0.007953   \n",
       "runtime             -0.030486  1.000000  0.001909   -0.199542    0.152910   \n",
       "seasons             -0.439780  0.001909  1.000000    0.016232    0.169241   \n",
       "imdb_score           0.091987 -0.199542  0.016232    1.000000    0.202514   \n",
       "imdb_votes           0.007953  0.152910  0.169241    0.202514    1.000000   \n",
       "tmdb_popularity      0.057579 -0.025257  0.087614    0.070895    0.169403   \n",
       "tmdb_score           0.205085 -0.261446 -0.044247    0.617578    0.148987   \n",
       "\n",
       "                 tmdb_popularity  tmdb_score  \n",
       "release_year            0.057579    0.205085  \n",
       "runtime                -0.025257   -0.261446  \n",
       "seasons                 0.087614   -0.044247  \n",
       "imdb_score              0.070895    0.617578  \n",
       "imdb_votes              0.169403    0.148987  \n",
       "tmdb_popularity         1.000000    0.099467  \n",
       "tmdb_score              0.099467    1.000000  "
      ]
     },
     "execution_count": 899,
     "metadata": {},
     "output_type": "execute_result"
    }
   ],
   "source": [
    "df.corr()"
   ]
  },
  {
   "cell_type": "code",
   "execution_count": 900,
   "id": "08dba76e",
   "metadata": {
    "scrolled": false
   },
   "outputs": [
    {
     "data": {
      "image/png": "[encoded data removed]",
      "text/plain": [
       "<Figure size 432x288 with 1 Axes>"
      ]
     },
     "metadata": {
      "needs_background": "light"
     },
     "output_type": "display_data"
    }
   ],
   "source": [
    "# 각 플랫폼 영화 숫자 파악 \n",
    "#pokemon[\"Type 2\"].value_counts().plot(kind=\"bar\")\n",
    "#\"Count of records by Streaming Services\"\n",
    "\n",
    "df[\"platform\"].value_counts().plot(kind=\"bar\")\n",
    "plt.title(\"Count of records by Streaming Services\")\n",
    "plt.show()"
   ]
  },
  {
   "cell_type": "code",
   "execution_count": 901,
   "id": "7dfef835",
   "metadata": {},
   "outputs": [
    {
     "data": {
      "text/plain": [
       "<AxesSubplot:xlabel='tmdb_popularity', ylabel='Density'>"
      ]
     },
     "execution_count": 901,
     "metadata": {},
     "output_type": "execute_result"
    },
    {
     "data": {
      "image/png": "[encoded data removed]",
      "text/plain": [
       "<Figure size 432x288 with 1 Axes>"
      ]
     },
     "metadata": {
      "needs_background": "light"
     },
     "output_type": "display_data"
    }
   ],
   "source": [
    "\n",
    "# vote 시각화 해보기 \n",
    "sns.kdeplot(df[\"tmdb_popularity\"])"
   ]
  },
  {
   "cell_type": "code",
   "execution_count": 902,
   "id": "8ab57a04",
   "metadata": {},
   "outputs": [
    {
     "data": {
      "text/plain": [
       "(24877, 16)"
      ]
     },
     "execution_count": 902,
     "metadata": {},
     "output_type": "execute_result"
    }
   ],
   "source": [
    "df.shape"
   ]
  },
  {
   "cell_type": "code",
   "execution_count": 903,
   "id": "2f6d5195",
   "metadata": {
    "scrolled": false
   },
   "outputs": [
    {
     "data": {
      "text/html": [
       "<div>\n",
       "<style scoped>\n",
       "    .dataframe tbody tr th:only-of-type {\n",
       "        vertical-align: middle;\n",
       "    }\n",
       "\n",
       "    .dataframe tbody tr th {\n",
       "        vertical-align: top;\n",
       "    }\n",
       "\n",
       "    .dataframe thead th {\n",
       "        text-align: right;\n",
       "    }\n",
       "</style>\n",
       "<table border=\"1\" class=\"dataframe\">\n",
       "  <thead>\n",
       "    <tr style=\"text-align: right;\">\n",
       "      <th></th>\n",
       "      <th>id</th>\n",
       "      <th>title</th>\n",
       "      <th>type</th>\n",
       "      <th>description</th>\n",
       "      <th>release_year</th>\n",
       "      <th>age_certification</th>\n",
       "      <th>runtime</th>\n",
       "      <th>genres</th>\n",
       "      <th>production_countries</th>\n",
       "      <th>seasons</th>\n",
       "      <th>imdb_id</th>\n",
       "      <th>imdb_score</th>\n",
       "      <th>imdb_votes</th>\n",
       "      <th>tmdb_popularity</th>\n",
       "      <th>tmdb_score</th>\n",
       "      <th>platform</th>\n",
       "    </tr>\n",
       "  </thead>\n",
       "  <tbody>\n",
       "    <tr>\n",
       "      <th>672</th>\n",
       "      <td>tm582037</td>\n",
       "      <td>Ye Shang Hai</td>\n",
       "      <td>MOVIE</td>\n",
       "      <td>NaN</td>\n",
       "      <td>1941</td>\n",
       "      <td>NaN</td>\n",
       "      <td>62</td>\n",
       "      <td>['drama']</td>\n",
       "      <td>[]</td>\n",
       "      <td>NaN</td>\n",
       "      <td>tt3594666</td>\n",
       "      <td>NaN</td>\n",
       "      <td>NaN</td>\n",
       "      <td>NaN</td>\n",
       "      <td>NaN</td>\n",
       "      <td>AmazonPrime</td>\n",
       "    </tr>\n",
       "    <tr>\n",
       "      <th>731</th>\n",
       "      <td>tm686160</td>\n",
       "      <td>Peculiar Pets</td>\n",
       "      <td>MOVIE</td>\n",
       "      <td>In this documentary, we meet the families whom...</td>\n",
       "      <td>1921</td>\n",
       "      <td>NaN</td>\n",
       "      <td>47</td>\n",
       "      <td>['documentation']</td>\n",
       "      <td>[]</td>\n",
       "      <td>NaN</td>\n",
       "      <td>tt0981329</td>\n",
       "      <td>NaN</td>\n",
       "      <td>NaN</td>\n",
       "      <td>NaN</td>\n",
       "      <td>NaN</td>\n",
       "      <td>AmazonPrime</td>\n",
       "    </tr>\n",
       "    <tr>\n",
       "      <th>795</th>\n",
       "      <td>tm769632</td>\n",
       "      <td>Sri Valli</td>\n",
       "      <td>MOVIE</td>\n",
       "      <td>Valli, a tribal girl falls in love with Muruga...</td>\n",
       "      <td>1945</td>\n",
       "      <td>NaN</td>\n",
       "      <td>114</td>\n",
       "      <td>['drama']</td>\n",
       "      <td>[]</td>\n",
       "      <td>NaN</td>\n",
       "      <td>tt0240922</td>\n",
       "      <td>NaN</td>\n",
       "      <td>NaN</td>\n",
       "      <td>NaN</td>\n",
       "      <td>NaN</td>\n",
       "      <td>AmazonPrime</td>\n",
       "    </tr>\n",
       "    <tr>\n",
       "      <th>1661</th>\n",
       "      <td>tm544335</td>\n",
       "      <td>Dhonni Meye</td>\n",
       "      <td>MOVIE</td>\n",
       "      <td>NaN</td>\n",
       "      <td>1975</td>\n",
       "      <td>NaN</td>\n",
       "      <td>133</td>\n",
       "      <td>['drama']</td>\n",
       "      <td>[]</td>\n",
       "      <td>NaN</td>\n",
       "      <td>tt5526358</td>\n",
       "      <td>NaN</td>\n",
       "      <td>NaN</td>\n",
       "      <td>NaN</td>\n",
       "      <td>NaN</td>\n",
       "      <td>AmazonPrime</td>\n",
       "    </tr>\n",
       "    <tr>\n",
       "      <th>1664</th>\n",
       "      <td>tm539392</td>\n",
       "      <td>John Brown's Body</td>\n",
       "      <td>MOVIE</td>\n",
       "      <td>Television play based on the Pulitzer prize- w...</td>\n",
       "      <td>1962</td>\n",
       "      <td>NaN</td>\n",
       "      <td>90</td>\n",
       "      <td>['drama']</td>\n",
       "      <td>[]</td>\n",
       "      <td>NaN</td>\n",
       "      <td>tt5868054</td>\n",
       "      <td>NaN</td>\n",
       "      <td>NaN</td>\n",
       "      <td>NaN</td>\n",
       "      <td>NaN</td>\n",
       "      <td>AmazonPrime</td>\n",
       "    </tr>\n",
       "    <tr>\n",
       "      <th>...</th>\n",
       "      <td>...</td>\n",
       "      <td>...</td>\n",
       "      <td>...</td>\n",
       "      <td>...</td>\n",
       "      <td>...</td>\n",
       "      <td>...</td>\n",
       "      <td>...</td>\n",
       "      <td>...</td>\n",
       "      <td>...</td>\n",
       "      <td>...</td>\n",
       "      <td>...</td>\n",
       "      <td>...</td>\n",
       "      <td>...</td>\n",
       "      <td>...</td>\n",
       "      <td>...</td>\n",
       "      <td>...</td>\n",
       "    </tr>\n",
       "    <tr>\n",
       "      <th>24044</th>\n",
       "      <td>ts107355</td>\n",
       "      <td>pocket.watch HobbyKidsTV Ultimate mishmash</td>\n",
       "      <td>SHOW</td>\n",
       "      <td>NaN</td>\n",
       "      <td>2018</td>\n",
       "      <td>TV-G</td>\n",
       "      <td>9</td>\n",
       "      <td>['family']</td>\n",
       "      <td>['US']</td>\n",
       "      <td>1.0</td>\n",
       "      <td>tt8927760</td>\n",
       "      <td>NaN</td>\n",
       "      <td>NaN</td>\n",
       "      <td>NaN</td>\n",
       "      <td>NaN</td>\n",
       "      <td>Hulu</td>\n",
       "    </tr>\n",
       "    <tr>\n",
       "      <th>24045</th>\n",
       "      <td>ts107358</td>\n",
       "      <td>pocket.watch JillianTubeHD Ultimate mishmash</td>\n",
       "      <td>SHOW</td>\n",
       "      <td>JillianTubeHD is sharing her love of creative ...</td>\n",
       "      <td>2018</td>\n",
       "      <td>TV-G</td>\n",
       "      <td>17</td>\n",
       "      <td>['family']</td>\n",
       "      <td>['US']</td>\n",
       "      <td>1.0</td>\n",
       "      <td>tt8927812</td>\n",
       "      <td>NaN</td>\n",
       "      <td>NaN</td>\n",
       "      <td>NaN</td>\n",
       "      <td>NaN</td>\n",
       "      <td>Hulu</td>\n",
       "    </tr>\n",
       "    <tr>\n",
       "      <th>24599</th>\n",
       "      <td>tm1053160</td>\n",
       "      <td>Blippi's Snowflake Scavenger Hunt</td>\n",
       "      <td>MOVIE</td>\n",
       "      <td>Blippi embarks on an amazing holiday scavenger...</td>\n",
       "      <td>2020</td>\n",
       "      <td>NaN</td>\n",
       "      <td>52</td>\n",
       "      <td>[]</td>\n",
       "      <td>[]</td>\n",
       "      <td>NaN</td>\n",
       "      <td>tt14296338</td>\n",
       "      <td>NaN</td>\n",
       "      <td>NaN</td>\n",
       "      <td>NaN</td>\n",
       "      <td>NaN</td>\n",
       "      <td>Hulu</td>\n",
       "    </tr>\n",
       "    <tr>\n",
       "      <th>24602</th>\n",
       "      <td>ts265434</td>\n",
       "      <td>Jillian's Mystery Craft Box by pocket.watch</td>\n",
       "      <td>SHOW</td>\n",
       "      <td>NaN</td>\n",
       "      <td>2020</td>\n",
       "      <td>NaN</td>\n",
       "      <td>13</td>\n",
       "      <td>['family']</td>\n",
       "      <td>[]</td>\n",
       "      <td>1.0</td>\n",
       "      <td>tt12670014</td>\n",
       "      <td>NaN</td>\n",
       "      <td>NaN</td>\n",
       "      <td>NaN</td>\n",
       "      <td>NaN</td>\n",
       "      <td>Hulu</td>\n",
       "    </tr>\n",
       "    <tr>\n",
       "      <th>24869</th>\n",
       "      <td>tm1105348</td>\n",
       "      <td>Blippi Summer Games</td>\n",
       "      <td>MOVIE</td>\n",
       "      <td>NaN</td>\n",
       "      <td>2021</td>\n",
       "      <td>NaN</td>\n",
       "      <td>40</td>\n",
       "      <td>['family']</td>\n",
       "      <td>[]</td>\n",
       "      <td>NaN</td>\n",
       "      <td>tt15385774</td>\n",
       "      <td>NaN</td>\n",
       "      <td>NaN</td>\n",
       "      <td>NaN</td>\n",
       "      <td>NaN</td>\n",
       "      <td>Hulu</td>\n",
       "    </tr>\n",
       "  </tbody>\n",
       "</table>\n",
       "<p>294 rows × 16 columns</p>\n",
       "</div>"
      ],
      "text/plain": [
       "              id                                         title   type  \\\n",
       "672     tm582037                                  Ye Shang Hai  MOVIE   \n",
       "731     tm686160                                 Peculiar Pets  MOVIE   \n",
       "795     tm769632                                     Sri Valli  MOVIE   \n",
       "1661    tm544335                                   Dhonni Meye  MOVIE   \n",
       "1664    tm539392                             John Brown's Body  MOVIE   \n",
       "...          ...                                           ...    ...   \n",
       "24044   ts107355    pocket.watch HobbyKidsTV Ultimate mishmash   SHOW   \n",
       "24045   ts107358  pocket.watch JillianTubeHD Ultimate mishmash   SHOW   \n",
       "24599  tm1053160             Blippi's Snowflake Scavenger Hunt  MOVIE   \n",
       "24602   ts265434   Jillian's Mystery Craft Box by pocket.watch   SHOW   \n",
       "24869  tm1105348                           Blippi Summer Games  MOVIE   \n",
       "\n",
       "                                             description  release_year  \\\n",
       "672                                                  NaN          1941   \n",
       "731    In this documentary, we meet the families whom...          1921   \n",
       "795    Valli, a tribal girl falls in love with Muruga...          1945   \n",
       "1661                                                 NaN          1975   \n",
       "1664   Television play based on the Pulitzer prize- w...          1962   \n",
       "...                                                  ...           ...   \n",
       "24044                                                NaN          2018   \n",
       "24045  JillianTubeHD is sharing her love of creative ...          2018   \n",
       "24599  Blippi embarks on an amazing holiday scavenger...          2020   \n",
       "24602                                                NaN          2020   \n",
       "24869                                                NaN          2021   \n",
       "\n",
       "      age_certification  runtime             genres production_countries  \\\n",
       "672                 NaN       62          ['drama']                   []   \n",
       "731                 NaN       47  ['documentation']                   []   \n",
       "795                 NaN      114          ['drama']                   []   \n",
       "1661                NaN      133          ['drama']                   []   \n",
       "1664                NaN       90          ['drama']                   []   \n",
       "...                 ...      ...                ...                  ...   \n",
       "24044              TV-G        9         ['family']               ['US']   \n",
       "24045              TV-G       17         ['family']               ['US']   \n",
       "24599               NaN       52                 []                   []   \n",
       "24602               NaN       13         ['family']                   []   \n",
       "24869               NaN       40         ['family']                   []   \n",
       "\n",
       "       seasons     imdb_id  imdb_score  imdb_votes  tmdb_popularity  \\\n",
       "672        NaN   tt3594666         NaN         NaN              NaN   \n",
       "731        NaN   tt0981329         NaN         NaN              NaN   \n",
       "795        NaN   tt0240922         NaN         NaN              NaN   \n",
       "1661       NaN   tt5526358         NaN         NaN              NaN   \n",
       "1664       NaN   tt5868054         NaN         NaN              NaN   \n",
       "...        ...         ...         ...         ...              ...   \n",
       "24044      1.0   tt8927760         NaN         NaN              NaN   \n",
       "24045      1.0   tt8927812         NaN         NaN              NaN   \n",
       "24599      NaN  tt14296338         NaN         NaN              NaN   \n",
       "24602      1.0  tt12670014         NaN         NaN              NaN   \n",
       "24869      NaN  tt15385774         NaN         NaN              NaN   \n",
       "\n",
       "       tmdb_score     platform  \n",
       "672           NaN  AmazonPrime  \n",
       "731           NaN  AmazonPrime  \n",
       "795           NaN  AmazonPrime  \n",
       "1661          NaN  AmazonPrime  \n",
       "1664          NaN  AmazonPrime  \n",
       "...           ...          ...  \n",
       "24044         NaN         Hulu  \n",
       "24045         NaN         Hulu  \n",
       "24599         NaN         Hulu  \n",
       "24602         NaN         Hulu  \n",
       "24869         NaN         Hulu  \n",
       "\n",
       "[294 rows x 16 columns]"
      ]
     },
     "execution_count": 903,
     "metadata": {},
     "output_type": "execute_result"
    }
   ],
   "source": [
    "# 4개 모두 만족 확인 \n",
    "df[(df[\"imdb_votes\"].isna()==True)&(df[\"imdb_score\"].isna()==True)&(df[\"tmdb_popularity\"].isna()==True)&(df[\"tmdb_score\"].isna()==True)]\n"
   ]
  },
  {
   "cell_type": "code",
   "execution_count": 904,
   "id": "b0baae1a",
   "metadata": {},
   "outputs": [],
   "source": [
    "# 4개 만족하는거 drop하기 \n",
    "index_drop=df[(df[\"imdb_votes\"].isna()==True)&(df[\"imdb_score\"].isna()==True)&(df[\"tmdb_popularity\"].isna()==True)&(df[\"tmdb_score\"].isna()==True)].index\n",
    "df.drop(index_drop,inplace=True)\n",
    "\n"
   ]
  },
  {
   "cell_type": "code",
   "execution_count": 905,
   "id": "4413292b",
   "metadata": {},
   "outputs": [
    {
     "data": {
      "text/plain": [
       "(24583, 16)"
      ]
     },
     "execution_count": 905,
     "metadata": {},
     "output_type": "execute_result"
    }
   ],
   "source": [
    "df.shape"
   ]
  },
  {
   "cell_type": "code",
   "execution_count": 906,
   "id": "870f877a",
   "metadata": {},
   "outputs": [
    {
     "data": {
      "text/plain": [
       "id                                                                 ts7844\n",
       "title                                                 Doogie Howser, M.D.\n",
       "type                                                                 SHOW\n",
       "description             Doogie Howser, M.D. is an American television ...\n",
       "release_year                                                         1989\n",
       "age_certification                                                     NaN\n",
       "runtime                                                                23\n",
       "genres                                      ['comedy', 'drama', 'family']\n",
       "production_countries                                               ['US']\n",
       "seasons                                                               4.0\n",
       "imdb_id                                                         tt0096569\n",
       "imdb_score                                                            6.5\n",
       "imdb_votes                                                         8779.0\n",
       "tmdb_popularity                                                      9.35\n",
       "tmdb_score                                                            6.8\n",
       "platform                                                              HBO\n",
       "Name: 20133, dtype: object"
      ]
     },
     "execution_count": 906,
     "metadata": {},
     "output_type": "execute_result"
    }
   ],
   "source": [
    "df.loc[20133]"
   ]
  },
  {
   "cell_type": "code",
   "execution_count": 907,
   "id": "6d25b7b1",
   "metadata": {
    "scrolled": false
   },
   "outputs": [
    {
     "data": {
      "text/plain": [
       "id                          0\n",
       "title                       0\n",
       "type                        0\n",
       "description                87\n",
       "release_year                0\n",
       "age_certification       12076\n",
       "runtime                     0\n",
       "genres                      0\n",
       "production_countries        0\n",
       "seasons                 17516\n",
       "imdb_id                  1890\n",
       "imdb_score               2180\n",
       "imdb_votes               2211\n",
       "tmdb_popularity           512\n",
       "tmdb_score               3016\n",
       "platform                    0\n",
       "dtype: int64"
      ]
     },
     "execution_count": 907,
     "metadata": {},
     "output_type": "execute_result"
    }
   ],
   "source": [
    "# 결측치 확인 \n",
    "df.isnull().sum()"
   ]
  },
  {
   "cell_type": "code",
   "execution_count": null,
   "id": "cbc00ac2",
   "metadata": {},
   "outputs": [],
   "source": []
  },
  {
   "cell_type": "code",
   "execution_count": 908,
   "id": "f0657cb3",
   "metadata": {},
   "outputs": [
    {
     "name": "stdout",
     "output_type": "stream",
     "text": [
      "['TV-PG' nan 'PG' 'G' 'PG-13' 'R' 'TV-G' 'TV-Y' 'TV-14' 'NC-17' 'TV-Y7'\n",
      " 'TV-MA']\n"
     ]
    }
   ],
   "source": [
    "# title 결측치 삭제 하기 \n",
    "df = df[~df[\"title\"].isnull()]\n",
    "\n",
    "\n",
    "# age_certification 결측치 없에기 \n",
    "\n",
    "print(df[\"age_certification\"].unique())\n",
    "df[\"age_certification\"].fillna(\"Not Rated\",inplace=True)\n",
    "\n",
    "# seasons의 nan은 0으로 하기 \n",
    "df[\"seasons\"].fillna(0,inplace=True)\n",
    "\n",
    "\n",
    "#나머지 결측치는 평균값으로 하기 \n",
    "df[\"imdb_score\"].fillna(df[\"imdb_score\"].mean(),inplace=True)\n",
    "df[\"imdb_votes\"].fillna(df[\"imdb_votes\"].mode()[0],inplace=True)\n",
    "df[\"tmdb_popularity\"].fillna(df[\"tmdb_popularity\"].mode()[0],inplace=True)\n",
    "df[\"tmdb_score\"].fillna(df[\"tmdb_score\"].mean(),inplace=True)\n"
   ]
  },
  {
   "cell_type": "code",
   "execution_count": 909,
   "id": "7f08f46f",
   "metadata": {
    "scrolled": false
   },
   "outputs": [
    {
     "data": {
      "text/plain": [
       "id                         0\n",
       "title                      0\n",
       "type                       0\n",
       "description               87\n",
       "release_year               0\n",
       "age_certification          0\n",
       "runtime                    0\n",
       "genres                     0\n",
       "production_countries       0\n",
       "seasons                    0\n",
       "imdb_id                 1890\n",
       "imdb_score                 0\n",
       "imdb_votes                 0\n",
       "tmdb_popularity            0\n",
       "tmdb_score                 0\n",
       "platform                   0\n",
       "dtype: int64"
      ]
     },
     "execution_count": 909,
     "metadata": {},
     "output_type": "execute_result"
    }
   ],
   "source": [
    "# 결측치 확인 \n",
    "df.isnull().sum()"
   ]
  },
  {
   "cell_type": "code",
   "execution_count": 910,
   "id": "25b92055",
   "metadata": {},
   "outputs": [
    {
     "data": {
      "text/html": [
       "<div>\n",
       "<style scoped>\n",
       "    .dataframe tbody tr th:only-of-type {\n",
       "        vertical-align: middle;\n",
       "    }\n",
       "\n",
       "    .dataframe tbody tr th {\n",
       "        vertical-align: top;\n",
       "    }\n",
       "\n",
       "    .dataframe thead th {\n",
       "        text-align: right;\n",
       "    }\n",
       "</style>\n",
       "<table border=\"1\" class=\"dataframe\">\n",
       "  <thead>\n",
       "    <tr style=\"text-align: right;\">\n",
       "      <th></th>\n",
       "      <th>id</th>\n",
       "      <th>title</th>\n",
       "      <th>type</th>\n",
       "      <th>description</th>\n",
       "      <th>release_year</th>\n",
       "      <th>age_certification</th>\n",
       "      <th>runtime</th>\n",
       "      <th>genres</th>\n",
       "      <th>production_countries</th>\n",
       "      <th>seasons</th>\n",
       "      <th>imdb_id</th>\n",
       "      <th>imdb_score</th>\n",
       "      <th>imdb_votes</th>\n",
       "      <th>tmdb_popularity</th>\n",
       "      <th>tmdb_score</th>\n",
       "      <th>platform</th>\n",
       "    </tr>\n",
       "  </thead>\n",
       "  <tbody>\n",
       "    <tr>\n",
       "      <th>22477</th>\n",
       "      <td>tm1018386</td>\n",
       "      <td>The United States vs. Billie Holiday Special: ...</td>\n",
       "      <td>MOVIE</td>\n",
       "      <td>A conversation moderated by Oprah Winfrey with...</td>\n",
       "      <td>2021</td>\n",
       "      <td>Not Rated</td>\n",
       "      <td>45</td>\n",
       "      <td>['drama']</td>\n",
       "      <td>['US']</td>\n",
       "      <td>0.0</td>\n",
       "      <td>NaN</td>\n",
       "      <td>6.287323</td>\n",
       "      <td>8.0</td>\n",
       "      <td>1.4</td>\n",
       "      <td>9.0</td>\n",
       "      <td>HBO</td>\n",
       "    </tr>\n",
       "    <tr>\n",
       "      <th>24875</th>\n",
       "      <td>tm1018386</td>\n",
       "      <td>The United States vs. Billie Holiday Special: ...</td>\n",
       "      <td>MOVIE</td>\n",
       "      <td>A conversation moderated by Oprah Winfrey with...</td>\n",
       "      <td>2021</td>\n",
       "      <td>Not Rated</td>\n",
       "      <td>45</td>\n",
       "      <td>['drama']</td>\n",
       "      <td>['US']</td>\n",
       "      <td>0.0</td>\n",
       "      <td>NaN</td>\n",
       "      <td>6.287323</td>\n",
       "      <td>8.0</td>\n",
       "      <td>1.4</td>\n",
       "      <td>9.0</td>\n",
       "      <td>Hulu</td>\n",
       "    </tr>\n",
       "  </tbody>\n",
       "</table>\n",
       "</div>"
      ],
      "text/plain": [
       "              id                                              title   type  \\\n",
       "22477  tm1018386  The United States vs. Billie Holiday Special: ...  MOVIE   \n",
       "24875  tm1018386  The United States vs. Billie Holiday Special: ...  MOVIE   \n",
       "\n",
       "                                             description  release_year  \\\n",
       "22477  A conversation moderated by Oprah Winfrey with...          2021   \n",
       "24875  A conversation moderated by Oprah Winfrey with...          2021   \n",
       "\n",
       "      age_certification  runtime     genres production_countries  seasons  \\\n",
       "22477         Not Rated       45  ['drama']               ['US']      0.0   \n",
       "24875         Not Rated       45  ['drama']               ['US']      0.0   \n",
       "\n",
       "      imdb_id  imdb_score  imdb_votes  tmdb_popularity  tmdb_score platform  \n",
       "22477     NaN    6.287323         8.0              1.4         9.0      HBO  \n",
       "24875     NaN    6.287323         8.0              1.4         9.0     Hulu  "
      ]
     },
     "execution_count": 910,
     "metadata": {},
     "output_type": "execute_result"
    }
   ],
   "source": [
    "df[df[\"id\"]==\"tm1018386\"]"
   ]
  },
  {
   "cell_type": "code",
   "execution_count": 911,
   "id": "fed361ee",
   "metadata": {
    "scrolled": true
   },
   "outputs": [],
   "source": [
    "#drop_id_idx=(df[(df[\"imdb_id\"].isna()==True)][\"title\"].duplicated()).index\n",
    "\n",
    "#id_drop = (df[(df[\"imdb_id\"].isna()==True)][\"title\"].duplicated())\n"
   ]
  },
  {
   "cell_type": "code",
   "execution_count": 912,
   "id": "3f836e58",
   "metadata": {
    "scrolled": true
   },
   "outputs": [
    {
     "data": {
      "text/plain": [
       "id\n",
       "tm1                        Disney\n",
       "tm100001     AmazonPrimeParamount\n",
       "tm1000022             AmazonPrime\n",
       "tm1000037                 Netflix\n",
       "tm1000070                 HBOHulu\n",
       "                     ...         \n",
       "ts99532                 Paramount\n",
       "ts99533                 Paramount\n",
       "ts99534                 Paramount\n",
       "ts99535                 Paramount\n",
       "ts99814                   Netflix\n",
       "Name: platform, Length: 20133, dtype: object"
      ]
     },
     "execution_count": 912,
     "metadata": {},
     "output_type": "execute_result"
    }
   ],
   "source": [
    "\n",
    "\"\"\"\n",
    "행 추가\n",
    "id 같은거 하나 삭제 하고 플랫폼 합치기 \n",
    "-> 같은 이름의 타이틀 제거 가능\n",
    "\n",
    "근데 id가 결측치인데 타이틀 같은거는 어떻게 하냐> 일단 위에 꺼 하고 난다음 진행하시죠 \n",
    "\"\"\"\n",
    "\n",
    "g = df[\"platform\"].groupby(df[\"id\"]).sum()\n",
    "g\n",
    "#for i in D.columns:\n",
    " #   df.[\"imdb_id\"][str(i)] = g[i]"
   ]
  },
  {
   "cell_type": "code",
   "execution_count": null,
   "id": "533bf160",
   "metadata": {},
   "outputs": [],
   "source": []
  },
  {
   "cell_type": "code",
   "execution_count": 913,
   "id": "ad550cc4",
   "metadata": {
    "scrolled": true
   },
   "outputs": [],
   "source": [
    "df.drop_duplicates(subset=[\"id\"],inplace=True)\n"
   ]
  },
  {
   "cell_type": "code",
   "execution_count": 914,
   "id": "b6e4d804",
   "metadata": {
    "scrolled": true
   },
   "outputs": [
    {
     "data": {
      "text/plain": [
       "(20133, 16)"
      ]
     },
     "execution_count": 914,
     "metadata": {},
     "output_type": "execute_result"
    }
   ],
   "source": [
    "df.shape # 줄어든거 확인 "
   ]
  },
  {
   "cell_type": "code",
   "execution_count": 915,
   "id": "0007cb26",
   "metadata": {
    "scrolled": true
   },
   "outputs": [
    {
     "data": {
      "text/plain": [
       "20133"
      ]
     },
     "execution_count": 915,
     "metadata": {},
     "output_type": "execute_result"
    }
   ],
   "source": [
    "g.shape[0]"
   ]
  },
  {
   "cell_type": "code",
   "execution_count": 916,
   "id": "425c98ac",
   "metadata": {},
   "outputs": [
    {
     "data": {
      "text/plain": [
       "0                      Disney\n",
       "1        AmazonPrimeParamount\n",
       "2                 AmazonPrime\n",
       "3                     Netflix\n",
       "4                     HBOHulu\n",
       "                 ...         \n",
       "20128               Paramount\n",
       "20129               Paramount\n",
       "20130               Paramount\n",
       "20131               Paramount\n",
       "20132                 Netflix\n",
       "Name: platform, Length: 20133, dtype: object"
      ]
     },
     "execution_count": 916,
     "metadata": {},
     "output_type": "execute_result"
    }
   ],
   "source": [
    "g=g.reset_index()\n",
    "g[\"platform\"]"
   ]
  },
  {
   "cell_type": "code",
   "execution_count": 917,
   "id": "3c4504b2",
   "metadata": {},
   "outputs": [
    {
     "data": {
      "text/plain": [
       "id                         0\n",
       "title                      0\n",
       "type                       0\n",
       "description               83\n",
       "release_year               0\n",
       "age_certification          0\n",
       "runtime                    0\n",
       "genres                     0\n",
       "production_countries       0\n",
       "seasons                    0\n",
       "imdb_id                 1707\n",
       "imdb_score                 0\n",
       "imdb_votes                 0\n",
       "tmdb_popularity            0\n",
       "tmdb_score                 0\n",
       "platform                   0\n",
       "dtype: int64"
      ]
     },
     "execution_count": 917,
     "metadata": {},
     "output_type": "execute_result"
    }
   ],
   "source": [
    "df.isnull().sum()"
   ]
  },
  {
   "cell_type": "code",
   "execution_count": 918,
   "id": "214424bf",
   "metadata": {
    "scrolled": true
   },
   "outputs": [],
   "source": [
    "#df[\"platform\"] = g\n",
    "\n",
    "df[\"platform\"] = g[\"platform\"]"
   ]
  },
  {
   "cell_type": "code",
   "execution_count": 919,
   "id": "8350b677",
   "metadata": {},
   "outputs": [
    {
     "data": {
      "text/html": [
       "<div>\n",
       "<style scoped>\n",
       "    .dataframe tbody tr th:only-of-type {\n",
       "        vertical-align: middle;\n",
       "    }\n",
       "\n",
       "    .dataframe tbody tr th {\n",
       "        vertical-align: top;\n",
       "    }\n",
       "\n",
       "    .dataframe thead th {\n",
       "        text-align: right;\n",
       "    }\n",
       "</style>\n",
       "<table border=\"1\" class=\"dataframe\">\n",
       "  <thead>\n",
       "    <tr style=\"text-align: right;\">\n",
       "      <th></th>\n",
       "      <th>id</th>\n",
       "      <th>title</th>\n",
       "      <th>type</th>\n",
       "      <th>description</th>\n",
       "      <th>release_year</th>\n",
       "      <th>age_certification</th>\n",
       "      <th>runtime</th>\n",
       "      <th>genres</th>\n",
       "      <th>production_countries</th>\n",
       "      <th>seasons</th>\n",
       "      <th>imdb_id</th>\n",
       "      <th>imdb_score</th>\n",
       "      <th>imdb_votes</th>\n",
       "      <th>tmdb_popularity</th>\n",
       "      <th>tmdb_score</th>\n",
       "      <th>platform</th>\n",
       "    </tr>\n",
       "  </thead>\n",
       "  <tbody>\n",
       "    <tr>\n",
       "      <th>0</th>\n",
       "      <td>ts20945</td>\n",
       "      <td>The Three Stooges</td>\n",
       "      <td>SHOW</td>\n",
       "      <td>The Three Stooges were an American vaudeville ...</td>\n",
       "      <td>1934</td>\n",
       "      <td>TV-PG</td>\n",
       "      <td>19</td>\n",
       "      <td>['comedy', 'family', 'animation', 'action', 'f...</td>\n",
       "      <td>['US']</td>\n",
       "      <td>26.0</td>\n",
       "      <td>tt0850645</td>\n",
       "      <td>8.6</td>\n",
       "      <td>1092.0</td>\n",
       "      <td>15.424</td>\n",
       "      <td>7.6</td>\n",
       "      <td>Disney</td>\n",
       "    </tr>\n",
       "    <tr>\n",
       "      <th>1</th>\n",
       "      <td>tm19248</td>\n",
       "      <td>The General</td>\n",
       "      <td>MOVIE</td>\n",
       "      <td>During America’s Civil War, Union spies steal ...</td>\n",
       "      <td>1926</td>\n",
       "      <td>Not Rated</td>\n",
       "      <td>78</td>\n",
       "      <td>['action', 'drama', 'war', 'western', 'comedy'...</td>\n",
       "      <td>['US']</td>\n",
       "      <td>0.0</td>\n",
       "      <td>tt0017925</td>\n",
       "      <td>8.2</td>\n",
       "      <td>89766.0</td>\n",
       "      <td>8.647</td>\n",
       "      <td>8.0</td>\n",
       "      <td>AmazonPrimeParamount</td>\n",
       "    </tr>\n",
       "    <tr>\n",
       "      <th>2</th>\n",
       "      <td>tm82253</td>\n",
       "      <td>The Best Years of Our Lives</td>\n",
       "      <td>MOVIE</td>\n",
       "      <td>It's the hope that sustains the spirit of ever...</td>\n",
       "      <td>1946</td>\n",
       "      <td>Not Rated</td>\n",
       "      <td>171</td>\n",
       "      <td>['romance', 'war', 'drama']</td>\n",
       "      <td>['US']</td>\n",
       "      <td>0.0</td>\n",
       "      <td>tt0036868</td>\n",
       "      <td>8.1</td>\n",
       "      <td>63026.0</td>\n",
       "      <td>8.435</td>\n",
       "      <td>7.8</td>\n",
       "      <td>AmazonPrime</td>\n",
       "    </tr>\n",
       "    <tr>\n",
       "      <th>3</th>\n",
       "      <td>tm83884</td>\n",
       "      <td>His Girl Friday</td>\n",
       "      <td>MOVIE</td>\n",
       "      <td>Hildy, the journalist former wife of newspaper...</td>\n",
       "      <td>1940</td>\n",
       "      <td>Not Rated</td>\n",
       "      <td>92</td>\n",
       "      <td>['comedy', 'drama', 'romance']</td>\n",
       "      <td>['US']</td>\n",
       "      <td>0.0</td>\n",
       "      <td>tt0032599</td>\n",
       "      <td>7.8</td>\n",
       "      <td>57835.0</td>\n",
       "      <td>11.270</td>\n",
       "      <td>7.4</td>\n",
       "      <td>Netflix</td>\n",
       "    </tr>\n",
       "    <tr>\n",
       "      <th>4</th>\n",
       "      <td>tm56584</td>\n",
       "      <td>In a Lonely Place</td>\n",
       "      <td>MOVIE</td>\n",
       "      <td>An aspiring actress begins to suspect that her...</td>\n",
       "      <td>1950</td>\n",
       "      <td>Not Rated</td>\n",
       "      <td>94</td>\n",
       "      <td>['thriller', 'drama', 'romance']</td>\n",
       "      <td>['US']</td>\n",
       "      <td>0.0</td>\n",
       "      <td>tt0042593</td>\n",
       "      <td>7.9</td>\n",
       "      <td>30924.0</td>\n",
       "      <td>8.273</td>\n",
       "      <td>7.6</td>\n",
       "      <td>HBOHulu</td>\n",
       "    </tr>\n",
       "  </tbody>\n",
       "</table>\n",
       "</div>"
      ],
      "text/plain": [
       "        id                        title   type  \\\n",
       "0  ts20945            The Three Stooges   SHOW   \n",
       "1  tm19248                  The General  MOVIE   \n",
       "2  tm82253  The Best Years of Our Lives  MOVIE   \n",
       "3  tm83884              His Girl Friday  MOVIE   \n",
       "4  tm56584            In a Lonely Place  MOVIE   \n",
       "\n",
       "                                         description  release_year  \\\n",
       "0  The Three Stooges were an American vaudeville ...          1934   \n",
       "1  During America’s Civil War, Union spies steal ...          1926   \n",
       "2  It's the hope that sustains the spirit of ever...          1946   \n",
       "3  Hildy, the journalist former wife of newspaper...          1940   \n",
       "4  An aspiring actress begins to suspect that her...          1950   \n",
       "\n",
       "  age_certification  runtime  \\\n",
       "0             TV-PG       19   \n",
       "1         Not Rated       78   \n",
       "2         Not Rated      171   \n",
       "3         Not Rated       92   \n",
       "4         Not Rated       94   \n",
       "\n",
       "                                              genres production_countries  \\\n",
       "0  ['comedy', 'family', 'animation', 'action', 'f...               ['US']   \n",
       "1  ['action', 'drama', 'war', 'western', 'comedy'...               ['US']   \n",
       "2                        ['romance', 'war', 'drama']               ['US']   \n",
       "3                     ['comedy', 'drama', 'romance']               ['US']   \n",
       "4                   ['thriller', 'drama', 'romance']               ['US']   \n",
       "\n",
       "   seasons    imdb_id  imdb_score  imdb_votes  tmdb_popularity  tmdb_score  \\\n",
       "0     26.0  tt0850645         8.6      1092.0           15.424         7.6   \n",
       "1      0.0  tt0017925         8.2     89766.0            8.647         8.0   \n",
       "2      0.0  tt0036868         8.1     63026.0            8.435         7.8   \n",
       "3      0.0  tt0032599         7.8     57835.0           11.270         7.4   \n",
       "4      0.0  tt0042593         7.9     30924.0            8.273         7.6   \n",
       "\n",
       "               platform  \n",
       "0                Disney  \n",
       "1  AmazonPrimeParamount  \n",
       "2           AmazonPrime  \n",
       "3               Netflix  \n",
       "4               HBOHulu  "
      ]
     },
     "execution_count": 919,
     "metadata": {},
     "output_type": "execute_result"
    }
   ],
   "source": [
    "df.head()"
   ]
  },
  {
   "cell_type": "code",
   "execution_count": null,
   "id": "30673caa",
   "metadata": {},
   "outputs": [],
   "source": []
  },
  {
   "cell_type": "code",
   "execution_count": 920,
   "id": "c295e668",
   "metadata": {
    "scrolled": true
   },
   "outputs": [
    {
     "data": {
      "text/plain": [
       "id                       object\n",
       "title                    object\n",
       "type                     object\n",
       "description              object\n",
       "release_year              int64\n",
       "age_certification        object\n",
       "runtime                   int64\n",
       "genres                   object\n",
       "production_countries     object\n",
       "seasons                 float64\n",
       "imdb_id                  object\n",
       "imdb_score              float64\n",
       "imdb_votes              float64\n",
       "tmdb_popularity         float64\n",
       "tmdb_score              float64\n",
       "platform                 object\n",
       "dtype: object"
      ]
     },
     "execution_count": 920,
     "metadata": {},
     "output_type": "execute_result"
    }
   ],
   "source": [
    "df.dtypes\n",
    "\n"
   ]
  },
  {
   "cell_type": "code",
   "execution_count": 921,
   "id": "fc63f6d1",
   "metadata": {},
   "outputs": [
    {
     "data": {
      "text/plain": [
       "(20133, 16)"
      ]
     },
     "execution_count": 921,
     "metadata": {},
     "output_type": "execute_result"
    }
   ],
   "source": [
    "df.shape"
   ]
  },
  {
   "cell_type": "code",
   "execution_count": 922,
   "id": "9db5d9eb",
   "metadata": {},
   "outputs": [],
   "source": [
    "idx=df[df[\"platform\"].isna()==True].index\n",
    "\n",
    "df.drop(idx,inplace=True)"
   ]
  },
  {
   "cell_type": "code",
   "execution_count": null,
   "id": "e242c506",
   "metadata": {},
   "outputs": [],
   "source": []
  },
  {
   "cell_type": "code",
   "execution_count": null,
   "id": "9d2e1d44",
   "metadata": {},
   "outputs": [],
   "source": []
  },
  {
   "cell_type": "code",
   "execution_count": null,
   "id": "92b4accf",
   "metadata": {},
   "outputs": [],
   "source": []
  },
  {
   "cell_type": "code",
   "execution_count": null,
   "id": "d40faec2",
   "metadata": {},
   "outputs": [],
   "source": []
  },
  {
   "cell_type": "code",
   "execution_count": 923,
   "id": "bb3a53d4",
   "metadata": {},
   "outputs": [],
   "source": [
    "M=df[\"imdb_votes\"].quantile(0.95)"
   ]
  },
  {
   "cell_type": "code",
   "execution_count": 924,
   "id": "06a3cbc9",
   "metadata": {},
   "outputs": [],
   "source": [
    "C=df[\"imdb_score\"].mean()"
   ]
  },
  {
   "cell_type": "code",
   "execution_count": 925,
   "id": "327519cb",
   "metadata": {},
   "outputs": [],
   "source": [
    "\n",
    "#imdb_pop 계산 \n",
    "\n",
    "\n",
    "df[\"imdb_pop\"] = (df[\"imdb_votes\"]/(df[\"imdb_votes\"]+M))*df[\"imdb_score\"] +(M/(df[\"imdb_votes\"]+M))*C\n",
    "\n",
    "\n"
   ]
  },
  {
   "cell_type": "code",
   "execution_count": 926,
   "id": "e44402b2",
   "metadata": {},
   "outputs": [
    {
     "data": {
      "text/plain": [
       "(18068, 17)"
      ]
     },
     "execution_count": 926,
     "metadata": {},
     "output_type": "execute_result"
    }
   ],
   "source": [
    "df.shape"
   ]
  },
  {
   "cell_type": "code",
   "execution_count": 927,
   "id": "04578605",
   "metadata": {},
   "outputs": [
    {
     "data": {
      "text/plain": [
       "id                         0\n",
       "title                      0\n",
       "type                       0\n",
       "description               79\n",
       "release_year               0\n",
       "age_certification          0\n",
       "runtime                    0\n",
       "genres                     0\n",
       "production_countries       0\n",
       "seasons                    0\n",
       "imdb_id                 1579\n",
       "imdb_score                 0\n",
       "imdb_votes                 0\n",
       "tmdb_popularity            0\n",
       "tmdb_score                 0\n",
       "platform                   0\n",
       "imdb_pop                   0\n",
       "dtype: int64"
      ]
     },
     "execution_count": 927,
     "metadata": {},
     "output_type": "execute_result"
    }
   ],
   "source": [
    "df.isnull().sum()"
   ]
  },
  {
   "cell_type": "code",
   "execution_count": 928,
   "id": "370a5699",
   "metadata": {},
   "outputs": [],
   "source": [
    "#normalization_df_imdb_score=(df[\"imdb_score\"]-df[\"imdb_score\"].min())/(df[\"imdb_score\"].max()-df[\"imdb_score\"].min())\n",
    "#noraml_imdb_votes=(df[\"imdb_votes\"]-df[\"imdb_votes\"].min())/(df[\"imdb_votes\"].max()-df[\"imdb_votes\"].min())\n",
    "\n",
    "\n",
    "#df[\"imdb_scor_nor\"] = normalization_df_imdb_score\n",
    "#df[\"imdb_vote_nor\"]=noraml_imdb_votes"
   ]
  },
  {
   "cell_type": "code",
   "execution_count": 929,
   "id": "dc65c35a",
   "metadata": {
    "scrolled": true
   },
   "outputs": [
    {
     "data": {
      "text/plain": [
       "(18068, 17)"
      ]
     },
     "execution_count": 929,
     "metadata": {},
     "output_type": "execute_result"
    }
   ],
   "source": [
    "df.shape"
   ]
  },
  {
   "cell_type": "code",
   "execution_count": 930,
   "id": "6fcc6a2b",
   "metadata": {},
   "outputs": [
    {
     "data": {
      "text/plain": [
       "<Figure size 864x720 with 0 Axes>"
      ]
     },
     "execution_count": 930,
     "metadata": {},
     "output_type": "execute_result"
    },
    {
     "data": {
      "text/plain": [
       "<Figure size 864x720 with 0 Axes>"
      ]
     },
     "metadata": {},
     "output_type": "display_data"
    }
   ],
   "source": [
    "plt.figure(figsize=(12,10))\n",
    "#sns.scatterplot(data=df,x=\"imdb_score\",y=\"imdb_votes\",hue=\"imdb_pop_nor\")"
   ]
  },
  {
   "cell_type": "markdown",
   "id": "25e4288c",
   "metadata": {},
   "source": [
    "\n",
    "지금 결측치가 age_certification과 seasons가 많이 있다 \n",
    "\n",
    "1. movie && not rate 결과 있다 \n",
    "\n",
    "2. show&& not rate 결과도 있다 \n",
    "\n",
    "3. seasons가 0인건(결측치) 모두 movie이다 - 보통 영화 한편을 1 seasons라고 하지 않으니까 0으로 대체  \n",
    "\n",
    "\n",
    "\n",
    "\n"
   ]
  },
  {
   "cell_type": "code",
   "execution_count": 951,
   "id": "f8271c74",
   "metadata": {},
   "outputs": [
    {
     "data": {
      "text/plain": [
       "11622    9.372270\n",
       "17805    9.084319\n",
       "17808    8.846561\n",
       "18329    8.806276\n",
       "11643    8.721675\n",
       "           ...   \n",
       "12286    4.881231\n",
       "3120     4.743586\n",
       "14549    4.654546\n",
       "6776     4.600272\n",
       "4947     4.430112\n",
       "Name: imdb_pop, Length: 18068, dtype: float64"
      ]
     },
     "execution_count": 951,
     "metadata": {},
     "output_type": "execute_result"
    }
   ],
   "source": [
    "ddd=df[\"imdb_pop\"].sort_values(ascending=False)\n",
    "ddd"
   ]
  },
  {
   "cell_type": "code",
   "execution_count": 932,
   "id": "83d13670",
   "metadata": {
    "scrolled": false
   },
   "outputs": [
    {
     "name": "stdout",
     "output_type": "stream",
     "text": [
      "Breaking Bad\n",
      "The Godfather\n",
      "The Godfather: Part II\n",
      "Pulp Fiction\n",
      "Inception\n",
      "Forrest Gump\n",
      "Avatar: The Last Airbender\n",
      "The Empire Strikes Back\n",
      "GoodFellas\n",
      "Stranger Things\n",
      "Interstellar\n",
      "Se7en\n",
      "Attack on Titan\n",
      "Black Mirror\n",
      "Peaky Blinders\n",
      "Saving Private Ryan\n",
      "Star Wars\n",
      "DEATH NOTE\n",
      "Dexter\n",
      "Narcos\n"
     ]
    }
   ],
   "source": [
    "for i in range(20):\n",
    "    print(df.loc[ddd.index[i]][\"title\"])\n"
   ]
  },
  {
   "cell_type": "code",
   "execution_count": 933,
   "id": "119ac285",
   "metadata": {},
   "outputs": [
    {
     "data": {
      "text/html": [
       "<div>\n",
       "<style scoped>\n",
       "    .dataframe tbody tr th:only-of-type {\n",
       "        vertical-align: middle;\n",
       "    }\n",
       "\n",
       "    .dataframe tbody tr th {\n",
       "        vertical-align: top;\n",
       "    }\n",
       "\n",
       "    .dataframe thead th {\n",
       "        text-align: right;\n",
       "    }\n",
       "</style>\n",
       "<table border=\"1\" class=\"dataframe\">\n",
       "  <thead>\n",
       "    <tr style=\"text-align: right;\">\n",
       "      <th></th>\n",
       "      <th>id</th>\n",
       "      <th>title</th>\n",
       "      <th>type</th>\n",
       "      <th>description</th>\n",
       "      <th>release_year</th>\n",
       "      <th>age_certification</th>\n",
       "      <th>runtime</th>\n",
       "      <th>genres</th>\n",
       "      <th>production_countries</th>\n",
       "      <th>seasons</th>\n",
       "      <th>imdb_id</th>\n",
       "      <th>imdb_score</th>\n",
       "      <th>imdb_votes</th>\n",
       "      <th>tmdb_popularity</th>\n",
       "      <th>tmdb_score</th>\n",
       "      <th>platform</th>\n",
       "      <th>imdb_pop</th>\n",
       "    </tr>\n",
       "  </thead>\n",
       "  <tbody>\n",
       "    <tr>\n",
       "      <th>11235</th>\n",
       "      <td>ts219003</td>\n",
       "      <td>Moon Knight</td>\n",
       "      <td>SHOW</td>\n",
       "      <td>When Steven Grant, a mild-mannered gift-shop e...</td>\n",
       "      <td>2022</td>\n",
       "      <td>TV-14</td>\n",
       "      <td>48</td>\n",
       "      <td>['action', 'scifi', 'drama', 'fantasy', 'horro...</td>\n",
       "      <td>['US']</td>\n",
       "      <td>1.0</td>\n",
       "      <td>tt10234724</td>\n",
       "      <td>7.5</td>\n",
       "      <td>128362.0</td>\n",
       "      <td>9323.832</td>\n",
       "      <td>8.5</td>\n",
       "      <td>AmazonPrime</td>\n",
       "      <td>7.046093</td>\n",
       "    </tr>\n",
       "  </tbody>\n",
       "</table>\n",
       "</div>"
      ],
      "text/plain": [
       "             id        title  type  \\\n",
       "11235  ts219003  Moon Knight  SHOW   \n",
       "\n",
       "                                             description  release_year  \\\n",
       "11235  When Steven Grant, a mild-mannered gift-shop e...          2022   \n",
       "\n",
       "      age_certification  runtime  \\\n",
       "11235             TV-14       48   \n",
       "\n",
       "                                                  genres production_countries  \\\n",
       "11235  ['action', 'scifi', 'drama', 'fantasy', 'horro...               ['US']   \n",
       "\n",
       "       seasons     imdb_id  imdb_score  imdb_votes  tmdb_popularity  \\\n",
       "11235      1.0  tt10234724         7.5    128362.0         9323.832   \n",
       "\n",
       "       tmdb_score     platform  imdb_pop  \n",
       "11235         8.5  AmazonPrime  7.046093  "
      ]
     },
     "execution_count": 933,
     "metadata": {},
     "output_type": "execute_result"
    }
   ],
   "source": [
    "df[df[\"title\"]==\"Moon Knight\"]"
   ]
  },
  {
   "cell_type": "code",
   "execution_count": 953,
   "id": "d3e40ade",
   "metadata": {
    "scrolled": false
   },
   "outputs": [
    {
     "data": {
      "text/plain": [
       "11235    9323.832000\n",
       "19967    4579.160000\n",
       "11239    2331.811000\n",
       "10778    2286.312000\n",
       "16113    2274.044000\n",
       "            ...     \n",
       "4440        0.002363\n",
       "3137        0.001609\n",
       "2498        0.000164\n",
       "2603        0.000153\n",
       "1995        0.000011\n",
       "Name: tmdb_popularity, Length: 18068, dtype: float64"
      ]
     },
     "execution_count": 953,
     "metadata": {},
     "output_type": "execute_result"
    }
   ],
   "source": [
    "ddd = df[\"tmdb_popularity\"].sort_values(ascending=False)\n",
    "ddd"
   ]
  },
  {
   "cell_type": "code",
   "execution_count": null,
   "id": "f287d8f8",
   "metadata": {},
   "outputs": [],
   "source": []
  },
  {
   "cell_type": "code",
   "execution_count": 993,
   "id": "b73662d1",
   "metadata": {},
   "outputs": [
    {
     "ename": "NotFittedError",
     "evalue": "This StandardScaler instance is not fitted yet. Call 'fit' with appropriate arguments before using this estimator.",
     "output_type": "error",
     "traceback": [
      "\u001b[1;31m---------------------------------------------------------------------------\u001b[0m",
      "\u001b[1;31mNotFittedError\u001b[0m                            Traceback (most recent call last)",
      "\u001b[1;32m~\\AppData\\Local\\Temp/ipykernel_19224/4215498516.py\u001b[0m in \u001b[0;36m<module>\u001b[1;34m\u001b[0m\n\u001b[0;32m      1\u001b[0m \u001b[1;32mfrom\u001b[0m \u001b[0msklearn\u001b[0m\u001b[1;33m.\u001b[0m\u001b[0mpreprocessing\u001b[0m \u001b[1;32mimport\u001b[0m \u001b[0mStandardScaler\u001b[0m\u001b[1;33m\u001b[0m\u001b[1;33m\u001b[0m\u001b[0m\n\u001b[0;32m      2\u001b[0m \u001b[0mscaler\u001b[0m \u001b[1;33m=\u001b[0m \u001b[0mStandardScaler\u001b[0m\u001b[1;33m(\u001b[0m\u001b[1;33m)\u001b[0m\u001b[1;33m\u001b[0m\u001b[1;33m\u001b[0m\u001b[0m\n\u001b[1;32m----> 3\u001b[1;33m \u001b[0mscaler\u001b[0m\u001b[1;33m.\u001b[0m\u001b[0mtransform\u001b[0m\u001b[1;33m(\u001b[0m\u001b[0mdf\u001b[0m\u001b[1;33m)\u001b[0m\u001b[1;33m\u001b[0m\u001b[1;33m\u001b[0m\u001b[0m\n\u001b[0m",
      "\u001b[1;32m~\\anaconda3\\lib\\site-packages\\sklearn\\preprocessing\\_data.py\u001b[0m in \u001b[0;36mtransform\u001b[1;34m(self, X, copy)\u001b[0m\n\u001b[0;32m    878\u001b[0m             \u001b[0mTransformed\u001b[0m \u001b[0marray\u001b[0m\u001b[1;33m.\u001b[0m\u001b[1;33m\u001b[0m\u001b[1;33m\u001b[0m\u001b[0m\n\u001b[0;32m    879\u001b[0m         \"\"\"\n\u001b[1;32m--> 880\u001b[1;33m         \u001b[0mcheck_is_fitted\u001b[0m\u001b[1;33m(\u001b[0m\u001b[0mself\u001b[0m\u001b[1;33m)\u001b[0m\u001b[1;33m\u001b[0m\u001b[1;33m\u001b[0m\u001b[0m\n\u001b[0m\u001b[0;32m    881\u001b[0m \u001b[1;33m\u001b[0m\u001b[0m\n\u001b[0;32m    882\u001b[0m         \u001b[0mcopy\u001b[0m \u001b[1;33m=\u001b[0m \u001b[0mcopy\u001b[0m \u001b[1;32mif\u001b[0m \u001b[0mcopy\u001b[0m \u001b[1;32mis\u001b[0m \u001b[1;32mnot\u001b[0m \u001b[1;32mNone\u001b[0m \u001b[1;32melse\u001b[0m \u001b[0mself\u001b[0m\u001b[1;33m.\u001b[0m\u001b[0mcopy\u001b[0m\u001b[1;33m\u001b[0m\u001b[1;33m\u001b[0m\u001b[0m\n",
      "\u001b[1;32m~\\anaconda3\\lib\\site-packages\\sklearn\\utils\\validation.py\u001b[0m in \u001b[0;36minner_f\u001b[1;34m(*args, **kwargs)\u001b[0m\n\u001b[0;32m     61\u001b[0m             \u001b[0mextra_args\u001b[0m \u001b[1;33m=\u001b[0m \u001b[0mlen\u001b[0m\u001b[1;33m(\u001b[0m\u001b[0margs\u001b[0m\u001b[1;33m)\u001b[0m \u001b[1;33m-\u001b[0m \u001b[0mlen\u001b[0m\u001b[1;33m(\u001b[0m\u001b[0mall_args\u001b[0m\u001b[1;33m)\u001b[0m\u001b[1;33m\u001b[0m\u001b[1;33m\u001b[0m\u001b[0m\n\u001b[0;32m     62\u001b[0m             \u001b[1;32mif\u001b[0m \u001b[0mextra_args\u001b[0m \u001b[1;33m<=\u001b[0m \u001b[1;36m0\u001b[0m\u001b[1;33m:\u001b[0m\u001b[1;33m\u001b[0m\u001b[1;33m\u001b[0m\u001b[0m\n\u001b[1;32m---> 63\u001b[1;33m                 \u001b[1;32mreturn\u001b[0m \u001b[0mf\u001b[0m\u001b[1;33m(\u001b[0m\u001b[1;33m*\u001b[0m\u001b[0margs\u001b[0m\u001b[1;33m,\u001b[0m \u001b[1;33m**\u001b[0m\u001b[0mkwargs\u001b[0m\u001b[1;33m)\u001b[0m\u001b[1;33m\u001b[0m\u001b[1;33m\u001b[0m\u001b[0m\n\u001b[0m\u001b[0;32m     64\u001b[0m \u001b[1;33m\u001b[0m\u001b[0m\n\u001b[0;32m     65\u001b[0m             \u001b[1;31m# extra_args > 0\u001b[0m\u001b[1;33m\u001b[0m\u001b[1;33m\u001b[0m\u001b[0m\n",
      "\u001b[1;32m~\\anaconda3\\lib\\site-packages\\sklearn\\utils\\validation.py\u001b[0m in \u001b[0;36mcheck_is_fitted\u001b[1;34m(estimator, attributes, msg, all_or_any)\u001b[0m\n\u001b[0;32m   1096\u001b[0m \u001b[1;33m\u001b[0m\u001b[0m\n\u001b[0;32m   1097\u001b[0m     \u001b[1;32mif\u001b[0m \u001b[1;32mnot\u001b[0m \u001b[0mattrs\u001b[0m\u001b[1;33m:\u001b[0m\u001b[1;33m\u001b[0m\u001b[1;33m\u001b[0m\u001b[0m\n\u001b[1;32m-> 1098\u001b[1;33m         \u001b[1;32mraise\u001b[0m \u001b[0mNotFittedError\u001b[0m\u001b[1;33m(\u001b[0m\u001b[0mmsg\u001b[0m \u001b[1;33m%\u001b[0m \u001b[1;33m{\u001b[0m\u001b[1;34m'name'\u001b[0m\u001b[1;33m:\u001b[0m \u001b[0mtype\u001b[0m\u001b[1;33m(\u001b[0m\u001b[0mestimator\u001b[0m\u001b[1;33m)\u001b[0m\u001b[1;33m.\u001b[0m\u001b[0m__name__\u001b[0m\u001b[1;33m}\u001b[0m\u001b[1;33m)\u001b[0m\u001b[1;33m\u001b[0m\u001b[1;33m\u001b[0m\u001b[0m\n\u001b[0m\u001b[0;32m   1099\u001b[0m \u001b[1;33m\u001b[0m\u001b[0m\n\u001b[0;32m   1100\u001b[0m \u001b[1;33m\u001b[0m\u001b[0m\n",
      "\u001b[1;31mNotFittedError\u001b[0m: This StandardScaler instance is not fitted yet. Call 'fit' with appropriate arguments before using this estimator."
     ]
    }
   ],
   "source": [
    "from sklearn.preprocessing import StandardScaler\n",
    "from sklearn."
   ]
  },
  {
   "cell_type": "code",
   "execution_count": 954,
   "id": "07c19fc5",
   "metadata": {},
   "outputs": [
    {
     "name": "stdout",
     "output_type": "stream",
     "text": [
      "Moon Knight\n",
      "Halo\n",
      "Turning Red\n",
      "Doctor Strange\n",
      "Incantation\n",
      "Stranger Things\n",
      "The Sea Beast\n",
      "Valley of the Dead\n",
      "The Man from Toronto\n",
      "All the Old Knives\n",
      "Resident Evil\n",
      "Collision\n",
      "Encanto\n",
      "Peaky Blinders\n",
      "The Ice Age Adventures of Buck Wild\n",
      "Spiderhead\n",
      "Harina\n",
      "The eighth clause\n",
      "Hotel Transylvania: Transformania\n",
      "Lucifer\n"
     ]
    }
   ],
   "source": [
    "for i in range(20):\n",
    "    print(df.loc[ddd.index[i]][\"title\"])"
   ]
  },
  {
   "cell_type": "code",
   "execution_count": 936,
   "id": "7ff31864",
   "metadata": {},
   "outputs": [
    {
     "data": {
      "text/html": [
       "<div>\n",
       "<style scoped>\n",
       "    .dataframe tbody tr th:only-of-type {\n",
       "        vertical-align: middle;\n",
       "    }\n",
       "\n",
       "    .dataframe tbody tr th {\n",
       "        vertical-align: top;\n",
       "    }\n",
       "\n",
       "    .dataframe thead th {\n",
       "        text-align: right;\n",
       "    }\n",
       "</style>\n",
       "<table border=\"1\" class=\"dataframe\">\n",
       "  <thead>\n",
       "    <tr style=\"text-align: right;\">\n",
       "      <th></th>\n",
       "      <th>id</th>\n",
       "      <th>title</th>\n",
       "      <th>type</th>\n",
       "      <th>description</th>\n",
       "      <th>release_year</th>\n",
       "      <th>age_certification</th>\n",
       "      <th>runtime</th>\n",
       "      <th>genres</th>\n",
       "      <th>production_countries</th>\n",
       "      <th>seasons</th>\n",
       "      <th>imdb_id</th>\n",
       "      <th>imdb_score</th>\n",
       "      <th>imdb_votes</th>\n",
       "      <th>tmdb_popularity</th>\n",
       "      <th>tmdb_score</th>\n",
       "      <th>platform</th>\n",
       "      <th>imdb_pop</th>\n",
       "    </tr>\n",
       "  </thead>\n",
       "  <tbody>\n",
       "  </tbody>\n",
       "</table>\n",
       "</div>"
      ],
      "text/plain": [
       "Empty DataFrame\n",
       "Columns: [id, title, type, description, release_year, age_certification, runtime, genres, production_countries, seasons, imdb_id, imdb_score, imdb_votes, tmdb_popularity, tmdb_score, platform, imdb_pop]\n",
       "Index: []"
      ]
     },
     "execution_count": 936,
     "metadata": {},
     "output_type": "execute_result"
    }
   ],
   "source": [
    "# seasons가 0인것 확인해보기 \n",
    "o=df[df[\"seasons\"]==0]\n",
    "o[o[\"type\"]==\"SHOW\"]  # season이 0인건 모두 movies이다 \n"
   ]
  },
  {
   "cell_type": "code",
   "execution_count": 937,
   "id": "fc30b128",
   "metadata": {
    "scrolled": true
   },
   "outputs": [
    {
     "data": {
      "text/plain": [
       "<AxesSubplot:>"
      ]
     },
     "execution_count": 937,
     "metadata": {},
     "output_type": "execute_result"
    },
    {
     "data": {
      "image/png": "[encoded data removed]",
      "text/plain": [
       "<Figure size 432x288 with 2 Axes>"
      ]
     },
     "metadata": {
      "needs_background": "light"
     },
     "output_type": "display_data"
    }
   ],
   "source": [
    "# 상관관계 heatmap \n",
    "\n",
    "sns.heatmap(df.corr(),annot=True,vmin=-1,vmax=1)"
   ]
  },
  {
   "cell_type": "code",
   "execution_count": 938,
   "id": "e91bc3a0",
   "metadata": {},
   "outputs": [
    {
     "data": {
      "text/plain": [
       "(0.0, 600.0)"
      ]
     },
     "execution_count": 938,
     "metadata": {},
     "output_type": "execute_result"
    },
    {
     "data": {
      "image/png": "[encoded data removed]",
      "text/plain": [
       "<Figure size 432x288 with 1 Axes>"
      ]
     },
     "metadata": {
      "needs_background": "light"
     },
     "output_type": "display_data"
    }
   ],
   "source": [
    "sns.regplot(data=df,x=\"tmdb_popularity\",y=\"tmdb_score\")\n",
    "plt.xlim([0,600])"
   ]
  },
  {
   "cell_type": "code",
   "execution_count": 939,
   "id": "0a4553e1",
   "metadata": {},
   "outputs": [
    {
     "data": {
      "text/plain": [
       "<AxesSubplot:xlabel='runtime', ylabel='Density'>"
      ]
     },
     "execution_count": 939,
     "metadata": {},
     "output_type": "execute_result"
    },
    {
     "data": {
      "image/png": "[encoded data removed]",
      "text/plain": [
       "<Figure size 432x288 with 1 Axes>"
      ]
     },
     "metadata": {
      "needs_background": "light"
     },
     "output_type": "display_data"
    }
   ],
   "source": [
    "sns.kdeplot(data=df[\"runtime\"])"
   ]
  },
  {
   "cell_type": "code",
   "execution_count": 940,
   "id": "3965d461",
   "metadata": {},
   "outputs": [
    {
     "data": {
      "text/plain": [
       "<AxesSubplot:xlabel='type', ylabel='count'>"
      ]
     },
     "execution_count": 940,
     "metadata": {},
     "output_type": "execute_result"
    },
    {
     "data": {
      "image/png": "[encoded data removed]",
      "text/plain": [
       "<Figure size 432x288 with 1 Axes>"
      ]
     },
     "metadata": {
      "needs_background": "light"
     },
     "output_type": "display_data"
    }
   ],
   "source": [
    "# movie show 시각화 \n",
    "sns.countplot(data=df,x=\"type\")\n"
   ]
  },
  {
   "cell_type": "code",
   "execution_count": 941,
   "id": "88b60257",
   "metadata": {
    "scrolled": false
   },
   "outputs": [
    {
     "data": {
      "text/plain": [
       "<AxesSubplot:xlabel='age_certification', ylabel='count'>"
      ]
     },
     "execution_count": 941,
     "metadata": {},
     "output_type": "execute_result"
    },
    {
     "data": {
      "image/png": "[encoded data removed]",
      "text/plain": [
       "<Figure size 864x720 with 1 Axes>"
      ]
     },
     "metadata": {
      "needs_background": "light"
     },
     "output_type": "display_data"
    }
   ],
   "source": [
    "# age_criteran 시각화 \n",
    "plt.figure(figsize=(12,10))\n",
    "sns.countplot(data=df,x=\"age_certification\")\n"
   ]
  },
  {
   "cell_type": "code",
   "execution_count": null,
   "id": "36195648",
   "metadata": {},
   "outputs": [],
   "source": [
    "\n",
    "\n"
   ]
  },
  {
   "cell_type": "code",
   "execution_count": 942,
   "id": "feab6bbd",
   "metadata": {
    "scrolled": true
   },
   "outputs": [
    {
     "data": {
      "text/html": [
       "<div>\n",
       "<style scoped>\n",
       "    .dataframe tbody tr th:only-of-type {\n",
       "        vertical-align: middle;\n",
       "    }\n",
       "\n",
       "    .dataframe tbody tr th {\n",
       "        vertical-align: top;\n",
       "    }\n",
       "\n",
       "    .dataframe thead th {\n",
       "        text-align: right;\n",
       "    }\n",
       "</style>\n",
       "<table border=\"1\" class=\"dataframe\">\n",
       "  <thead>\n",
       "    <tr style=\"text-align: right;\">\n",
       "      <th></th>\n",
       "      <th>id</th>\n",
       "      <th>title</th>\n",
       "      <th>type</th>\n",
       "      <th>description</th>\n",
       "      <th>release_year</th>\n",
       "      <th>age_certification</th>\n",
       "      <th>runtime</th>\n",
       "      <th>genres</th>\n",
       "      <th>production_countries</th>\n",
       "      <th>seasons</th>\n",
       "      <th>...</th>\n",
       "      <th>fantasy</th>\n",
       "      <th>history</th>\n",
       "      <th>horror</th>\n",
       "      <th>animation</th>\n",
       "      <th>action</th>\n",
       "      <th>western</th>\n",
       "      <th>thriller</th>\n",
       "      <th>crime</th>\n",
       "      <th>romance</th>\n",
       "      <th>reality</th>\n",
       "    </tr>\n",
       "  </thead>\n",
       "  <tbody>\n",
       "    <tr>\n",
       "      <th>0</th>\n",
       "      <td>ts20945</td>\n",
       "      <td>The Three Stooges</td>\n",
       "      <td>SHOW</td>\n",
       "      <td>The Three Stooges were an American vaudeville ...</td>\n",
       "      <td>1934</td>\n",
       "      <td>TV-PG</td>\n",
       "      <td>19</td>\n",
       "      <td>[comedy, family, animation, action, fantasy, h...</td>\n",
       "      <td>['US']</td>\n",
       "      <td>26.0</td>\n",
       "      <td>...</td>\n",
       "      <td>1</td>\n",
       "      <td>0</td>\n",
       "      <td>1</td>\n",
       "      <td>1</td>\n",
       "      <td>1</td>\n",
       "      <td>0</td>\n",
       "      <td>0</td>\n",
       "      <td>0</td>\n",
       "      <td>0</td>\n",
       "      <td>0</td>\n",
       "    </tr>\n",
       "    <tr>\n",
       "      <th>1</th>\n",
       "      <td>tm19248</td>\n",
       "      <td>The General</td>\n",
       "      <td>MOVIE</td>\n",
       "      <td>During America’s Civil War, Union spies steal ...</td>\n",
       "      <td>1926</td>\n",
       "      <td>Not Rated</td>\n",
       "      <td>78</td>\n",
       "      <td>[action, drama, war, western, comedy, european]</td>\n",
       "      <td>['US']</td>\n",
       "      <td>0.0</td>\n",
       "      <td>...</td>\n",
       "      <td>0</td>\n",
       "      <td>0</td>\n",
       "      <td>0</td>\n",
       "      <td>0</td>\n",
       "      <td>1</td>\n",
       "      <td>1</td>\n",
       "      <td>0</td>\n",
       "      <td>0</td>\n",
       "      <td>0</td>\n",
       "      <td>0</td>\n",
       "    </tr>\n",
       "    <tr>\n",
       "      <th>2</th>\n",
       "      <td>tm82253</td>\n",
       "      <td>The Best Years of Our Lives</td>\n",
       "      <td>MOVIE</td>\n",
       "      <td>It's the hope that sustains the spirit of ever...</td>\n",
       "      <td>1946</td>\n",
       "      <td>Not Rated</td>\n",
       "      <td>171</td>\n",
       "      <td>[romance, war, drama]</td>\n",
       "      <td>['US']</td>\n",
       "      <td>0.0</td>\n",
       "      <td>...</td>\n",
       "      <td>0</td>\n",
       "      <td>0</td>\n",
       "      <td>0</td>\n",
       "      <td>0</td>\n",
       "      <td>0</td>\n",
       "      <td>0</td>\n",
       "      <td>0</td>\n",
       "      <td>0</td>\n",
       "      <td>1</td>\n",
       "      <td>0</td>\n",
       "    </tr>\n",
       "    <tr>\n",
       "      <th>3</th>\n",
       "      <td>tm83884</td>\n",
       "      <td>His Girl Friday</td>\n",
       "      <td>MOVIE</td>\n",
       "      <td>Hildy, the journalist former wife of newspaper...</td>\n",
       "      <td>1940</td>\n",
       "      <td>Not Rated</td>\n",
       "      <td>92</td>\n",
       "      <td>[comedy, drama, romance]</td>\n",
       "      <td>['US']</td>\n",
       "      <td>0.0</td>\n",
       "      <td>...</td>\n",
       "      <td>0</td>\n",
       "      <td>0</td>\n",
       "      <td>0</td>\n",
       "      <td>0</td>\n",
       "      <td>0</td>\n",
       "      <td>0</td>\n",
       "      <td>0</td>\n",
       "      <td>0</td>\n",
       "      <td>1</td>\n",
       "      <td>0</td>\n",
       "    </tr>\n",
       "    <tr>\n",
       "      <th>4</th>\n",
       "      <td>tm56584</td>\n",
       "      <td>In a Lonely Place</td>\n",
       "      <td>MOVIE</td>\n",
       "      <td>An aspiring actress begins to suspect that her...</td>\n",
       "      <td>1950</td>\n",
       "      <td>Not Rated</td>\n",
       "      <td>94</td>\n",
       "      <td>[thriller, drama, romance]</td>\n",
       "      <td>['US']</td>\n",
       "      <td>0.0</td>\n",
       "      <td>...</td>\n",
       "      <td>0</td>\n",
       "      <td>0</td>\n",
       "      <td>0</td>\n",
       "      <td>0</td>\n",
       "      <td>0</td>\n",
       "      <td>0</td>\n",
       "      <td>1</td>\n",
       "      <td>0</td>\n",
       "      <td>1</td>\n",
       "      <td>0</td>\n",
       "    </tr>\n",
       "  </tbody>\n",
       "</table>\n",
       "<p>5 rows × 36 columns</p>\n",
       "</div>"
      ],
      "text/plain": [
       "        id                        title   type  \\\n",
       "0  ts20945            The Three Stooges   SHOW   \n",
       "1  tm19248                  The General  MOVIE   \n",
       "2  tm82253  The Best Years of Our Lives  MOVIE   \n",
       "3  tm83884              His Girl Friday  MOVIE   \n",
       "4  tm56584            In a Lonely Place  MOVIE   \n",
       "\n",
       "                                         description  release_year  \\\n",
       "0  The Three Stooges were an American vaudeville ...          1934   \n",
       "1  During America’s Civil War, Union spies steal ...          1926   \n",
       "2  It's the hope that sustains the spirit of ever...          1946   \n",
       "3  Hildy, the journalist former wife of newspaper...          1940   \n",
       "4  An aspiring actress begins to suspect that her...          1950   \n",
       "\n",
       "  age_certification  runtime  \\\n",
       "0             TV-PG       19   \n",
       "1         Not Rated       78   \n",
       "2         Not Rated      171   \n",
       "3         Not Rated       92   \n",
       "4         Not Rated       94   \n",
       "\n",
       "                                              genres production_countries  \\\n",
       "0  [comedy, family, animation, action, fantasy, h...               ['US']   \n",
       "1    [action, drama, war, western, comedy, european]               ['US']   \n",
       "2                              [romance, war, drama]               ['US']   \n",
       "3                           [comedy, drama, romance]               ['US']   \n",
       "4                         [thriller, drama, romance]               ['US']   \n",
       "\n",
       "   seasons  ... fantasy  history  horror  animation  action western  thriller  \\\n",
       "0     26.0  ...       1        0       1          1       1       0         0   \n",
       "1      0.0  ...       0        0       0          0       1       1         0   \n",
       "2      0.0  ...       0        0       0          0       0       0         0   \n",
       "3      0.0  ...       0        0       0          0       0       0         0   \n",
       "4      0.0  ...       0        0       0          0       0       0         1   \n",
       "\n",
       "   crime  romance  reality  \n",
       "0      0        0        0  \n",
       "1      0        0        0  \n",
       "2      0        1        0  \n",
       "3      0        1        0  \n",
       "4      0        1        0  \n",
       "\n",
       "[5 rows x 36 columns]"
      ]
     },
     "execution_count": 942,
     "metadata": {},
     "output_type": "execute_result"
    }
   ],
   "source": [
    "# 장르 나누고 시각화 하기 [영화 ,show]\n",
    "import re\n",
    "\n",
    "\n",
    "#f = lambda x : re.findall(\"\\w+\",x)\n",
    "#type(f(df.iloc[0][\"genres\"])) -> list \n",
    "\n",
    "df[\"genres\"] =df[\"genres\"].apply(lambda x : re.findall(\"\\w+\",x))\n",
    "genres_list = list(df[\"genres\"].values)\n",
    "\n",
    "new_genres_list =[]\n",
    "for sublist in genres_list:\n",
    "    for item in sublist:\n",
    "        new_genres_list.append(item)\n",
    "\n",
    "\n",
    "\n",
    "new_genres_list = set(new_genres_list)\n",
    "\n",
    "for i,genre in enumerate(new_genres_list):\n",
    "    df[genre]=df[\"genres\"].apply(lambda x: 1 if genre in x else 0).astype(int) # 해당하는 장르 컬럼 새로 만들어주기\n",
    "\n",
    "    \n",
    "df.head()"
   ]
  },
  {
   "cell_type": "code",
   "execution_count": 943,
   "id": "817a8722",
   "metadata": {},
   "outputs": [],
   "source": [
    "# 시각화 위한 전처리 \n",
    "\n",
    "# 영화중에서 각 장르별 개수 센다 \n",
    "genre_movie_dict = {}\n",
    "\n",
    "for genre in new_genres_list:\n",
    "    genre_movie_dict[genre] = df.query(\"type == 'MOVIE'\")[genre].sum()\n",
    "\n",
    "genre_movie_dict = dict(sorted(genre_movie_dict.items(), key=lambda x: x[0]))\n",
    "\n",
    "# show중에서 장르별 개수 센다 \n",
    "genre_series_dict = {}\n",
    "\n",
    "for genre in new_genres_list:\n",
    "    genre_series_dict[genre] = df.query(\"type == 'SHOW'\")[genre].sum()\n",
    "\n",
    "genre_series_dict = dict(sorted(genre_series_dict.items(), key=lambda x: x[0]))\n",
    "\n",
    "\n"
   ]
  },
  {
   "cell_type": "code",
   "execution_count": 944,
   "id": "2f9e7190",
   "metadata": {},
   "outputs": [
    {
     "data": {
      "text/plain": [
       "<AxesSubplot:>"
      ]
     },
     "execution_count": 944,
     "metadata": {},
     "output_type": "execute_result"
    },
    {
     "data": {
      "image/png": "[encoded data removed]",
      "text/plain": [
       "<Figure size 1080x720 with 1 Axes>"
      ]
     },
     "metadata": {
      "needs_background": "light"
     },
     "output_type": "display_data"
    }
   ],
   "source": [
    "# dictionry -> DataFrame \n",
    "plt.figure(figsize=(15,10))\n",
    "movie_genres=pd.DataFrame.from_dict(genre_movie_dict,orient=\"index\").T\n",
    "sns.barplot(data=movie_genres)"
   ]
  },
  {
   "cell_type": "code",
   "execution_count": 945,
   "id": "821bdb85",
   "metadata": {
    "scrolled": true
   },
   "outputs": [
    {
     "data": {
      "text/plain": [
       "<AxesSubplot:>"
      ]
     },
     "execution_count": 945,
     "metadata": {},
     "output_type": "execute_result"
    },
    {
     "data": {
      "image/png": "[encoded data removed]",
      "text/plain": [
       "<Figure size 1080x720 with 1 Axes>"
      ]
     },
     "metadata": {
      "needs_background": "light"
     },
     "output_type": "display_data"
    }
   ],
   "source": [
    "# dictionry -> DataFrame \n",
    "plt.figure(figsize=(15,10))\n",
    "show_genres=pd.DataFrame.from_dict(genre_series_dict,orient=\"index\").T\n",
    "sns.barplot(data=show_genres)"
   ]
  },
  {
   "cell_type": "code",
   "execution_count": 946,
   "id": "78ab262a",
   "metadata": {},
   "outputs": [],
   "source": [
    "# 장르별 ibdm score 시각화 하기 -> 평균값으로 했다 \n",
    "\n",
    "genre_movie_idbdm={}\n",
    "genre_show_idbdm={}\n",
    "\n",
    "for i,genre in enumerate(new_genres_list):\n",
    "    genre_movie_idbdm[genre] = df[df[\"type\"]==\"MOVIE\"].groupby(genre)[\"imdb_score\"].mean().sort_index().__getitem__(1)\n",
    "\n",
    "    \n",
    "    \n",
    "for i,genre in enumerate(new_genres_list):\n",
    "    genre_show_idbdm[genre] = df[df[\"type\"]==\"SHOW\"].groupby(genre)[\"imdb_score\"].mean().sort_index().__getitem__(1)\n",
    "    \n",
    "\n"
   ]
  },
  {
   "cell_type": "code",
   "execution_count": 947,
   "id": "6f244bd3",
   "metadata": {},
   "outputs": [
    {
     "data": {
      "text/plain": [
       "<AxesSubplot:>"
      ]
     },
     "execution_count": 947,
     "metadata": {},
     "output_type": "execute_result"
    },
    {
     "data": {
      "image/png": "[encoded data removed]",
      "text/plain": [
       "<Figure size 1080x720 with 1 Axes>"
      ]
     },
     "metadata": {
      "needs_background": "light"
     },
     "output_type": "display_data"
    }
   ],
   "source": [
    "# dictionry -> DataFrame \n",
    "plt.figure(figsize=(15,10))\n",
    "movie_genr=pd.DataFrame.from_dict(genre_movie_idbdm,orient=\"index\").T\n",
    "sns.barplot(data=movie_genr)"
   ]
  },
  {
   "cell_type": "code",
   "execution_count": 948,
   "id": "20fd32a1",
   "metadata": {
    "scrolled": true
   },
   "outputs": [
    {
     "data": {
      "text/plain": [
       "<AxesSubplot:>"
      ]
     },
     "execution_count": 948,
     "metadata": {},
     "output_type": "execute_result"
    },
    {
     "data": {
      "image/png": "[encoded data removed]",
      "text/plain": [
       "<Figure size 1080x720 with 1 Axes>"
      ]
     },
     "metadata": {
      "needs_background": "light"
     },
     "output_type": "display_data"
    }
   ],
   "source": [
    "# dictionry -> DataFrame \n",
    "plt.figure(figsize=(15,10))\n",
    "show_genr=pd.DataFrame.from_dict(genre_show_idbdm,orient=\"index\").T\n",
    "sns.barplot(data=show_genr)"
   ]
  },
  {
   "cell_type": "code",
   "execution_count": 949,
   "id": "601a3279",
   "metadata": {},
   "outputs": [
    {
     "data": {
      "text/plain": [
       "Index(['['US']', '['IN']', '[]', '['GB']', '['CA']', '['JP']', '['KR']',\n",
       "       '['FR']', '['ES']', '['AU']', '['CN']', '['CA', 'US']', '['XX']',\n",
       "       '['MX']', '['DE']', '['GB', 'US']', '['IT']', '['BR']', '['PH']',\n",
       "       '['US', 'CA']'],\n",
       "      dtype='object')"
      ]
     },
     "execution_count": 949,
     "metadata": {},
     "output_type": "execute_result"
    }
   ],
   "source": [
    "df['production_countries'].value_counts().index[:20]"
   ]
  },
  {
   "cell_type": "code",
   "execution_count": 950,
   "id": "fc64e92a",
   "metadata": {},
   "outputs": [
    {
     "data": {
      "text/plain": [
       "<AxesSubplot:xlabel='production_countries', ylabel='count'>"
      ]
     },
     "execution_count": 950,
     "metadata": {},
     "output_type": "execute_result"
    },
    {
     "data": {
      "image/png": "[encoded data removed]",
      "text/plain": [
       "<Figure size 1080x720 with 1 Axes>"
      ]
     },
     "metadata": {
      "needs_background": "light"
     },
     "output_type": "display_data"
    }
   ],
   "source": [
    "# 나라별 시각화 \n",
    "\n",
    "plt.figure(figsize=(15,10))\n",
    "\n",
    "sns.countplot(data=df,x=\"production_countries\",order = df['production_countries'].value_counts().index[:10]) \n",
    "# 각 독립적인 나라별로만 시각화 한것이다\n"
   ]
  }
 ],
 "metadata": {
  "kernelspec": {
   "display_name": "Python 3 (ipykernel)",
   "language": "python",
   "name": "python3"
  },
  "language_info": {
   "codemirror_mode": {
    "name": "ipython",
    "version": 3
   },
   "file_extension": ".py",
   "mimetype": "text/x-python",
   "name": "python",
   "nbconvert_exporter": "python",
   "pygments_lexer": "ipython3",
   "version": "3.9.7"
  }
 },
 "nbformat": 4,
 "nbformat_minor": 5
}
