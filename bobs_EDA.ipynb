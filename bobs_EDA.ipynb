{
 "cells": [
  {
   "cell_type": "markdown",
   "id": "522b6134",
   "metadata": {},
   "source": [
    "### 데이터 간단 EDA \n",
    "\n",
    "노션이 제시하는 방향 : OTT별 고객층 인구 통계학적 특성 선호 장르 평점 경향성등 특징 비교   \n",
    "\n",
    "https://www.kaggle.com/code/jackieyi/netfilx-data-cleaning-and-eda/notebook\n",
    "\n",
    "https://www.kaggle.com/datasets/victorsoeiro/netflix-tv-shows-and-movies/code?datasetId=2178661&searchQuery=machine\n",
    "\n",
    "https://www.kaggle.com/code/muhammadanas0716/netflix-tv-shows-and-movies-eda/notebook\n",
    "\n",
    "https://www.kaggle.com/code/danielpry/netflix-recommendation-system\n",
    "\n",
    "\n",
    "https://www.kaggle.com/code/rushikeshdane20/plotly-tutorial-how-to-make-plotly-visuals-better\n",
    "\n",
    "https://www.kaggle.com/code/danielpry/netflix-recommendation-system\n",
    "\n",
    "https://www.kaggle.com/code/carora/human-ai-workshop-recommendation\n",
    "\n",
    "https://www.kaggle.com/code/danielproctorparr/netflix-analysis\n",
    "\n",
    "\n",
    "\n",
    "https://www.kaggle.com/code/henriquedossantos02/prova-b02-henrique-e-derick\n",
    "\n",
    "https://www.kaggle.com/code/vitorgamalemos/disney-tv-eda-cosine-similirity\n",
    "\n",
    "\n",
    "https://www.kaggle.com/code/nahidahsan/amazon-data-visualization-and-recomendation/notebook\n",
    "\n",
    "https://www.kaggle.com/code/nguyenthicamlai/eda-on-netflix-movies-and-tv-shows\n",
    "\n",
    "https://www.kaggle.com/code/thomaslazarus/streaming-service-data-analysis\n",
    "\n",
    "\n",
    "\n"
   ]
  },
  {
   "cell_type": "code",
   "execution_count": 186,
   "id": "13c7c0d3",
   "metadata": {},
   "outputs": [],
   "source": [
    "import numpy as np \n",
    "import pandas as pd \n",
    "import matplotlib.pyplot as plt\n",
    "import seaborn as sns\n"
   ]
  },
  {
   "cell_type": "code",
   "execution_count": 187,
   "id": "38587aaf",
   "metadata": {},
   "outputs": [],
   "source": [
    "# read csv \n",
    "\n",
    "netflix_df =pd.read_csv(\"./Netflex_data/titles.csv\")\n",
    "amazon_df =pd.read_csv(\"./Amazon_Prime_data/titles.csv\")\n",
    "disney_df=pd.read_csv(\"./Disney_TV_data/titles.csv\")\n",
    "paramount_df=pd.read_csv(\"./Paramount_data/titles.csv\")\n",
    "\n"
   ]
  },
  {
   "cell_type": "code",
   "execution_count": 188,
   "id": "aee760a1",
   "metadata": {},
   "outputs": [],
   "source": [
    "# plattfrom service 정해주기 \n",
    "amazon_df = (amazon_df.assign(Platform=\"amazon\"))\n",
    "disney_df = (disney_df.assign(Platform=\"disney\"))\n",
    "paramount_df = (paramount_df.assign(Platform=\"paramount\"))\n",
    "netflix_df = (netflix_df.assign(Platform=\"netflix\"))\n"
   ]
  },
  {
   "cell_type": "code",
   "execution_count": 189,
   "id": "5aa7f914",
   "metadata": {
    "scrolled": true
   },
   "outputs": [
    {
     "data": {
      "text/html": [
       "<div>\n",
       "<style scoped>\n",
       "    .dataframe tbody tr th:only-of-type {\n",
       "        vertical-align: middle;\n",
       "    }\n",
       "\n",
       "    .dataframe tbody tr th {\n",
       "        vertical-align: top;\n",
       "    }\n",
       "\n",
       "    .dataframe thead th {\n",
       "        text-align: right;\n",
       "    }\n",
       "</style>\n",
       "<table border=\"1\" class=\"dataframe\">\n",
       "  <thead>\n",
       "    <tr style=\"text-align: right;\">\n",
       "      <th></th>\n",
       "      <th>title</th>\n",
       "      <th>type</th>\n",
       "      <th>release_year</th>\n",
       "      <th>age_certification</th>\n",
       "      <th>runtime</th>\n",
       "      <th>genres</th>\n",
       "      <th>production_countries</th>\n",
       "      <th>seasons</th>\n",
       "      <th>imdb_score</th>\n",
       "      <th>imdb_votes</th>\n",
       "      <th>tmdb_popularity</th>\n",
       "      <th>tmdb_score</th>\n",
       "      <th>Platform</th>\n",
       "    </tr>\n",
       "  </thead>\n",
       "  <tbody>\n",
       "    <tr>\n",
       "      <th>0</th>\n",
       "      <td>The Three Stooges</td>\n",
       "      <td>SHOW</td>\n",
       "      <td>1934</td>\n",
       "      <td>TV-PG</td>\n",
       "      <td>19</td>\n",
       "      <td>['comedy', 'family', 'animation', 'action', 'f...</td>\n",
       "      <td>['US']</td>\n",
       "      <td>26.0</td>\n",
       "      <td>8.6</td>\n",
       "      <td>1092.0</td>\n",
       "      <td>15.424</td>\n",
       "      <td>7.6</td>\n",
       "      <td>amazon</td>\n",
       "    </tr>\n",
       "    <tr>\n",
       "      <th>1</th>\n",
       "      <td>The General</td>\n",
       "      <td>MOVIE</td>\n",
       "      <td>1926</td>\n",
       "      <td>NaN</td>\n",
       "      <td>78</td>\n",
       "      <td>['action', 'drama', 'war', 'western', 'comedy'...</td>\n",
       "      <td>['US']</td>\n",
       "      <td>NaN</td>\n",
       "      <td>8.2</td>\n",
       "      <td>89766.0</td>\n",
       "      <td>8.647</td>\n",
       "      <td>8.0</td>\n",
       "      <td>amazon</td>\n",
       "    </tr>\n",
       "    <tr>\n",
       "      <th>2</th>\n",
       "      <td>The Best Years of Our Lives</td>\n",
       "      <td>MOVIE</td>\n",
       "      <td>1946</td>\n",
       "      <td>NaN</td>\n",
       "      <td>171</td>\n",
       "      <td>['romance', 'war', 'drama']</td>\n",
       "      <td>['US']</td>\n",
       "      <td>NaN</td>\n",
       "      <td>8.1</td>\n",
       "      <td>63026.0</td>\n",
       "      <td>8.435</td>\n",
       "      <td>7.8</td>\n",
       "      <td>amazon</td>\n",
       "    </tr>\n",
       "    <tr>\n",
       "      <th>3</th>\n",
       "      <td>His Girl Friday</td>\n",
       "      <td>MOVIE</td>\n",
       "      <td>1940</td>\n",
       "      <td>NaN</td>\n",
       "      <td>92</td>\n",
       "      <td>['comedy', 'drama', 'romance']</td>\n",
       "      <td>['US']</td>\n",
       "      <td>NaN</td>\n",
       "      <td>7.8</td>\n",
       "      <td>57835.0</td>\n",
       "      <td>11.270</td>\n",
       "      <td>7.4</td>\n",
       "      <td>amazon</td>\n",
       "    </tr>\n",
       "    <tr>\n",
       "      <th>4</th>\n",
       "      <td>In a Lonely Place</td>\n",
       "      <td>MOVIE</td>\n",
       "      <td>1950</td>\n",
       "      <td>NaN</td>\n",
       "      <td>94</td>\n",
       "      <td>['thriller', 'drama', 'romance']</td>\n",
       "      <td>['US']</td>\n",
       "      <td>NaN</td>\n",
       "      <td>7.9</td>\n",
       "      <td>30924.0</td>\n",
       "      <td>8.273</td>\n",
       "      <td>7.6</td>\n",
       "      <td>amazon</td>\n",
       "    </tr>\n",
       "  </tbody>\n",
       "</table>\n",
       "</div>"
      ],
      "text/plain": [
       "                         title   type  release_year age_certification  \\\n",
       "0            The Three Stooges   SHOW          1934             TV-PG   \n",
       "1                  The General  MOVIE          1926               NaN   \n",
       "2  The Best Years of Our Lives  MOVIE          1946               NaN   \n",
       "3              His Girl Friday  MOVIE          1940               NaN   \n",
       "4            In a Lonely Place  MOVIE          1950               NaN   \n",
       "\n",
       "   runtime                                             genres  \\\n",
       "0       19  ['comedy', 'family', 'animation', 'action', 'f...   \n",
       "1       78  ['action', 'drama', 'war', 'western', 'comedy'...   \n",
       "2      171                        ['romance', 'war', 'drama']   \n",
       "3       92                     ['comedy', 'drama', 'romance']   \n",
       "4       94                   ['thriller', 'drama', 'romance']   \n",
       "\n",
       "  production_countries  seasons  imdb_score  imdb_votes  tmdb_popularity  \\\n",
       "0               ['US']     26.0         8.6      1092.0           15.424   \n",
       "1               ['US']      NaN         8.2     89766.0            8.647   \n",
       "2               ['US']      NaN         8.1     63026.0            8.435   \n",
       "3               ['US']      NaN         7.8     57835.0           11.270   \n",
       "4               ['US']      NaN         7.9     30924.0            8.273   \n",
       "\n",
       "   tmdb_score Platform  \n",
       "0         7.6   amazon  \n",
       "1         8.0   amazon  \n",
       "2         7.8   amazon  \n",
       "3         7.4   amazon  \n",
       "4         7.6   amazon  "
      ]
     },
     "execution_count": 189,
     "metadata": {},
     "output_type": "execute_result"
    }
   ],
   "source": [
    "# id, ibmb id, description 버려도 되는 컬럼 같아서 없앰\n",
    "df_list = [amazon_df, disney_df, paramount_df, netflix_df]\n",
    "df = (pd.concat(df_list).reset_index(drop=True).drop(columns=['id',\"imdb_id\",\"description\"]))\n",
    "df.head()"
   ]
  },
  {
   "cell_type": "code",
   "execution_count": null,
   "id": "e50e559c",
   "metadata": {},
   "outputs": [],
   "source": [
    "\n"
   ]
  },
  {
   "cell_type": "code",
   "execution_count": null,
   "id": "eccfc5d9",
   "metadata": {},
   "outputs": [],
   "source": []
  },
  {
   "cell_type": "code",
   "execution_count": 190,
   "id": "3e7a572b",
   "metadata": {
    "scrolled": true
   },
   "outputs": [
    {
     "data": {
      "text/html": [
       "<div>\n",
       "<style scoped>\n",
       "    .dataframe tbody tr th:only-of-type {\n",
       "        vertical-align: middle;\n",
       "    }\n",
       "\n",
       "    .dataframe tbody tr th {\n",
       "        vertical-align: top;\n",
       "    }\n",
       "\n",
       "    .dataframe thead th {\n",
       "        text-align: right;\n",
       "    }\n",
       "</style>\n",
       "<table border=\"1\" class=\"dataframe\">\n",
       "  <thead>\n",
       "    <tr style=\"text-align: right;\">\n",
       "      <th></th>\n",
       "      <th>release_year</th>\n",
       "      <th>runtime</th>\n",
       "      <th>seasons</th>\n",
       "      <th>imdb_score</th>\n",
       "      <th>imdb_votes</th>\n",
       "      <th>tmdb_popularity</th>\n",
       "      <th>tmdb_score</th>\n",
       "    </tr>\n",
       "  </thead>\n",
       "  <tbody>\n",
       "    <tr>\n",
       "      <th>count</th>\n",
       "      <td>20081.000000</td>\n",
       "      <td>20081.000000</td>\n",
       "      <td>4504.00000</td>\n",
       "      <td>17939.000000</td>\n",
       "      <td>1.791000e+04</td>\n",
       "      <td>19375.000000</td>\n",
       "      <td>17091.000000</td>\n",
       "    </tr>\n",
       "    <tr>\n",
       "      <th>mean</th>\n",
       "      <td>2004.400229</td>\n",
       "      <td>79.423883</td>\n",
       "      <td>2.64365</td>\n",
       "      <td>6.184843</td>\n",
       "      <td>1.917149e+04</td>\n",
       "      <td>15.082909</td>\n",
       "      <td>6.344228</td>\n",
       "    </tr>\n",
       "    <tr>\n",
       "      <th>std</th>\n",
       "      <td>24.271711</td>\n",
       "      <td>36.089967</td>\n",
       "      <td>3.71847</td>\n",
       "      <td>1.292510</td>\n",
       "      <td>9.054001e+04</td>\n",
       "      <td>96.350618</td>\n",
       "      <td>1.434322</td>\n",
       "    </tr>\n",
       "    <tr>\n",
       "      <th>min</th>\n",
       "      <td>1912.000000</td>\n",
       "      <td>0.000000</td>\n",
       "      <td>1.00000</td>\n",
       "      <td>1.100000</td>\n",
       "      <td>5.000000e+00</td>\n",
       "      <td>0.000011</td>\n",
       "      <td>0.500000</td>\n",
       "    </tr>\n",
       "    <tr>\n",
       "      <th>25%</th>\n",
       "      <td>2003.000000</td>\n",
       "      <td>52.000000</td>\n",
       "      <td>1.00000</td>\n",
       "      <td>5.400000</td>\n",
       "      <td>1.770000e+02</td>\n",
       "      <td>1.580000</td>\n",
       "      <td>5.600000</td>\n",
       "    </tr>\n",
       "    <tr>\n",
       "      <th>50%</th>\n",
       "      <td>2016.000000</td>\n",
       "      <td>85.000000</td>\n",
       "      <td>1.00000</td>\n",
       "      <td>6.300000</td>\n",
       "      <td>8.340000e+02</td>\n",
       "      <td>3.605000</td>\n",
       "      <td>6.400000</td>\n",
       "    </tr>\n",
       "    <tr>\n",
       "      <th>75%</th>\n",
       "      <td>2019.000000</td>\n",
       "      <td>100.000000</td>\n",
       "      <td>3.00000</td>\n",
       "      <td>7.100000</td>\n",
       "      <td>4.677500e+03</td>\n",
       "      <td>9.560500</td>\n",
       "      <td>7.300000</td>\n",
       "    </tr>\n",
       "    <tr>\n",
       "      <th>max</th>\n",
       "      <td>2022.000000</td>\n",
       "      <td>549.000000</td>\n",
       "      <td>51.00000</td>\n",
       "      <td>9.900000</td>\n",
       "      <td>2.294231e+06</td>\n",
       "      <td>9323.832000</td>\n",
       "      <td>10.000000</td>\n",
       "    </tr>\n",
       "  </tbody>\n",
       "</table>\n",
       "</div>"
      ],
      "text/plain": [
       "       release_year       runtime     seasons    imdb_score    imdb_votes  \\\n",
       "count  20081.000000  20081.000000  4504.00000  17939.000000  1.791000e+04   \n",
       "mean    2004.400229     79.423883     2.64365      6.184843  1.917149e+04   \n",
       "std       24.271711     36.089967     3.71847      1.292510  9.054001e+04   \n",
       "min     1912.000000      0.000000     1.00000      1.100000  5.000000e+00   \n",
       "25%     2003.000000     52.000000     1.00000      5.400000  1.770000e+02   \n",
       "50%     2016.000000     85.000000     1.00000      6.300000  8.340000e+02   \n",
       "75%     2019.000000    100.000000     3.00000      7.100000  4.677500e+03   \n",
       "max     2022.000000    549.000000    51.00000      9.900000  2.294231e+06   \n",
       "\n",
       "       tmdb_popularity    tmdb_score  \n",
       "count     19375.000000  17091.000000  \n",
       "mean         15.082909      6.344228  \n",
       "std          96.350618      1.434322  \n",
       "min           0.000011      0.500000  \n",
       "25%           1.580000      5.600000  \n",
       "50%           3.605000      6.400000  \n",
       "75%           9.560500      7.300000  \n",
       "max        9323.832000     10.000000  "
      ]
     },
     "execution_count": 190,
     "metadata": {},
     "output_type": "execute_result"
    }
   ],
   "source": [
    "\"\"\"\n",
    "각 계절마다 보는 영화나 쇼 \n",
    "런타임 긴 영화 순위 짧은 영화 순위 \n",
    "\n",
    "\"\"\"\n",
    "df.describe()\n"
   ]
  },
  {
   "cell_type": "code",
   "execution_count": 191,
   "id": "09cf5738",
   "metadata": {},
   "outputs": [
    {
     "data": {
      "text/html": [
       "<div>\n",
       "<style scoped>\n",
       "    .dataframe tbody tr th:only-of-type {\n",
       "        vertical-align: middle;\n",
       "    }\n",
       "\n",
       "    .dataframe tbody tr th {\n",
       "        vertical-align: top;\n",
       "    }\n",
       "\n",
       "    .dataframe thead th {\n",
       "        text-align: right;\n",
       "    }\n",
       "</style>\n",
       "<table border=\"1\" class=\"dataframe\">\n",
       "  <thead>\n",
       "    <tr style=\"text-align: right;\">\n",
       "      <th></th>\n",
       "      <th>release_year</th>\n",
       "      <th>runtime</th>\n",
       "      <th>seasons</th>\n",
       "      <th>imdb_score</th>\n",
       "      <th>imdb_votes</th>\n",
       "      <th>tmdb_popularity</th>\n",
       "      <th>tmdb_score</th>\n",
       "    </tr>\n",
       "  </thead>\n",
       "  <tbody>\n",
       "    <tr>\n",
       "      <th>release_year</th>\n",
       "      <td>1.000000</td>\n",
       "      <td>-0.009208</td>\n",
       "      <td>-0.448258</td>\n",
       "      <td>0.091846</td>\n",
       "      <td>0.017599</td>\n",
       "      <td>0.059085</td>\n",
       "      <td>0.211519</td>\n",
       "    </tr>\n",
       "    <tr>\n",
       "      <th>runtime</th>\n",
       "      <td>-0.009208</td>\n",
       "      <td>1.000000</td>\n",
       "      <td>-0.064353</td>\n",
       "      <td>-0.133226</td>\n",
       "      <td>0.155847</td>\n",
       "      <td>-0.006736</td>\n",
       "      <td>-0.210186</td>\n",
       "    </tr>\n",
       "    <tr>\n",
       "      <th>seasons</th>\n",
       "      <td>-0.448258</td>\n",
       "      <td>-0.064353</td>\n",
       "      <td>1.000000</td>\n",
       "      <td>0.025739</td>\n",
       "      <td>0.139408</td>\n",
       "      <td>0.058883</td>\n",
       "      <td>-0.025617</td>\n",
       "    </tr>\n",
       "    <tr>\n",
       "      <th>imdb_score</th>\n",
       "      <td>0.091846</td>\n",
       "      <td>-0.133226</td>\n",
       "      <td>0.025739</td>\n",
       "      <td>1.000000</td>\n",
       "      <td>0.194870</td>\n",
       "      <td>0.055313</td>\n",
       "      <td>0.603145</td>\n",
       "    </tr>\n",
       "    <tr>\n",
       "      <th>imdb_votes</th>\n",
       "      <td>0.017599</td>\n",
       "      <td>0.155847</td>\n",
       "      <td>0.139408</td>\n",
       "      <td>0.194870</td>\n",
       "      <td>1.000000</td>\n",
       "      <td>0.169149</td>\n",
       "      <td>0.150164</td>\n",
       "    </tr>\n",
       "    <tr>\n",
       "      <th>tmdb_popularity</th>\n",
       "      <td>0.059085</td>\n",
       "      <td>-0.006736</td>\n",
       "      <td>0.058883</td>\n",
       "      <td>0.055313</td>\n",
       "      <td>0.169149</td>\n",
       "      <td>1.000000</td>\n",
       "      <td>0.084093</td>\n",
       "    </tr>\n",
       "    <tr>\n",
       "      <th>tmdb_score</th>\n",
       "      <td>0.211519</td>\n",
       "      <td>-0.210186</td>\n",
       "      <td>-0.025617</td>\n",
       "      <td>0.603145</td>\n",
       "      <td>0.150164</td>\n",
       "      <td>0.084093</td>\n",
       "      <td>1.000000</td>\n",
       "    </tr>\n",
       "  </tbody>\n",
       "</table>\n",
       "</div>"
      ],
      "text/plain": [
       "                 release_year   runtime   seasons  imdb_score  imdb_votes  \\\n",
       "release_year         1.000000 -0.009208 -0.448258    0.091846    0.017599   \n",
       "runtime             -0.009208  1.000000 -0.064353   -0.133226    0.155847   \n",
       "seasons             -0.448258 -0.064353  1.000000    0.025739    0.139408   \n",
       "imdb_score           0.091846 -0.133226  0.025739    1.000000    0.194870   \n",
       "imdb_votes           0.017599  0.155847  0.139408    0.194870    1.000000   \n",
       "tmdb_popularity      0.059085 -0.006736  0.058883    0.055313    0.169149   \n",
       "tmdb_score           0.211519 -0.210186 -0.025617    0.603145    0.150164   \n",
       "\n",
       "                 tmdb_popularity  tmdb_score  \n",
       "release_year            0.059085    0.211519  \n",
       "runtime                -0.006736   -0.210186  \n",
       "seasons                 0.058883   -0.025617  \n",
       "imdb_score              0.055313    0.603145  \n",
       "imdb_votes              0.169149    0.150164  \n",
       "tmdb_popularity         1.000000    0.084093  \n",
       "tmdb_score              0.084093    1.000000  "
      ]
     },
     "execution_count": 191,
     "metadata": {},
     "output_type": "execute_result"
    }
   ],
   "source": [
    "df.corr()"
   ]
  },
  {
   "cell_type": "code",
   "execution_count": 192,
   "id": "08dba76e",
   "metadata": {
    "scrolled": true
   },
   "outputs": [
    {
     "data": {
      "image/png": "[encoded data removed]",
      "text/plain": [
       "<Figure size 432x288 with 1 Axes>"
      ]
     },
     "metadata": {
      "needs_background": "light"
     },
     "output_type": "display_data"
    }
   ],
   "source": [
    "# 각 플랫폼 영화 숫자 파악 \n",
    "#pokemon[\"Type 2\"].value_counts().plot(kind=\"bar\")\n",
    "#\"Count of records by Streaming Services\"\n",
    "\n",
    "df[\"Platform\"].value_counts().plot(kind=\"bar\")\n",
    "plt.title(\"Count of records by Streaming Services\")\n",
    "plt.show()"
   ]
  },
  {
   "cell_type": "code",
   "execution_count": null,
   "id": "2f6d5195",
   "metadata": {},
   "outputs": [],
   "source": []
  },
  {
   "cell_type": "code",
   "execution_count": 193,
   "id": "6d25b7b1",
   "metadata": {
    "scrolled": true
   },
   "outputs": [
    {
     "data": {
      "text/plain": [
       "title                       1\n",
       "type                        0\n",
       "release_year                0\n",
       "age_certification       10954\n",
       "runtime                     0\n",
       "genres                      0\n",
       "production_countries        0\n",
       "seasons                 15577\n",
       "imdb_score               2142\n",
       "imdb_votes               2171\n",
       "tmdb_popularity           706\n",
       "tmdb_score               2990\n",
       "Platform                    0\n",
       "dtype: int64"
      ]
     },
     "execution_count": 193,
     "metadata": {},
     "output_type": "execute_result"
    }
   ],
   "source": [
    "# 결측치 확인 \n",
    "df.isnull().sum()"
   ]
  },
  {
   "cell_type": "code",
   "execution_count": 194,
   "id": "f0657cb3",
   "metadata": {},
   "outputs": [
    {
     "name": "stdout",
     "output_type": "stream",
     "text": [
      "['TV-PG' nan 'PG' 'G' 'PG-13' 'R' 'TV-G' 'TV-Y' 'TV-14' 'NC-17' 'TV-Y7'\n",
      " 'TV-MA']\n"
     ]
    }
   ],
   "source": [
    "# title 결측치 삭제 하기 \n",
    "df = df[~df[\"title\"].isnull()]\n",
    "\n",
    "\n",
    "# age_certification 결측치 없에기 \n",
    "\n",
    "print(df[\"age_certification\"].unique())\n",
    "df[\"age_certification\"].fillna(\"Not Rated\",inplace=True)\n",
    "\n",
    "# seasons의 nan은 0으로 하기 \n",
    "df[\"seasons\"].fillna(0,inplace=True)\n",
    "\n",
    "\n",
    "#나머지 결측치는 평균값으로 하기 \n",
    "df[\"imdb_score\"].fillna(df[\"imdb_score\"].mean(),inplace=True)\n",
    "df[\"imdb_votes\"].fillna(df[\"imdb_votes\"].mean(),inplace=True)\n",
    "df[\"tmdb_popularity\"].fillna(df[\"tmdb_popularity\"].mean(),inplace=True)\n",
    "df[\"tmdb_score\"].fillna(df[\"tmdb_score\"].mean(),inplace=True)\n"
   ]
  },
  {
   "cell_type": "code",
   "execution_count": 195,
   "id": "7f08f46f",
   "metadata": {
    "scrolled": false
   },
   "outputs": [
    {
     "data": {
      "text/plain": [
       "title                   0\n",
       "type                    0\n",
       "release_year            0\n",
       "age_certification       0\n",
       "runtime                 0\n",
       "genres                  0\n",
       "production_countries    0\n",
       "seasons                 0\n",
       "imdb_score              0\n",
       "imdb_votes              0\n",
       "tmdb_popularity         0\n",
       "tmdb_score              0\n",
       "Platform                0\n",
       "dtype: int64"
      ]
     },
     "execution_count": 195,
     "metadata": {},
     "output_type": "execute_result"
    }
   ],
   "source": [
    "# 결측치 확인 \n",
    "df.isnull().sum()"
   ]
  },
  {
   "cell_type": "markdown",
   "id": "25e4288c",
   "metadata": {},
   "source": [
    "\n",
    "지금 결측치가 age_certification과 seasons가 많이 있다 \n",
    "\n",
    "1. movie && not rate 결과 있다 \n",
    "\n",
    "2. show&& not rate 결과도 있다 \n",
    "\n",
    "3. seasons가 0인건(결측치) 모두 movie이다 - 보통 영화 한편을 1 seasons라고 하지 않으니까 0으로 대체  \n",
    "\n",
    "\n",
    "\n",
    "\n"
   ]
  },
  {
   "cell_type": "code",
   "execution_count": 196,
   "id": "7ff31864",
   "metadata": {},
   "outputs": [
    {
     "data": {
      "text/html": [
       "<div>\n",
       "<style scoped>\n",
       "    .dataframe tbody tr th:only-of-type {\n",
       "        vertical-align: middle;\n",
       "    }\n",
       "\n",
       "    .dataframe tbody tr th {\n",
       "        vertical-align: top;\n",
       "    }\n",
       "\n",
       "    .dataframe thead th {\n",
       "        text-align: right;\n",
       "    }\n",
       "</style>\n",
       "<table border=\"1\" class=\"dataframe\">\n",
       "  <thead>\n",
       "    <tr style=\"text-align: right;\">\n",
       "      <th></th>\n",
       "      <th>title</th>\n",
       "      <th>type</th>\n",
       "      <th>release_year</th>\n",
       "      <th>age_certification</th>\n",
       "      <th>runtime</th>\n",
       "      <th>genres</th>\n",
       "      <th>production_countries</th>\n",
       "      <th>seasons</th>\n",
       "      <th>imdb_score</th>\n",
       "      <th>imdb_votes</th>\n",
       "      <th>tmdb_popularity</th>\n",
       "      <th>tmdb_score</th>\n",
       "      <th>Platform</th>\n",
       "    </tr>\n",
       "  </thead>\n",
       "  <tbody>\n",
       "  </tbody>\n",
       "</table>\n",
       "</div>"
      ],
      "text/plain": [
       "Empty DataFrame\n",
       "Columns: [title, type, release_year, age_certification, runtime, genres, production_countries, seasons, imdb_score, imdb_votes, tmdb_popularity, tmdb_score, Platform]\n",
       "Index: []"
      ]
     },
     "execution_count": 196,
     "metadata": {},
     "output_type": "execute_result"
    }
   ],
   "source": [
    "# seasons가 0인것 확인해보기 \n",
    "o=df[df[\"seasons\"]==0]\n",
    "o[o[\"type\"]==\"SHOW\"]  # season이 0인건 모두 movies이다 \n"
   ]
  },
  {
   "cell_type": "code",
   "execution_count": 197,
   "id": "fc30b128",
   "metadata": {},
   "outputs": [
    {
     "data": {
      "text/plain": [
       "<AxesSubplot:>"
      ]
     },
     "execution_count": 197,
     "metadata": {},
     "output_type": "execute_result"
    },
    {
     "data": {
      "image/png": "[encoded data removed]",
      "text/plain": [
       "<Figure size 432x288 with 2 Axes>"
      ]
     },
     "metadata": {
      "needs_background": "light"
     },
     "output_type": "display_data"
    }
   ],
   "source": [
    "# 상관관계 heatmap \n",
    "\n",
    "sns.heatmap(df.corr(),annot=True,vmin=-1,vmax=1)"
   ]
  },
  {
   "cell_type": "code",
   "execution_count": 198,
   "id": "0a4553e1",
   "metadata": {},
   "outputs": [],
   "source": [
    "# 각 컬럼별 상관 관계 시각화 해보기 \n"
   ]
  },
  {
   "cell_type": "code",
   "execution_count": 199,
   "id": "3965d461",
   "metadata": {},
   "outputs": [
    {
     "data": {
      "text/plain": [
       "<AxesSubplot:xlabel='type', ylabel='count'>"
      ]
     },
     "execution_count": 199,
     "metadata": {},
     "output_type": "execute_result"
    },
    {
     "data": {
      "image/png": "[encoded data removed]",
      "text/plain": [
       "<Figure size 432x288 with 1 Axes>"
      ]
     },
     "metadata": {
      "needs_background": "light"
     },
     "output_type": "display_data"
    }
   ],
   "source": [
    "# movie show 시각화 \n",
    "sns.countplot(data=df,x=\"type\")\n"
   ]
  },
  {
   "cell_type": "code",
   "execution_count": 200,
   "id": "88b60257",
   "metadata": {
    "scrolled": false
   },
   "outputs": [
    {
     "data": {
      "text/plain": [
       "<AxesSubplot:xlabel='age_certification', ylabel='count'>"
      ]
     },
     "execution_count": 200,
     "metadata": {},
     "output_type": "execute_result"
    },
    {
     "data": {
      "image/png": "[encoded data removed]",
      "text/plain": [
       "<Figure size 864x720 with 1 Axes>"
      ]
     },
     "metadata": {
      "needs_background": "light"
     },
     "output_type": "display_data"
    }
   ],
   "source": [
    "# age_criteran 시각화 \n",
    "plt.figure(figsize=(12,10))\n",
    "sns.countplot(data=df,x=\"age_certification\")\n"
   ]
  },
  {
   "cell_type": "code",
   "execution_count": null,
   "id": "36195648",
   "metadata": {},
   "outputs": [],
   "source": [
    "\n"
   ]
  },
  {
   "cell_type": "code",
   "execution_count": 201,
   "id": "feab6bbd",
   "metadata": {
    "scrolled": true
   },
   "outputs": [
    {
     "data": {
      "text/html": [
       "<div>\n",
       "<style scoped>\n",
       "    .dataframe tbody tr th:only-of-type {\n",
       "        vertical-align: middle;\n",
       "    }\n",
       "\n",
       "    .dataframe tbody tr th {\n",
       "        vertical-align: top;\n",
       "    }\n",
       "\n",
       "    .dataframe thead th {\n",
       "        text-align: right;\n",
       "    }\n",
       "</style>\n",
       "<table border=\"1\" class=\"dataframe\">\n",
       "  <thead>\n",
       "    <tr style=\"text-align: right;\">\n",
       "      <th></th>\n",
       "      <th>title</th>\n",
       "      <th>type</th>\n",
       "      <th>release_year</th>\n",
       "      <th>age_certification</th>\n",
       "      <th>runtime</th>\n",
       "      <th>genres</th>\n",
       "      <th>production_countries</th>\n",
       "      <th>seasons</th>\n",
       "      <th>imdb_score</th>\n",
       "      <th>imdb_votes</th>\n",
       "      <th>...</th>\n",
       "      <th>sport</th>\n",
       "      <th>scifi</th>\n",
       "      <th>european</th>\n",
       "      <th>reality</th>\n",
       "      <th>drama</th>\n",
       "      <th>documentation</th>\n",
       "      <th>family</th>\n",
       "      <th>crime</th>\n",
       "      <th>comedy</th>\n",
       "      <th>war</th>\n",
       "    </tr>\n",
       "  </thead>\n",
       "  <tbody>\n",
       "    <tr>\n",
       "      <th>0</th>\n",
       "      <td>The Three Stooges</td>\n",
       "      <td>SHOW</td>\n",
       "      <td>1934</td>\n",
       "      <td>TV-PG</td>\n",
       "      <td>19</td>\n",
       "      <td>[comedy, family, animation, action, fantasy, h...</td>\n",
       "      <td>['US']</td>\n",
       "      <td>26.0</td>\n",
       "      <td>8.6</td>\n",
       "      <td>1092.0</td>\n",
       "      <td>...</td>\n",
       "      <td>0</td>\n",
       "      <td>0</td>\n",
       "      <td>0</td>\n",
       "      <td>0</td>\n",
       "      <td>0</td>\n",
       "      <td>0</td>\n",
       "      <td>1</td>\n",
       "      <td>0</td>\n",
       "      <td>1</td>\n",
       "      <td>0</td>\n",
       "    </tr>\n",
       "    <tr>\n",
       "      <th>1</th>\n",
       "      <td>The General</td>\n",
       "      <td>MOVIE</td>\n",
       "      <td>1926</td>\n",
       "      <td>Not Rated</td>\n",
       "      <td>78</td>\n",
       "      <td>[action, drama, war, western, comedy, european]</td>\n",
       "      <td>['US']</td>\n",
       "      <td>0.0</td>\n",
       "      <td>8.2</td>\n",
       "      <td>89766.0</td>\n",
       "      <td>...</td>\n",
       "      <td>0</td>\n",
       "      <td>0</td>\n",
       "      <td>1</td>\n",
       "      <td>0</td>\n",
       "      <td>1</td>\n",
       "      <td>0</td>\n",
       "      <td>0</td>\n",
       "      <td>0</td>\n",
       "      <td>1</td>\n",
       "      <td>1</td>\n",
       "    </tr>\n",
       "    <tr>\n",
       "      <th>2</th>\n",
       "      <td>The Best Years of Our Lives</td>\n",
       "      <td>MOVIE</td>\n",
       "      <td>1946</td>\n",
       "      <td>Not Rated</td>\n",
       "      <td>171</td>\n",
       "      <td>[romance, war, drama]</td>\n",
       "      <td>['US']</td>\n",
       "      <td>0.0</td>\n",
       "      <td>8.1</td>\n",
       "      <td>63026.0</td>\n",
       "      <td>...</td>\n",
       "      <td>0</td>\n",
       "      <td>0</td>\n",
       "      <td>0</td>\n",
       "      <td>0</td>\n",
       "      <td>1</td>\n",
       "      <td>0</td>\n",
       "      <td>0</td>\n",
       "      <td>0</td>\n",
       "      <td>0</td>\n",
       "      <td>1</td>\n",
       "    </tr>\n",
       "    <tr>\n",
       "      <th>3</th>\n",
       "      <td>His Girl Friday</td>\n",
       "      <td>MOVIE</td>\n",
       "      <td>1940</td>\n",
       "      <td>Not Rated</td>\n",
       "      <td>92</td>\n",
       "      <td>[comedy, drama, romance]</td>\n",
       "      <td>['US']</td>\n",
       "      <td>0.0</td>\n",
       "      <td>7.8</td>\n",
       "      <td>57835.0</td>\n",
       "      <td>...</td>\n",
       "      <td>0</td>\n",
       "      <td>0</td>\n",
       "      <td>0</td>\n",
       "      <td>0</td>\n",
       "      <td>1</td>\n",
       "      <td>0</td>\n",
       "      <td>0</td>\n",
       "      <td>0</td>\n",
       "      <td>1</td>\n",
       "      <td>0</td>\n",
       "    </tr>\n",
       "    <tr>\n",
       "      <th>4</th>\n",
       "      <td>In a Lonely Place</td>\n",
       "      <td>MOVIE</td>\n",
       "      <td>1950</td>\n",
       "      <td>Not Rated</td>\n",
       "      <td>94</td>\n",
       "      <td>[thriller, drama, romance]</td>\n",
       "      <td>['US']</td>\n",
       "      <td>0.0</td>\n",
       "      <td>7.9</td>\n",
       "      <td>30924.0</td>\n",
       "      <td>...</td>\n",
       "      <td>0</td>\n",
       "      <td>0</td>\n",
       "      <td>0</td>\n",
       "      <td>0</td>\n",
       "      <td>1</td>\n",
       "      <td>0</td>\n",
       "      <td>0</td>\n",
       "      <td>0</td>\n",
       "      <td>0</td>\n",
       "      <td>0</td>\n",
       "    </tr>\n",
       "  </tbody>\n",
       "</table>\n",
       "<p>5 rows × 32 columns</p>\n",
       "</div>"
      ],
      "text/plain": [
       "                         title   type  release_year age_certification  \\\n",
       "0            The Three Stooges   SHOW          1934             TV-PG   \n",
       "1                  The General  MOVIE          1926         Not Rated   \n",
       "2  The Best Years of Our Lives  MOVIE          1946         Not Rated   \n",
       "3              His Girl Friday  MOVIE          1940         Not Rated   \n",
       "4            In a Lonely Place  MOVIE          1950         Not Rated   \n",
       "\n",
       "   runtime                                             genres  \\\n",
       "0       19  [comedy, family, animation, action, fantasy, h...   \n",
       "1       78    [action, drama, war, western, comedy, european]   \n",
       "2      171                              [romance, war, drama]   \n",
       "3       92                           [comedy, drama, romance]   \n",
       "4       94                         [thriller, drama, romance]   \n",
       "\n",
       "  production_countries  seasons  imdb_score  imdb_votes  ...  sport  scifi  \\\n",
       "0               ['US']     26.0         8.6      1092.0  ...      0      0   \n",
       "1               ['US']      0.0         8.2     89766.0  ...      0      0   \n",
       "2               ['US']      0.0         8.1     63026.0  ...      0      0   \n",
       "3               ['US']      0.0         7.8     57835.0  ...      0      0   \n",
       "4               ['US']      0.0         7.9     30924.0  ...      0      0   \n",
       "\n",
       "  european  reality  drama  documentation  family  crime  comedy  war  \n",
       "0        0        0      0              0       1      0       1    0  \n",
       "1        1        0      1              0       0      0       1    1  \n",
       "2        0        0      1              0       0      0       0    1  \n",
       "3        0        0      1              0       0      0       1    0  \n",
       "4        0        0      1              0       0      0       0    0  \n",
       "\n",
       "[5 rows x 32 columns]"
      ]
     },
     "execution_count": 201,
     "metadata": {},
     "output_type": "execute_result"
    },
    {
     "data": {
      "text/plain": [
       "<Figure size 864x720 with 0 Axes>"
      ]
     },
     "metadata": {},
     "output_type": "display_data"
    }
   ],
   "source": [
    "# 장르 나누고 시각화 하기 [영화 ,show]\n",
    "import re\n",
    "\n",
    "\n",
    "#f = lambda x : re.findall(\"\\w+\",x)\n",
    "#type(f(df.iloc[0][\"genres\"])) -> list \n",
    "\n",
    "df[\"genres\"] =df[\"genres\"].apply(lambda x : re.findall(\"\\w+\",x))\n",
    "genres_list = list(df[\"genres\"].values)\n",
    "\n",
    "new_genres_list =[]\n",
    "for sublist in genres_list:\n",
    "    for item in sublist:\n",
    "        new_genres_list.append(item)\n",
    "\n",
    "\n",
    "\n",
    "new_genres_list = set(new_genres_list)\n",
    "\n",
    "for i,genre in enumerate(new_genres_list):\n",
    "    df[genre]=df[\"genres\"].apply(lambda x: 1 if genre in x else 0).astype(int) # 해당하는 장르 컬럼 새로 만들어주기\n",
    "\n",
    "    \n",
    "df.head()"
   ]
  },
  {
   "cell_type": "code",
   "execution_count": 208,
   "id": "817a8722",
   "metadata": {},
   "outputs": [],
   "source": [
    "# 시각화 위한 전처리 \n",
    "\n",
    "# 영화중에서 각 장르별 개수 센다 \n",
    "genre_movie_dict = {}\n",
    "\n",
    "for genre in new_genres_list:\n",
    "    genre_movie_dict[genre] = df.query(\"type == 'MOVIE'\")[genre].sum()\n",
    "\n",
    "genre_movie_dict = dict(sorted(genre_movie_dict.items(), key=lambda x: x[0]))\n",
    "\n",
    "# show중에서 장르별 개수 센다 \n",
    "genre_series_dict = {}\n",
    "\n",
    "for genre in new_genres_list:\n",
    "    genre_series_dict[genre] = df.query(\"type == 'SHOW'\")[genre].sum()\n",
    "\n",
    "genre_series_dict = dict(sorted(genre_series_dict.items(), key=lambda x: x[0]))\n",
    "\n",
    "\n"
   ]
  },
  {
   "cell_type": "code",
   "execution_count": 221,
   "id": "2f9e7190",
   "metadata": {},
   "outputs": [
    {
     "data": {
      "text/plain": [
       "<AxesSubplot:>"
      ]
     },
     "execution_count": 221,
     "metadata": {},
     "output_type": "execute_result"
    },
    {
     "data": {
      "image/png": "[encoded data removed]",
      "text/plain": [
       "<Figure size 1080x720 with 1 Axes>"
      ]
     },
     "metadata": {
      "needs_background": "light"
     },
     "output_type": "display_data"
    }
   ],
   "source": [
    "# dictionry -> DataFrame \n",
    "plt.figure(figsize=(15,10))\n",
    "movie_genres=pd.DataFrame.from_dict(genre_movie_dict,orient=\"index\").T\n",
    "sns.barplot(data=movie_genres)"
   ]
  },
  {
   "cell_type": "code",
   "execution_count": 222,
   "id": "821bdb85",
   "metadata": {
    "scrolled": true
   },
   "outputs": [
    {
     "data": {
      "text/plain": [
       "<AxesSubplot:>"
      ]
     },
     "execution_count": 222,
     "metadata": {},
     "output_type": "execute_result"
    },
    {
     "data": {
      "image/png": "[encoded data removed]",
      "text/plain": [
       "<Figure size 1080x720 with 1 Axes>"
      ]
     },
     "metadata": {
      "needs_background": "light"
     },
     "output_type": "display_data"
    }
   ],
   "source": [
    "# dictionry -> DataFrame \n",
    "plt.figure(figsize=(15,10))\n",
    "show_genres=pd.DataFrame.from_dict(genre_series_dict,orient=\"index\").T\n",
    "sns.barplot(data=show_genres)"
   ]
  },
  {
   "cell_type": "code",
   "execution_count": 226,
   "id": "78ab262a",
   "metadata": {},
   "outputs": [],
   "source": [
    "# 장르별 ibdm score 시각화 하기 -> 평균값으로 했다 \n",
    "\n",
    "genre_movie_idbdm={}\n",
    "genre_show_idbdm={}\n",
    "\n",
    "for i,genre in enumerate(new_genres_list):\n",
    "    genre_movie_idbdm[genre] = df[df[\"type\"]==\"MOVIE\"].groupby(genre)[\"imdb_score\"].mean().sort_index().__getitem__(1)\n",
    "\n",
    "    \n",
    "    \n",
    "for i,genre in enumerate(new_genres_list):\n",
    "    genre_show_idbdm[genre] = df[df[\"type\"]==\"SHOW\"].groupby(genre)[\"imdb_score\"].mean().sort_index().__getitem__(1)\n",
    "    \n",
    "\n"
   ]
  },
  {
   "cell_type": "code",
   "execution_count": 229,
   "id": "6f244bd3",
   "metadata": {},
   "outputs": [
    {
     "data": {
      "text/plain": [
       "<AxesSubplot:>"
      ]
     },
     "execution_count": 229,
     "metadata": {},
     "output_type": "execute_result"
    },
    {
     "data": {
      "image/png": "[encoded data removed]",
      "text/plain": [
       "<Figure size 1080x720 with 1 Axes>"
      ]
     },
     "metadata": {
      "needs_background": "light"
     },
     "output_type": "display_data"
    }
   ],
   "source": [
    "# dictionry -> DataFrame \n",
    "plt.figure(figsize=(15,10))\n",
    "movie_genr=pd.DataFrame.from_dict(genre_movie_idbdm,orient=\"index\").T\n",
    "sns.barplot(data=movie_genr)"
   ]
  },
  {
   "cell_type": "code",
   "execution_count": 230,
   "id": "20fd32a1",
   "metadata": {
    "scrolled": true
   },
   "outputs": [
    {
     "data": {
      "text/plain": [
       "<AxesSubplot:>"
      ]
     },
     "execution_count": 230,
     "metadata": {},
     "output_type": "execute_result"
    },
    {
     "data": {
      "image/png": "[encoded data removed]",
      "text/plain": [
       "<Figure size 1080x720 with 1 Axes>"
      ]
     },
     "metadata": {
      "needs_background": "light"
     },
     "output_type": "display_data"
    }
   ],
   "source": [
    "# dictionry -> DataFrame \n",
    "plt.figure(figsize=(15,10))\n",
    "show_genr=pd.DataFrame.from_dict(genre_show_idbdm,orient=\"index\").T\n",
    "sns.barplot(data=show_genr)"
   ]
  },
  {
   "cell_type": "code",
   "execution_count": 243,
   "id": "601a3279",
   "metadata": {},
   "outputs": [
    {
     "data": {
      "text/plain": [
       "Index(['['US']', '['IN']', '[]', '['GB']', '['CA']', '['JP']', '['KR']',\n",
       "       '['FR']', '['AU']', '['ES']', '['CA', 'US']', '['CN']', '['XX']',\n",
       "       '['GB', 'US']', '['MX']', '['IT']', '['DE']', '['BR']', '['US', 'CA']',\n",
       "       '['US', 'GB']'],\n",
       "      dtype='object')"
      ]
     },
     "execution_count": 243,
     "metadata": {},
     "output_type": "execute_result"
    }
   ],
   "source": [
    "df['production_countries'].value_counts().index[:20]"
   ]
  },
  {
   "cell_type": "code",
   "execution_count": 238,
   "id": "fc64e92a",
   "metadata": {},
   "outputs": [
    {
     "data": {
      "text/plain": [
       "<AxesSubplot:xlabel='production_countries', ylabel='count'>"
      ]
     },
     "execution_count": 238,
     "metadata": {},
     "output_type": "execute_result"
    },
    {
     "data": {
      "image/png": "[encoded data removed]",
      "text/plain": [
       "<Figure size 1080x720 with 1 Axes>"
      ]
     },
     "metadata": {
      "needs_background": "light"
     },
     "output_type": "display_data"
    }
   ],
   "source": [
    "# 나라별 시각화 \n",
    "\n",
    "plt.figure(figsize=(15,10))\n",
    "\n",
    "sns.countplot(data=df,x=\"production_countries\",order = df['production_countries'].value_counts().index[:10]) \n",
    "# 각 독립적인 나라별로만 시각화 한것이다\n"
   ]
  }
 ],
 "metadata": {
  "kernelspec": {
   "display_name": "Python 3 (ipykernel)",
   "language": "python",
   "name": "python3"
  },
  "language_info": {
   "codemirror_mode": {
    "name": "ipython",
    "version": 3
   },
   "file_extension": ".py",
   "mimetype": "text/x-python",
   "name": "python",
   "nbconvert_exporter": "python",
   "pygments_lexer": "ipython3",
   "version": "3.9.7"
  }
 },
 "nbformat": 4,
 "nbformat_minor": 5
}
