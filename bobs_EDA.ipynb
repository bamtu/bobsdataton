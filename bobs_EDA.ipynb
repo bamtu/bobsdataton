{
 "cells": [
  {
   "cell_type": "markdown",
   "id": "522b6134",
   "metadata": {},
   "source": [
    "### 데이터 간단 EDA \n",
    "\n",
    "노션이 제시하는 방향 : OTT별 고객층 인구 통계학적 특성 선호 장르 평점 경향성등 특징 비교   \n",
    "\n",
    "\n",
    "\n"
   ]
  },
  {
   "cell_type": "code",
   "execution_count": 114,
   "id": "13c7c0d3",
   "metadata": {},
   "outputs": [],
   "source": [
    "import numpy as np \n",
    "import pandas as pd \n",
    "import matplotlib.pyplot as plt\n",
    "import seaborn as sns\n"
   ]
  },
  {
   "cell_type": "code",
   "execution_count": 115,
   "id": "38587aaf",
   "metadata": {},
   "outputs": [],
   "source": [
    "# read csv \n",
    "\n",
    "netflix_df =pd.read_csv(\"./Netflex_data/titles.csv\")\n",
    "amazon_df =pd.read_csv(\"./Amazon_Prime_data/titles.csv\")\n",
    "disney_df=pd.read_csv(\"./Disney_TV_data/titles.csv\")\n",
    "paramount_df=pd.read_csv(\"./Paramount_data/titles.csv\")\n",
    "\n"
   ]
  },
  {
   "cell_type": "code",
   "execution_count": 116,
   "id": "aee760a1",
   "metadata": {},
   "outputs": [],
   "source": [
    "# plattfrom service 정해주기 \n",
    "amazon_df = (amazon_df.assign(Platform=\"amazon\"))\n",
    "disney_df = (disney_df.assign(Platform=\"disney\"))\n",
    "paramount_df = (paramount_df.assign(Platform=\"paramount\"))\n",
    "netflix_df = (netflix_df.assign(Platform=\"netflix\"))\n"
   ]
  },
  {
   "cell_type": "code",
   "execution_count": 117,
   "id": "5aa7f914",
   "metadata": {
    "scrolled": false
   },
   "outputs": [
    {
     "data": {
      "text/html": [
       "<div>\n",
       "<style scoped>\n",
       "    .dataframe tbody tr th:only-of-type {\n",
       "        vertical-align: middle;\n",
       "    }\n",
       "\n",
       "    .dataframe tbody tr th {\n",
       "        vertical-align: top;\n",
       "    }\n",
       "\n",
       "    .dataframe thead th {\n",
       "        text-align: right;\n",
       "    }\n",
       "</style>\n",
       "<table border=\"1\" class=\"dataframe\">\n",
       "  <thead>\n",
       "    <tr style=\"text-align: right;\">\n",
       "      <th></th>\n",
       "      <th>title</th>\n",
       "      <th>type</th>\n",
       "      <th>release_year</th>\n",
       "      <th>age_certification</th>\n",
       "      <th>runtime</th>\n",
       "      <th>genres</th>\n",
       "      <th>production_countries</th>\n",
       "      <th>seasons</th>\n",
       "      <th>imdb_score</th>\n",
       "      <th>imdb_votes</th>\n",
       "      <th>tmdb_popularity</th>\n",
       "      <th>tmdb_score</th>\n",
       "      <th>Platform</th>\n",
       "    </tr>\n",
       "  </thead>\n",
       "  <tbody>\n",
       "    <tr>\n",
       "      <th>0</th>\n",
       "      <td>The Three Stooges</td>\n",
       "      <td>SHOW</td>\n",
       "      <td>1934</td>\n",
       "      <td>TV-PG</td>\n",
       "      <td>19</td>\n",
       "      <td>['comedy', 'family', 'animation', 'action', 'f...</td>\n",
       "      <td>['US']</td>\n",
       "      <td>26.0</td>\n",
       "      <td>8.6</td>\n",
       "      <td>1092.0</td>\n",
       "      <td>15.424</td>\n",
       "      <td>7.6</td>\n",
       "      <td>amazon</td>\n",
       "    </tr>\n",
       "    <tr>\n",
       "      <th>1</th>\n",
       "      <td>The General</td>\n",
       "      <td>MOVIE</td>\n",
       "      <td>1926</td>\n",
       "      <td>NaN</td>\n",
       "      <td>78</td>\n",
       "      <td>['action', 'drama', 'war', 'western', 'comedy'...</td>\n",
       "      <td>['US']</td>\n",
       "      <td>NaN</td>\n",
       "      <td>8.2</td>\n",
       "      <td>89766.0</td>\n",
       "      <td>8.647</td>\n",
       "      <td>8.0</td>\n",
       "      <td>amazon</td>\n",
       "    </tr>\n",
       "    <tr>\n",
       "      <th>2</th>\n",
       "      <td>The Best Years of Our Lives</td>\n",
       "      <td>MOVIE</td>\n",
       "      <td>1946</td>\n",
       "      <td>NaN</td>\n",
       "      <td>171</td>\n",
       "      <td>['romance', 'war', 'drama']</td>\n",
       "      <td>['US']</td>\n",
       "      <td>NaN</td>\n",
       "      <td>8.1</td>\n",
       "      <td>63026.0</td>\n",
       "      <td>8.435</td>\n",
       "      <td>7.8</td>\n",
       "      <td>amazon</td>\n",
       "    </tr>\n",
       "    <tr>\n",
       "      <th>3</th>\n",
       "      <td>His Girl Friday</td>\n",
       "      <td>MOVIE</td>\n",
       "      <td>1940</td>\n",
       "      <td>NaN</td>\n",
       "      <td>92</td>\n",
       "      <td>['comedy', 'drama', 'romance']</td>\n",
       "      <td>['US']</td>\n",
       "      <td>NaN</td>\n",
       "      <td>7.8</td>\n",
       "      <td>57835.0</td>\n",
       "      <td>11.270</td>\n",
       "      <td>7.4</td>\n",
       "      <td>amazon</td>\n",
       "    </tr>\n",
       "    <tr>\n",
       "      <th>4</th>\n",
       "      <td>In a Lonely Place</td>\n",
       "      <td>MOVIE</td>\n",
       "      <td>1950</td>\n",
       "      <td>NaN</td>\n",
       "      <td>94</td>\n",
       "      <td>['thriller', 'drama', 'romance']</td>\n",
       "      <td>['US']</td>\n",
       "      <td>NaN</td>\n",
       "      <td>7.9</td>\n",
       "      <td>30924.0</td>\n",
       "      <td>8.273</td>\n",
       "      <td>7.6</td>\n",
       "      <td>amazon</td>\n",
       "    </tr>\n",
       "  </tbody>\n",
       "</table>\n",
       "</div>"
      ],
      "text/plain": [
       "                         title   type  release_year age_certification  \\\n",
       "0            The Three Stooges   SHOW          1934             TV-PG   \n",
       "1                  The General  MOVIE          1926               NaN   \n",
       "2  The Best Years of Our Lives  MOVIE          1946               NaN   \n",
       "3              His Girl Friday  MOVIE          1940               NaN   \n",
       "4            In a Lonely Place  MOVIE          1950               NaN   \n",
       "\n",
       "   runtime                                             genres  \\\n",
       "0       19  ['comedy', 'family', 'animation', 'action', 'f...   \n",
       "1       78  ['action', 'drama', 'war', 'western', 'comedy'...   \n",
       "2      171                        ['romance', 'war', 'drama']   \n",
       "3       92                     ['comedy', 'drama', 'romance']   \n",
       "4       94                   ['thriller', 'drama', 'romance']   \n",
       "\n",
       "  production_countries  seasons  imdb_score  imdb_votes  tmdb_popularity  \\\n",
       "0               ['US']     26.0         8.6      1092.0           15.424   \n",
       "1               ['US']      NaN         8.2     89766.0            8.647   \n",
       "2               ['US']      NaN         8.1     63026.0            8.435   \n",
       "3               ['US']      NaN         7.8     57835.0           11.270   \n",
       "4               ['US']      NaN         7.9     30924.0            8.273   \n",
       "\n",
       "   tmdb_score Platform  \n",
       "0         7.6   amazon  \n",
       "1         8.0   amazon  \n",
       "2         7.8   amazon  \n",
       "3         7.4   amazon  \n",
       "4         7.6   amazon  "
      ]
     },
     "execution_count": 117,
     "metadata": {},
     "output_type": "execute_result"
    }
   ],
   "source": [
    "# id, ibmb id, description 버려도 되는 컬럼 같아서 없앰\n",
    "df_list = [amazon_df, disney_df, paramount_df, netflix_df]\n",
    "df = (pd.concat(df_list).reset_index(drop=True).drop(columns=['id',\"imdb_id\",\"description\"]))\n",
    "df.head()"
   ]
  },
  {
   "cell_type": "code",
   "execution_count": null,
   "id": "e50e559c",
   "metadata": {},
   "outputs": [],
   "source": [
    "\n"
   ]
  },
  {
   "cell_type": "code",
   "execution_count": null,
   "id": "eccfc5d9",
   "metadata": {},
   "outputs": [],
   "source": []
  },
  {
   "cell_type": "code",
   "execution_count": 118,
   "id": "3e7a572b",
   "metadata": {
    "scrolled": true
   },
   "outputs": [
    {
     "data": {
      "text/html": [
       "<div>\n",
       "<style scoped>\n",
       "    .dataframe tbody tr th:only-of-type {\n",
       "        vertical-align: middle;\n",
       "    }\n",
       "\n",
       "    .dataframe tbody tr th {\n",
       "        vertical-align: top;\n",
       "    }\n",
       "\n",
       "    .dataframe thead th {\n",
       "        text-align: right;\n",
       "    }\n",
       "</style>\n",
       "<table border=\"1\" class=\"dataframe\">\n",
       "  <thead>\n",
       "    <tr style=\"text-align: right;\">\n",
       "      <th></th>\n",
       "      <th>release_year</th>\n",
       "      <th>runtime</th>\n",
       "      <th>seasons</th>\n",
       "      <th>imdb_score</th>\n",
       "      <th>imdb_votes</th>\n",
       "      <th>tmdb_popularity</th>\n",
       "      <th>tmdb_score</th>\n",
       "    </tr>\n",
       "  </thead>\n",
       "  <tbody>\n",
       "    <tr>\n",
       "      <th>count</th>\n",
       "      <td>20081.000000</td>\n",
       "      <td>20081.000000</td>\n",
       "      <td>4504.00000</td>\n",
       "      <td>17939.000000</td>\n",
       "      <td>1.791000e+04</td>\n",
       "      <td>19375.000000</td>\n",
       "      <td>17091.000000</td>\n",
       "    </tr>\n",
       "    <tr>\n",
       "      <th>mean</th>\n",
       "      <td>2004.400229</td>\n",
       "      <td>79.423883</td>\n",
       "      <td>2.64365</td>\n",
       "      <td>6.184843</td>\n",
       "      <td>1.917149e+04</td>\n",
       "      <td>15.082909</td>\n",
       "      <td>6.344228</td>\n",
       "    </tr>\n",
       "    <tr>\n",
       "      <th>std</th>\n",
       "      <td>24.271711</td>\n",
       "      <td>36.089967</td>\n",
       "      <td>3.71847</td>\n",
       "      <td>1.292510</td>\n",
       "      <td>9.054001e+04</td>\n",
       "      <td>96.350618</td>\n",
       "      <td>1.434322</td>\n",
       "    </tr>\n",
       "    <tr>\n",
       "      <th>min</th>\n",
       "      <td>1912.000000</td>\n",
       "      <td>0.000000</td>\n",
       "      <td>1.00000</td>\n",
       "      <td>1.100000</td>\n",
       "      <td>5.000000e+00</td>\n",
       "      <td>0.000011</td>\n",
       "      <td>0.500000</td>\n",
       "    </tr>\n",
       "    <tr>\n",
       "      <th>25%</th>\n",
       "      <td>2003.000000</td>\n",
       "      <td>52.000000</td>\n",
       "      <td>1.00000</td>\n",
       "      <td>5.400000</td>\n",
       "      <td>1.770000e+02</td>\n",
       "      <td>1.580000</td>\n",
       "      <td>5.600000</td>\n",
       "    </tr>\n",
       "    <tr>\n",
       "      <th>50%</th>\n",
       "      <td>2016.000000</td>\n",
       "      <td>85.000000</td>\n",
       "      <td>1.00000</td>\n",
       "      <td>6.300000</td>\n",
       "      <td>8.340000e+02</td>\n",
       "      <td>3.605000</td>\n",
       "      <td>6.400000</td>\n",
       "    </tr>\n",
       "    <tr>\n",
       "      <th>75%</th>\n",
       "      <td>2019.000000</td>\n",
       "      <td>100.000000</td>\n",
       "      <td>3.00000</td>\n",
       "      <td>7.100000</td>\n",
       "      <td>4.677500e+03</td>\n",
       "      <td>9.560500</td>\n",
       "      <td>7.300000</td>\n",
       "    </tr>\n",
       "    <tr>\n",
       "      <th>max</th>\n",
       "      <td>2022.000000</td>\n",
       "      <td>549.000000</td>\n",
       "      <td>51.00000</td>\n",
       "      <td>9.900000</td>\n",
       "      <td>2.294231e+06</td>\n",
       "      <td>9323.832000</td>\n",
       "      <td>10.000000</td>\n",
       "    </tr>\n",
       "  </tbody>\n",
       "</table>\n",
       "</div>"
      ],
      "text/plain": [
       "       release_year       runtime     seasons    imdb_score    imdb_votes  \\\n",
       "count  20081.000000  20081.000000  4504.00000  17939.000000  1.791000e+04   \n",
       "mean    2004.400229     79.423883     2.64365      6.184843  1.917149e+04   \n",
       "std       24.271711     36.089967     3.71847      1.292510  9.054001e+04   \n",
       "min     1912.000000      0.000000     1.00000      1.100000  5.000000e+00   \n",
       "25%     2003.000000     52.000000     1.00000      5.400000  1.770000e+02   \n",
       "50%     2016.000000     85.000000     1.00000      6.300000  8.340000e+02   \n",
       "75%     2019.000000    100.000000     3.00000      7.100000  4.677500e+03   \n",
       "max     2022.000000    549.000000    51.00000      9.900000  2.294231e+06   \n",
       "\n",
       "       tmdb_popularity    tmdb_score  \n",
       "count     19375.000000  17091.000000  \n",
       "mean         15.082909      6.344228  \n",
       "std          96.350618      1.434322  \n",
       "min           0.000011      0.500000  \n",
       "25%           1.580000      5.600000  \n",
       "50%           3.605000      6.400000  \n",
       "75%           9.560500      7.300000  \n",
       "max        9323.832000     10.000000  "
      ]
     },
     "execution_count": 118,
     "metadata": {},
     "output_type": "execute_result"
    }
   ],
   "source": [
    "\"\"\"\n",
    "각 계절마다 보는 영화나 쇼 \n",
    "런타임 긴 영화 순위 짧은 영화 순위 \n",
    "\n",
    "\"\"\"\n",
    "df.describe()\n"
   ]
  },
  {
   "cell_type": "code",
   "execution_count": 119,
   "id": "09cf5738",
   "metadata": {},
   "outputs": [
    {
     "data": {
      "text/html": [
       "<div>\n",
       "<style scoped>\n",
       "    .dataframe tbody tr th:only-of-type {\n",
       "        vertical-align: middle;\n",
       "    }\n",
       "\n",
       "    .dataframe tbody tr th {\n",
       "        vertical-align: top;\n",
       "    }\n",
       "\n",
       "    .dataframe thead th {\n",
       "        text-align: right;\n",
       "    }\n",
       "</style>\n",
       "<table border=\"1\" class=\"dataframe\">\n",
       "  <thead>\n",
       "    <tr style=\"text-align: right;\">\n",
       "      <th></th>\n",
       "      <th>release_year</th>\n",
       "      <th>runtime</th>\n",
       "      <th>seasons</th>\n",
       "      <th>imdb_score</th>\n",
       "      <th>imdb_votes</th>\n",
       "      <th>tmdb_popularity</th>\n",
       "      <th>tmdb_score</th>\n",
       "    </tr>\n",
       "  </thead>\n",
       "  <tbody>\n",
       "    <tr>\n",
       "      <th>release_year</th>\n",
       "      <td>1.000000</td>\n",
       "      <td>-0.009208</td>\n",
       "      <td>-0.448258</td>\n",
       "      <td>0.091846</td>\n",
       "      <td>0.017599</td>\n",
       "      <td>0.059085</td>\n",
       "      <td>0.211519</td>\n",
       "    </tr>\n",
       "    <tr>\n",
       "      <th>runtime</th>\n",
       "      <td>-0.009208</td>\n",
       "      <td>1.000000</td>\n",
       "      <td>-0.064353</td>\n",
       "      <td>-0.133226</td>\n",
       "      <td>0.155847</td>\n",
       "      <td>-0.006736</td>\n",
       "      <td>-0.210186</td>\n",
       "    </tr>\n",
       "    <tr>\n",
       "      <th>seasons</th>\n",
       "      <td>-0.448258</td>\n",
       "      <td>-0.064353</td>\n",
       "      <td>1.000000</td>\n",
       "      <td>0.025739</td>\n",
       "      <td>0.139408</td>\n",
       "      <td>0.058883</td>\n",
       "      <td>-0.025617</td>\n",
       "    </tr>\n",
       "    <tr>\n",
       "      <th>imdb_score</th>\n",
       "      <td>0.091846</td>\n",
       "      <td>-0.133226</td>\n",
       "      <td>0.025739</td>\n",
       "      <td>1.000000</td>\n",
       "      <td>0.194870</td>\n",
       "      <td>0.055313</td>\n",
       "      <td>0.603145</td>\n",
       "    </tr>\n",
       "    <tr>\n",
       "      <th>imdb_votes</th>\n",
       "      <td>0.017599</td>\n",
       "      <td>0.155847</td>\n",
       "      <td>0.139408</td>\n",
       "      <td>0.194870</td>\n",
       "      <td>1.000000</td>\n",
       "      <td>0.169149</td>\n",
       "      <td>0.150164</td>\n",
       "    </tr>\n",
       "    <tr>\n",
       "      <th>tmdb_popularity</th>\n",
       "      <td>0.059085</td>\n",
       "      <td>-0.006736</td>\n",
       "      <td>0.058883</td>\n",
       "      <td>0.055313</td>\n",
       "      <td>0.169149</td>\n",
       "      <td>1.000000</td>\n",
       "      <td>0.084093</td>\n",
       "    </tr>\n",
       "    <tr>\n",
       "      <th>tmdb_score</th>\n",
       "      <td>0.211519</td>\n",
       "      <td>-0.210186</td>\n",
       "      <td>-0.025617</td>\n",
       "      <td>0.603145</td>\n",
       "      <td>0.150164</td>\n",
       "      <td>0.084093</td>\n",
       "      <td>1.000000</td>\n",
       "    </tr>\n",
       "  </tbody>\n",
       "</table>\n",
       "</div>"
      ],
      "text/plain": [
       "                 release_year   runtime   seasons  imdb_score  imdb_votes  \\\n",
       "release_year         1.000000 -0.009208 -0.448258    0.091846    0.017599   \n",
       "runtime             -0.009208  1.000000 -0.064353   -0.133226    0.155847   \n",
       "seasons             -0.448258 -0.064353  1.000000    0.025739    0.139408   \n",
       "imdb_score           0.091846 -0.133226  0.025739    1.000000    0.194870   \n",
       "imdb_votes           0.017599  0.155847  0.139408    0.194870    1.000000   \n",
       "tmdb_popularity      0.059085 -0.006736  0.058883    0.055313    0.169149   \n",
       "tmdb_score           0.211519 -0.210186 -0.025617    0.603145    0.150164   \n",
       "\n",
       "                 tmdb_popularity  tmdb_score  \n",
       "release_year            0.059085    0.211519  \n",
       "runtime                -0.006736   -0.210186  \n",
       "seasons                 0.058883   -0.025617  \n",
       "imdb_score              0.055313    0.603145  \n",
       "imdb_votes              0.169149    0.150164  \n",
       "tmdb_popularity         1.000000    0.084093  \n",
       "tmdb_score              0.084093    1.000000  "
      ]
     },
     "execution_count": 119,
     "metadata": {},
     "output_type": "execute_result"
    }
   ],
   "source": [
    "df.corr()"
   ]
  },
  {
   "cell_type": "code",
   "execution_count": 120,
   "id": "08dba76e",
   "metadata": {
    "scrolled": false
   },
   "outputs": [
    {
     "data": {
      "image/png": "[encoded data removed]",
      "text/plain": [
       "<Figure size 432x288 with 1 Axes>"
      ]
     },
     "metadata": {
      "needs_background": "light"
     },
     "output_type": "display_data"
    }
   ],
   "source": [
    "# 각 플랫폼 영화 숫자 파악 \n",
    "#pokemon[\"Type 2\"].value_counts().plot(kind=\"bar\")\n",
    "#\"Count of records by Streaming Services\"\n",
    "\n",
    "df[\"Platform\"].value_counts().plot(kind=\"bar\")\n",
    "plt.title(\"Count of records by Streaming Services\")\n",
    "plt.show()"
   ]
  },
  {
   "cell_type": "code",
   "execution_count": 121,
   "id": "7dfef835",
   "metadata": {},
   "outputs": [
    {
     "data": {
      "text/plain": [
       "<AxesSubplot:xlabel='tmdb_popularity', ylabel='Density'>"
      ]
     },
     "execution_count": 121,
     "metadata": {},
     "output_type": "execute_result"
    },
    {
     "data": {
      "image/png": "[encoded data removed]",
      "text/plain": [
       "<Figure size 432x288 with 1 Axes>"
      ]
     },
     "metadata": {
      "needs_background": "light"
     },
     "output_type": "display_data"
    }
   ],
   "source": [
    "\n",
    "# vote 시각화 해보기 \n",
    "sns.kdeplot(df[\"tmdb_popularity\"])"
   ]
  },
  {
   "cell_type": "code",
   "execution_count": 122,
   "id": "8ab57a04",
   "metadata": {},
   "outputs": [
    {
     "data": {
      "text/plain": [
       "(20081, 13)"
      ]
     },
     "execution_count": 122,
     "metadata": {},
     "output_type": "execute_result"
    }
   ],
   "source": [
    "df.shape"
   ]
  },
  {
   "cell_type": "code",
   "execution_count": 123,
   "id": "2f6d5195",
   "metadata": {
    "scrolled": false
   },
   "outputs": [
    {
     "data": {
      "text/html": [
       "<div>\n",
       "<style scoped>\n",
       "    .dataframe tbody tr th:only-of-type {\n",
       "        vertical-align: middle;\n",
       "    }\n",
       "\n",
       "    .dataframe tbody tr th {\n",
       "        vertical-align: top;\n",
       "    }\n",
       "\n",
       "    .dataframe thead th {\n",
       "        text-align: right;\n",
       "    }\n",
       "</style>\n",
       "<table border=\"1\" class=\"dataframe\">\n",
       "  <thead>\n",
       "    <tr style=\"text-align: right;\">\n",
       "      <th></th>\n",
       "      <th>title</th>\n",
       "      <th>type</th>\n",
       "      <th>release_year</th>\n",
       "      <th>age_certification</th>\n",
       "      <th>runtime</th>\n",
       "      <th>genres</th>\n",
       "      <th>production_countries</th>\n",
       "      <th>seasons</th>\n",
       "      <th>imdb_score</th>\n",
       "      <th>imdb_votes</th>\n",
       "      <th>tmdb_popularity</th>\n",
       "      <th>tmdb_score</th>\n",
       "      <th>Platform</th>\n",
       "    </tr>\n",
       "  </thead>\n",
       "  <tbody>\n",
       "    <tr>\n",
       "      <th>672</th>\n",
       "      <td>Ye Shang Hai</td>\n",
       "      <td>MOVIE</td>\n",
       "      <td>1941</td>\n",
       "      <td>NaN</td>\n",
       "      <td>62</td>\n",
       "      <td>['drama']</td>\n",
       "      <td>[]</td>\n",
       "      <td>NaN</td>\n",
       "      <td>NaN</td>\n",
       "      <td>NaN</td>\n",
       "      <td>NaN</td>\n",
       "      <td>NaN</td>\n",
       "      <td>amazon</td>\n",
       "    </tr>\n",
       "    <tr>\n",
       "      <th>731</th>\n",
       "      <td>Peculiar Pets</td>\n",
       "      <td>MOVIE</td>\n",
       "      <td>1921</td>\n",
       "      <td>NaN</td>\n",
       "      <td>47</td>\n",
       "      <td>['documentation']</td>\n",
       "      <td>[]</td>\n",
       "      <td>NaN</td>\n",
       "      <td>NaN</td>\n",
       "      <td>NaN</td>\n",
       "      <td>NaN</td>\n",
       "      <td>NaN</td>\n",
       "      <td>amazon</td>\n",
       "    </tr>\n",
       "    <tr>\n",
       "      <th>795</th>\n",
       "      <td>Sri Valli</td>\n",
       "      <td>MOVIE</td>\n",
       "      <td>1945</td>\n",
       "      <td>NaN</td>\n",
       "      <td>114</td>\n",
       "      <td>['drama']</td>\n",
       "      <td>[]</td>\n",
       "      <td>NaN</td>\n",
       "      <td>NaN</td>\n",
       "      <td>NaN</td>\n",
       "      <td>NaN</td>\n",
       "      <td>NaN</td>\n",
       "      <td>amazon</td>\n",
       "    </tr>\n",
       "    <tr>\n",
       "      <th>1661</th>\n",
       "      <td>Dhonni Meye</td>\n",
       "      <td>MOVIE</td>\n",
       "      <td>1975</td>\n",
       "      <td>NaN</td>\n",
       "      <td>133</td>\n",
       "      <td>['drama']</td>\n",
       "      <td>[]</td>\n",
       "      <td>NaN</td>\n",
       "      <td>NaN</td>\n",
       "      <td>NaN</td>\n",
       "      <td>NaN</td>\n",
       "      <td>NaN</td>\n",
       "      <td>amazon</td>\n",
       "    </tr>\n",
       "    <tr>\n",
       "      <th>1664</th>\n",
       "      <td>John Brown's Body</td>\n",
       "      <td>MOVIE</td>\n",
       "      <td>1962</td>\n",
       "      <td>NaN</td>\n",
       "      <td>90</td>\n",
       "      <td>['drama']</td>\n",
       "      <td>[]</td>\n",
       "      <td>NaN</td>\n",
       "      <td>NaN</td>\n",
       "      <td>NaN</td>\n",
       "      <td>NaN</td>\n",
       "      <td>NaN</td>\n",
       "      <td>amazon</td>\n",
       "    </tr>\n",
       "    <tr>\n",
       "      <th>...</th>\n",
       "      <td>...</td>\n",
       "      <td>...</td>\n",
       "      <td>...</td>\n",
       "      <td>...</td>\n",
       "      <td>...</td>\n",
       "      <td>...</td>\n",
       "      <td>...</td>\n",
       "      <td>...</td>\n",
       "      <td>...</td>\n",
       "      <td>...</td>\n",
       "      <td>...</td>\n",
       "      <td>...</td>\n",
       "      <td>...</td>\n",
       "    </tr>\n",
       "    <tr>\n",
       "      <th>18050</th>\n",
       "      <td>Patton Oswalt: I Love Everything</td>\n",
       "      <td>SHOW</td>\n",
       "      <td>2020</td>\n",
       "      <td>NaN</td>\n",
       "      <td>60</td>\n",
       "      <td>[]</td>\n",
       "      <td>[]</td>\n",
       "      <td>1.0</td>\n",
       "      <td>NaN</td>\n",
       "      <td>NaN</td>\n",
       "      <td>NaN</td>\n",
       "      <td>NaN</td>\n",
       "      <td>netflix</td>\n",
       "    </tr>\n",
       "    <tr>\n",
       "      <th>19714</th>\n",
       "      <td>My Little Pony: A New Generation: Sing-Along</td>\n",
       "      <td>MOVIE</td>\n",
       "      <td>2022</td>\n",
       "      <td>NaN</td>\n",
       "      <td>90</td>\n",
       "      <td>[]</td>\n",
       "      <td>[]</td>\n",
       "      <td>NaN</td>\n",
       "      <td>NaN</td>\n",
       "      <td>NaN</td>\n",
       "      <td>NaN</td>\n",
       "      <td>NaN</td>\n",
       "      <td>netflix</td>\n",
       "    </tr>\n",
       "    <tr>\n",
       "      <th>19738</th>\n",
       "      <td>Bridgerton - The Afterparty</td>\n",
       "      <td>MOVIE</td>\n",
       "      <td>2021</td>\n",
       "      <td>NaN</td>\n",
       "      <td>38</td>\n",
       "      <td>[]</td>\n",
       "      <td>['US']</td>\n",
       "      <td>NaN</td>\n",
       "      <td>NaN</td>\n",
       "      <td>NaN</td>\n",
       "      <td>NaN</td>\n",
       "      <td>NaN</td>\n",
       "      <td>netflix</td>\n",
       "    </tr>\n",
       "    <tr>\n",
       "      <th>20041</th>\n",
       "      <td>Social Man</td>\n",
       "      <td>MOVIE</td>\n",
       "      <td>2021</td>\n",
       "      <td>NaN</td>\n",
       "      <td>96</td>\n",
       "      <td>['comedy', 'drama']</td>\n",
       "      <td>[]</td>\n",
       "      <td>NaN</td>\n",
       "      <td>NaN</td>\n",
       "      <td>NaN</td>\n",
       "      <td>NaN</td>\n",
       "      <td>NaN</td>\n",
       "      <td>netflix</td>\n",
       "    </tr>\n",
       "    <tr>\n",
       "      <th>20075</th>\n",
       "      <td>Bling Empire - The Afterparty</td>\n",
       "      <td>MOVIE</td>\n",
       "      <td>2021</td>\n",
       "      <td>NaN</td>\n",
       "      <td>35</td>\n",
       "      <td>[]</td>\n",
       "      <td>['US']</td>\n",
       "      <td>NaN</td>\n",
       "      <td>NaN</td>\n",
       "      <td>NaN</td>\n",
       "      <td>NaN</td>\n",
       "      <td>NaN</td>\n",
       "      <td>netflix</td>\n",
       "    </tr>\n",
       "  </tbody>\n",
       "</table>\n",
       "<p>260 rows × 13 columns</p>\n",
       "</div>"
      ],
      "text/plain": [
       "                                              title   type  release_year  \\\n",
       "672                                    Ye Shang Hai  MOVIE          1941   \n",
       "731                                   Peculiar Pets  MOVIE          1921   \n",
       "795                                       Sri Valli  MOVIE          1945   \n",
       "1661                                    Dhonni Meye  MOVIE          1975   \n",
       "1664                              John Brown's Body  MOVIE          1962   \n",
       "...                                             ...    ...           ...   \n",
       "18050              Patton Oswalt: I Love Everything   SHOW          2020   \n",
       "19714  My Little Pony: A New Generation: Sing-Along  MOVIE          2022   \n",
       "19738                   Bridgerton - The Afterparty  MOVIE          2021   \n",
       "20041                                    Social Man  MOVIE          2021   \n",
       "20075                 Bling Empire - The Afterparty  MOVIE          2021   \n",
       "\n",
       "      age_certification  runtime               genres production_countries  \\\n",
       "672                 NaN       62            ['drama']                   []   \n",
       "731                 NaN       47    ['documentation']                   []   \n",
       "795                 NaN      114            ['drama']                   []   \n",
       "1661                NaN      133            ['drama']                   []   \n",
       "1664                NaN       90            ['drama']                   []   \n",
       "...                 ...      ...                  ...                  ...   \n",
       "18050               NaN       60                   []                   []   \n",
       "19714               NaN       90                   []                   []   \n",
       "19738               NaN       38                   []               ['US']   \n",
       "20041               NaN       96  ['comedy', 'drama']                   []   \n",
       "20075               NaN       35                   []               ['US']   \n",
       "\n",
       "       seasons  imdb_score  imdb_votes  tmdb_popularity  tmdb_score Platform  \n",
       "672        NaN         NaN         NaN              NaN         NaN   amazon  \n",
       "731        NaN         NaN         NaN              NaN         NaN   amazon  \n",
       "795        NaN         NaN         NaN              NaN         NaN   amazon  \n",
       "1661       NaN         NaN         NaN              NaN         NaN   amazon  \n",
       "1664       NaN         NaN         NaN              NaN         NaN   amazon  \n",
       "...        ...         ...         ...              ...         ...      ...  \n",
       "18050      1.0         NaN         NaN              NaN         NaN  netflix  \n",
       "19714      NaN         NaN         NaN              NaN         NaN  netflix  \n",
       "19738      NaN         NaN         NaN              NaN         NaN  netflix  \n",
       "20041      NaN         NaN         NaN              NaN         NaN  netflix  \n",
       "20075      NaN         NaN         NaN              NaN         NaN  netflix  \n",
       "\n",
       "[260 rows x 13 columns]"
      ]
     },
     "execution_count": 123,
     "metadata": {},
     "output_type": "execute_result"
    }
   ],
   "source": [
    "# 4개 모두 만족 확인 \n",
    "df[(df[\"imdb_votes\"].isna()==True)&(df[\"imdb_score\"].isna()==True)&(df[\"tmdb_popularity\"].isna()==True)&(df[\"tmdb_score\"].isna()==True)]\n"
   ]
  },
  {
   "cell_type": "code",
   "execution_count": 124,
   "id": "b0baae1a",
   "metadata": {},
   "outputs": [],
   "source": [
    "# 4개 만족하는거 drop하기 \n",
    "index_drop=df[(df[\"imdb_votes\"].isna()==True)&(df[\"imdb_score\"].isna()==True)&(df[\"tmdb_popularity\"].isna()==True)&(df[\"tmdb_score\"].isna()==True)].index\n",
    "df.drop(index_drop,inplace=True)\n",
    "\n"
   ]
  },
  {
   "cell_type": "code",
   "execution_count": 125,
   "id": "4413292b",
   "metadata": {},
   "outputs": [
    {
     "data": {
      "text/html": [
       "<div>\n",
       "<style scoped>\n",
       "    .dataframe tbody tr th:only-of-type {\n",
       "        vertical-align: middle;\n",
       "    }\n",
       "\n",
       "    .dataframe tbody tr th {\n",
       "        vertical-align: top;\n",
       "    }\n",
       "\n",
       "    .dataframe thead th {\n",
       "        text-align: right;\n",
       "    }\n",
       "</style>\n",
       "<table border=\"1\" class=\"dataframe\">\n",
       "  <thead>\n",
       "    <tr style=\"text-align: right;\">\n",
       "      <th></th>\n",
       "      <th>title</th>\n",
       "      <th>type</th>\n",
       "      <th>release_year</th>\n",
       "      <th>age_certification</th>\n",
       "      <th>runtime</th>\n",
       "      <th>genres</th>\n",
       "      <th>production_countries</th>\n",
       "      <th>seasons</th>\n",
       "      <th>imdb_score</th>\n",
       "      <th>imdb_votes</th>\n",
       "      <th>tmdb_popularity</th>\n",
       "      <th>tmdb_score</th>\n",
       "      <th>Platform</th>\n",
       "    </tr>\n",
       "  </thead>\n",
       "  <tbody>\n",
       "    <tr>\n",
       "      <th>0</th>\n",
       "      <td>The Three Stooges</td>\n",
       "      <td>SHOW</td>\n",
       "      <td>1934</td>\n",
       "      <td>TV-PG</td>\n",
       "      <td>19</td>\n",
       "      <td>['comedy', 'family', 'animation', 'action', 'f...</td>\n",
       "      <td>['US']</td>\n",
       "      <td>26.0</td>\n",
       "      <td>8.6</td>\n",
       "      <td>1092.0</td>\n",
       "      <td>15.424</td>\n",
       "      <td>7.6</td>\n",
       "      <td>amazon</td>\n",
       "    </tr>\n",
       "    <tr>\n",
       "      <th>1</th>\n",
       "      <td>The General</td>\n",
       "      <td>MOVIE</td>\n",
       "      <td>1926</td>\n",
       "      <td>NaN</td>\n",
       "      <td>78</td>\n",
       "      <td>['action', 'drama', 'war', 'western', 'comedy'...</td>\n",
       "      <td>['US']</td>\n",
       "      <td>NaN</td>\n",
       "      <td>8.2</td>\n",
       "      <td>89766.0</td>\n",
       "      <td>8.647</td>\n",
       "      <td>8.0</td>\n",
       "      <td>amazon</td>\n",
       "    </tr>\n",
       "    <tr>\n",
       "      <th>2</th>\n",
       "      <td>The Best Years of Our Lives</td>\n",
       "      <td>MOVIE</td>\n",
       "      <td>1946</td>\n",
       "      <td>NaN</td>\n",
       "      <td>171</td>\n",
       "      <td>['romance', 'war', 'drama']</td>\n",
       "      <td>['US']</td>\n",
       "      <td>NaN</td>\n",
       "      <td>8.1</td>\n",
       "      <td>63026.0</td>\n",
       "      <td>8.435</td>\n",
       "      <td>7.8</td>\n",
       "      <td>amazon</td>\n",
       "    </tr>\n",
       "    <tr>\n",
       "      <th>3</th>\n",
       "      <td>His Girl Friday</td>\n",
       "      <td>MOVIE</td>\n",
       "      <td>1940</td>\n",
       "      <td>NaN</td>\n",
       "      <td>92</td>\n",
       "      <td>['comedy', 'drama', 'romance']</td>\n",
       "      <td>['US']</td>\n",
       "      <td>NaN</td>\n",
       "      <td>7.8</td>\n",
       "      <td>57835.0</td>\n",
       "      <td>11.270</td>\n",
       "      <td>7.4</td>\n",
       "      <td>amazon</td>\n",
       "    </tr>\n",
       "    <tr>\n",
       "      <th>4</th>\n",
       "      <td>In a Lonely Place</td>\n",
       "      <td>MOVIE</td>\n",
       "      <td>1950</td>\n",
       "      <td>NaN</td>\n",
       "      <td>94</td>\n",
       "      <td>['thriller', 'drama', 'romance']</td>\n",
       "      <td>['US']</td>\n",
       "      <td>NaN</td>\n",
       "      <td>7.9</td>\n",
       "      <td>30924.0</td>\n",
       "      <td>8.273</td>\n",
       "      <td>7.6</td>\n",
       "      <td>amazon</td>\n",
       "    </tr>\n",
       "  </tbody>\n",
       "</table>\n",
       "</div>"
      ],
      "text/plain": [
       "                         title   type  release_year age_certification  \\\n",
       "0            The Three Stooges   SHOW          1934             TV-PG   \n",
       "1                  The General  MOVIE          1926               NaN   \n",
       "2  The Best Years of Our Lives  MOVIE          1946               NaN   \n",
       "3              His Girl Friday  MOVIE          1940               NaN   \n",
       "4            In a Lonely Place  MOVIE          1950               NaN   \n",
       "\n",
       "   runtime                                             genres  \\\n",
       "0       19  ['comedy', 'family', 'animation', 'action', 'f...   \n",
       "1       78  ['action', 'drama', 'war', 'western', 'comedy'...   \n",
       "2      171                        ['romance', 'war', 'drama']   \n",
       "3       92                     ['comedy', 'drama', 'romance']   \n",
       "4       94                   ['thriller', 'drama', 'romance']   \n",
       "\n",
       "  production_countries  seasons  imdb_score  imdb_votes  tmdb_popularity  \\\n",
       "0               ['US']     26.0         8.6      1092.0           15.424   \n",
       "1               ['US']      NaN         8.2     89766.0            8.647   \n",
       "2               ['US']      NaN         8.1     63026.0            8.435   \n",
       "3               ['US']      NaN         7.8     57835.0           11.270   \n",
       "4               ['US']      NaN         7.9     30924.0            8.273   \n",
       "\n",
       "   tmdb_score Platform  \n",
       "0         7.6   amazon  \n",
       "1         8.0   amazon  \n",
       "2         7.8   amazon  \n",
       "3         7.4   amazon  \n",
       "4         7.6   amazon  "
      ]
     },
     "execution_count": 125,
     "metadata": {},
     "output_type": "execute_result"
    }
   ],
   "source": [
    "df.head()"
   ]
  },
  {
   "cell_type": "code",
   "execution_count": 126,
   "id": "6d25b7b1",
   "metadata": {
    "scrolled": false
   },
   "outputs": [
    {
     "data": {
      "text/plain": [
       "title                       0\n",
       "type                        0\n",
       "release_year                0\n",
       "age_certification       10722\n",
       "runtime                     0\n",
       "genres                      0\n",
       "production_countries        0\n",
       "seasons                 15384\n",
       "imdb_score               1882\n",
       "imdb_votes               1911\n",
       "tmdb_popularity           446\n",
       "tmdb_score               2730\n",
       "Platform                    0\n",
       "dtype: int64"
      ]
     },
     "execution_count": 126,
     "metadata": {},
     "output_type": "execute_result"
    }
   ],
   "source": [
    "# 결측치 확인 \n",
    "df.isnull().sum()"
   ]
  },
  {
   "cell_type": "code",
   "execution_count": null,
   "id": "cbc00ac2",
   "metadata": {},
   "outputs": [],
   "source": []
  },
  {
   "cell_type": "code",
   "execution_count": 127,
   "id": "f0657cb3",
   "metadata": {},
   "outputs": [
    {
     "name": "stdout",
     "output_type": "stream",
     "text": [
      "['TV-PG' nan 'PG' 'G' 'PG-13' 'R' 'TV-G' 'TV-Y' 'TV-14' 'NC-17' 'TV-Y7'\n",
      " 'TV-MA']\n"
     ]
    }
   ],
   "source": [
    "# title 결측치 삭제 하기 \n",
    "df = df[~df[\"title\"].isnull()]\n",
    "\n",
    "\n",
    "# age_certification 결측치 없에기 \n",
    "\n",
    "print(df[\"age_certification\"].unique())\n",
    "df[\"age_certification\"].fillna(\"Not Rated\",inplace=True)\n",
    "\n",
    "# seasons의 nan은 0으로 하기 \n",
    "df[\"seasons\"].fillna(0,inplace=True)\n",
    "\n",
    "\n",
    "#나머지 결측치는 평균값으로 하기 \n",
    "df[\"imdb_score\"].fillna(df[\"imdb_score\"].mean(),inplace=True)\n",
    "df[\"imdb_votes\"].fillna(df[\"imdb_votes\"].mode()[0],inplace=True)\n",
    "df[\"tmdb_popularity\"].fillna(df[\"tmdb_popularity\"].mode()[0],inplace=True)\n",
    "df[\"tmdb_score\"].fillna(df[\"tmdb_score\"].mean(),inplace=True)\n"
   ]
  },
  {
   "cell_type": "code",
   "execution_count": 128,
   "id": "7f08f46f",
   "metadata": {
    "scrolled": false
   },
   "outputs": [
    {
     "data": {
      "text/plain": [
       "title                   0\n",
       "type                    0\n",
       "release_year            0\n",
       "age_certification       0\n",
       "runtime                 0\n",
       "genres                  0\n",
       "production_countries    0\n",
       "seasons                 0\n",
       "imdb_score              0\n",
       "imdb_votes              0\n",
       "tmdb_popularity         0\n",
       "tmdb_score              0\n",
       "Platform                0\n",
       "dtype: int64"
      ]
     },
     "execution_count": 128,
     "metadata": {},
     "output_type": "execute_result"
    }
   ],
   "source": [
    "# 결측치 확인 \n",
    "df.isnull().sum()"
   ]
  },
  {
   "cell_type": "code",
   "execution_count": 129,
   "id": "cb4ba716",
   "metadata": {},
   "outputs": [
    {
     "data": {
      "text/plain": [
       "(19821, 13)"
      ]
     },
     "execution_count": 129,
     "metadata": {},
     "output_type": "execute_result"
    }
   ],
   "source": [
    "df.shape"
   ]
  },
  {
   "cell_type": "code",
   "execution_count": 130,
   "id": "bb3a53d4",
   "metadata": {},
   "outputs": [],
   "source": [
    "M=df[\"imdb_votes\"].sort_values(ascending=False).iloc[250]"
   ]
  },
  {
   "cell_type": "code",
   "execution_count": 131,
   "id": "06a3cbc9",
   "metadata": {},
   "outputs": [],
   "source": [
    "C=df[\"imdb_votes\"].mean()"
   ]
  },
  {
   "cell_type": "code",
   "execution_count": 132,
   "id": "327519cb",
   "metadata": {},
   "outputs": [],
   "source": [
    "\n",
    "#imdb_pop 계산 \n",
    "\n",
    "\n",
    "df[\"imdb_pop\"] = (df[\"imdb_votes\"]/(df[\"imdb_votes\"]+M))*df[\"imdb_score\"] +(M/(df[\"imdb_votes\"]+M))*C\n",
    "\n",
    "\n"
   ]
  },
  {
   "cell_type": "code",
   "execution_count": 133,
   "id": "370a5699",
   "metadata": {},
   "outputs": [],
   "source": [
    "normalization_df_imdb_score=(df[\"imdb_score\"]-df[\"imdb_score\"].min())/(df[\"imdb_score\"].max()-df[\"imdb_score\"].min())\n",
    "noraml_imdb_votes=(df[\"imdb_votes\"]-df[\"imdb_votes\"].min())/(df[\"imdb_votes\"].max()-df[\"imdb_votes\"].min())\n",
    "\n",
    "\n",
    "df[\"imdb_scor_nor\"] = normalization_df_imdb_score\n",
    "df[\"imdb_vote_nor\"]=noraml_imdb_votes"
   ]
  },
  {
   "cell_type": "code",
   "execution_count": 134,
   "id": "d3829853",
   "metadata": {},
   "outputs": [],
   "source": [
    "scor_mean=df[\"imdb_scor_nor\"].mean()\n",
    "vote_mean = df[\"imdb_vote_nor\"].mean()"
   ]
  },
  {
   "cell_type": "code",
   "execution_count": 135,
   "id": "aa707bc3",
   "metadata": {},
   "outputs": [
    {
     "data": {
      "text/plain": [
       "9135     1.000000\n",
       "7783     0.977273\n",
       "10886    0.977273\n",
       "16889    0.965909\n",
       "14447    0.954545\n",
       "           ...   \n",
       "4541     0.045455\n",
       "4782     0.022727\n",
       "4434     0.022727\n",
       "4048     0.011364\n",
       "7764     0.000000\n",
       "Name: imdb_scor_nor, Length: 19821, dtype: float64"
      ]
     },
     "execution_count": 135,
     "metadata": {},
     "output_type": "execute_result"
    }
   ],
   "source": [
    "df[\"imdb_scor_nor\"].sort_values(ascending=False)"
   ]
  },
  {
   "cell_type": "code",
   "execution_count": 136,
   "id": "97a90b5c",
   "metadata": {
    "scrolled": true
   },
   "outputs": [
    {
     "data": {
      "text/plain": [
       "14468    1.000000\n",
       "14328    0.881054\n",
       "12483    0.869397\n",
       "12479    0.864220\n",
       "11955    0.776104\n",
       "           ...   \n",
       "1736     0.000000\n",
       "13473    0.000000\n",
       "6931     0.000000\n",
       "8278     0.000000\n",
       "6976     0.000000\n",
       "Name: imdb_vote_nor, Length: 19821, dtype: float64"
      ]
     },
     "execution_count": 136,
     "metadata": {},
     "output_type": "execute_result"
    }
   ],
   "source": [
    "df[\"imdb_vote_nor\"].sort_values(ascending=False)"
   ]
  },
  {
   "cell_type": "code",
   "execution_count": 137,
   "id": "1365f556",
   "metadata": {},
   "outputs": [
    {
     "name": "stderr",
     "output_type": "stream",
     "text": [
      "C:\\Users\\maeng\\AppData\\Local\\Temp/ipykernel_38472/2265880420.py:2: SettingWithCopyWarning: \n",
      "A value is trying to be set on a copy of a slice from a DataFrame.\n",
      "Try using .loc[row_indexer,col_indexer] = value instead\n",
      "\n",
      "See the caveats in the documentation: https://pandas.pydata.org/pandas-docs/stable/user_guide/indexing.html#returning-a-view-versus-a-copy\n",
      "  mean_over[\"new_metrix\"] = df[\"imdb_scor_nor\"]*df[\"imdb_vote_nor\"]\n"
     ]
    },
    {
     "data": {
      "text/html": [
       "<div>\n",
       "<style scoped>\n",
       "    .dataframe tbody tr th:only-of-type {\n",
       "        vertical-align: middle;\n",
       "    }\n",
       "\n",
       "    .dataframe tbody tr th {\n",
       "        vertical-align: top;\n",
       "    }\n",
       "\n",
       "    .dataframe thead th {\n",
       "        text-align: right;\n",
       "    }\n",
       "</style>\n",
       "<table border=\"1\" class=\"dataframe\">\n",
       "  <thead>\n",
       "    <tr style=\"text-align: right;\">\n",
       "      <th></th>\n",
       "      <th>title</th>\n",
       "      <th>type</th>\n",
       "      <th>release_year</th>\n",
       "      <th>age_certification</th>\n",
       "      <th>runtime</th>\n",
       "      <th>genres</th>\n",
       "      <th>production_countries</th>\n",
       "      <th>seasons</th>\n",
       "      <th>imdb_score</th>\n",
       "      <th>imdb_votes</th>\n",
       "      <th>tmdb_popularity</th>\n",
       "      <th>tmdb_score</th>\n",
       "      <th>Platform</th>\n",
       "      <th>imdb_pop</th>\n",
       "      <th>imdb_scor_nor</th>\n",
       "      <th>imdb_vote_nor</th>\n",
       "      <th>new_metrix</th>\n",
       "    </tr>\n",
       "  </thead>\n",
       "  <tbody>\n",
       "    <tr>\n",
       "      <th>1</th>\n",
       "      <td>The General</td>\n",
       "      <td>MOVIE</td>\n",
       "      <td>1926</td>\n",
       "      <td>Not Rated</td>\n",
       "      <td>78</td>\n",
       "      <td>['action', 'drama', 'war', 'western', 'comedy'...</td>\n",
       "      <td>['US']</td>\n",
       "      <td>0.0</td>\n",
       "      <td>8.2</td>\n",
       "      <td>89766.0</td>\n",
       "      <td>8.647</td>\n",
       "      <td>8.0</td>\n",
       "      <td>amazon</td>\n",
       "      <td>13430.527805</td>\n",
       "      <td>0.806818</td>\n",
       "      <td>0.039125</td>\n",
       "      <td>0.031567</td>\n",
       "    </tr>\n",
       "    <tr>\n",
       "      <th>2</th>\n",
       "      <td>The Best Years of Our Lives</td>\n",
       "      <td>MOVIE</td>\n",
       "      <td>1946</td>\n",
       "      <td>Not Rated</td>\n",
       "      <td>171</td>\n",
       "      <td>['romance', 'war', 'drama']</td>\n",
       "      <td>['US']</td>\n",
       "      <td>0.0</td>\n",
       "      <td>8.1</td>\n",
       "      <td>63026.0</td>\n",
       "      <td>8.435</td>\n",
       "      <td>7.8</td>\n",
       "      <td>amazon</td>\n",
       "      <td>14394.110857</td>\n",
       "      <td>0.795455</td>\n",
       "      <td>0.027469</td>\n",
       "      <td>0.021851</td>\n",
       "    </tr>\n",
       "    <tr>\n",
       "      <th>3</th>\n",
       "      <td>His Girl Friday</td>\n",
       "      <td>MOVIE</td>\n",
       "      <td>1940</td>\n",
       "      <td>Not Rated</td>\n",
       "      <td>92</td>\n",
       "      <td>['comedy', 'drama', 'romance']</td>\n",
       "      <td>['US']</td>\n",
       "      <td>0.0</td>\n",
       "      <td>7.8</td>\n",
       "      <td>57835.0</td>\n",
       "      <td>11.270</td>\n",
       "      <td>7.4</td>\n",
       "      <td>amazon</td>\n",
       "      <td>14597.390186</td>\n",
       "      <td>0.761364</td>\n",
       "      <td>0.025207</td>\n",
       "      <td>0.019192</td>\n",
       "    </tr>\n",
       "    <tr>\n",
       "      <th>4</th>\n",
       "      <td>In a Lonely Place</td>\n",
       "      <td>MOVIE</td>\n",
       "      <td>1950</td>\n",
       "      <td>Not Rated</td>\n",
       "      <td>94</td>\n",
       "      <td>['thriller', 'drama', 'romance']</td>\n",
       "      <td>['US']</td>\n",
       "      <td>0.0</td>\n",
       "      <td>7.9</td>\n",
       "      <td>30924.0</td>\n",
       "      <td>8.273</td>\n",
       "      <td>7.6</td>\n",
       "      <td>amazon</td>\n",
       "      <td>15750.913432</td>\n",
       "      <td>0.772727</td>\n",
       "      <td>0.013477</td>\n",
       "      <td>0.010414</td>\n",
       "    </tr>\n",
       "    <tr>\n",
       "      <th>5</th>\n",
       "      <td>Stagecoach</td>\n",
       "      <td>MOVIE</td>\n",
       "      <td>1939</td>\n",
       "      <td>Not Rated</td>\n",
       "      <td>96</td>\n",
       "      <td>['western', 'drama']</td>\n",
       "      <td>['US']</td>\n",
       "      <td>0.0</td>\n",
       "      <td>7.8</td>\n",
       "      <td>48149.0</td>\n",
       "      <td>11.786</td>\n",
       "      <td>7.7</td>\n",
       "      <td>amazon</td>\n",
       "      <td>14992.572349</td>\n",
       "      <td>0.761364</td>\n",
       "      <td>0.020985</td>\n",
       "      <td>0.015977</td>\n",
       "    </tr>\n",
       "    <tr>\n",
       "      <th>...</th>\n",
       "      <td>...</td>\n",
       "      <td>...</td>\n",
       "      <td>...</td>\n",
       "      <td>...</td>\n",
       "      <td>...</td>\n",
       "      <td>...</td>\n",
       "      <td>...</td>\n",
       "      <td>...</td>\n",
       "      <td>...</td>\n",
       "      <td>...</td>\n",
       "      <td>...</td>\n",
       "      <td>...</td>\n",
       "      <td>...</td>\n",
       "      <td>...</td>\n",
       "      <td>...</td>\n",
       "      <td>...</td>\n",
       "      <td>...</td>\n",
       "    </tr>\n",
       "    <tr>\n",
       "      <th>19540</th>\n",
       "      <td>Sooryavanshi</td>\n",
       "      <td>MOVIE</td>\n",
       "      <td>2021</td>\n",
       "      <td>Not Rated</td>\n",
       "      <td>145</td>\n",
       "      <td>['action', 'thriller', 'crime']</td>\n",
       "      <td>['IN']</td>\n",
       "      <td>0.0</td>\n",
       "      <td>6.3</td>\n",
       "      <td>75952.0</td>\n",
       "      <td>121.867</td>\n",
       "      <td>5.7</td>\n",
       "      <td>netflix</td>\n",
       "      <td>13911.257358</td>\n",
       "      <td>0.590909</td>\n",
       "      <td>0.033104</td>\n",
       "      <td>0.019561</td>\n",
       "    </tr>\n",
       "    <tr>\n",
       "      <th>19745</th>\n",
       "      <td>Below Zero</td>\n",
       "      <td>MOVIE</td>\n",
       "      <td>2021</td>\n",
       "      <td>Not Rated</td>\n",
       "      <td>106</td>\n",
       "      <td>['action', 'crime', 'thriller', 'horror', 'dra...</td>\n",
       "      <td>['ES']</td>\n",
       "      <td>0.0</td>\n",
       "      <td>6.2</td>\n",
       "      <td>19201.0</td>\n",
       "      <td>49.755</td>\n",
       "      <td>6.4</td>\n",
       "      <td>netflix</td>\n",
       "      <td>16312.376845</td>\n",
       "      <td>0.579545</td>\n",
       "      <td>0.008367</td>\n",
       "      <td>0.004849</td>\n",
       "    </tr>\n",
       "    <tr>\n",
       "      <th>19761</th>\n",
       "      <td>Dasvi</td>\n",
       "      <td>MOVIE</td>\n",
       "      <td>2022</td>\n",
       "      <td>Not Rated</td>\n",
       "      <td>125</td>\n",
       "      <td>['comedy', 'drama']</td>\n",
       "      <td>['IN']</td>\n",
       "      <td>0.0</td>\n",
       "      <td>7.4</td>\n",
       "      <td>21050.0</td>\n",
       "      <td>3.327</td>\n",
       "      <td>5.7</td>\n",
       "      <td>netflix</td>\n",
       "      <td>16221.226114</td>\n",
       "      <td>0.715909</td>\n",
       "      <td>0.009173</td>\n",
       "      <td>0.006567</td>\n",
       "    </tr>\n",
       "    <tr>\n",
       "      <th>19853</th>\n",
       "      <td>Haseen Dillruba</td>\n",
       "      <td>MOVIE</td>\n",
       "      <td>2021</td>\n",
       "      <td>Not Rated</td>\n",
       "      <td>135</td>\n",
       "      <td>['romance', 'thriller', 'crime', 'drama']</td>\n",
       "      <td>['IN']</td>\n",
       "      <td>0.0</td>\n",
       "      <td>6.9</td>\n",
       "      <td>26194.0</td>\n",
       "      <td>15.216</td>\n",
       "      <td>6.4</td>\n",
       "      <td>netflix</td>\n",
       "      <td>15972.694154</td>\n",
       "      <td>0.659091</td>\n",
       "      <td>0.011415</td>\n",
       "      <td>0.007524</td>\n",
       "    </tr>\n",
       "    <tr>\n",
       "      <th>19900</th>\n",
       "      <td>Meenakshi Sundareshwar</td>\n",
       "      <td>MOVIE</td>\n",
       "      <td>2021</td>\n",
       "      <td>Not Rated</td>\n",
       "      <td>141</td>\n",
       "      <td>['romance', 'comedy']</td>\n",
       "      <td>['IN']</td>\n",
       "      <td>0.0</td>\n",
       "      <td>7.1</td>\n",
       "      <td>17366.0</td>\n",
       "      <td>2.223</td>\n",
       "      <td>5.2</td>\n",
       "      <td>netflix</td>\n",
       "      <td>16403.981668</td>\n",
       "      <td>0.681818</td>\n",
       "      <td>0.007567</td>\n",
       "      <td>0.005159</td>\n",
       "    </tr>\n",
       "  </tbody>\n",
       "</table>\n",
       "<p>1857 rows × 17 columns</p>\n",
       "</div>"
      ],
      "text/plain": [
       "                             title   type  release_year age_certification  \\\n",
       "1                      The General  MOVIE          1926         Not Rated   \n",
       "2      The Best Years of Our Lives  MOVIE          1946         Not Rated   \n",
       "3                  His Girl Friday  MOVIE          1940         Not Rated   \n",
       "4                In a Lonely Place  MOVIE          1950         Not Rated   \n",
       "5                       Stagecoach  MOVIE          1939         Not Rated   \n",
       "...                            ...    ...           ...               ...   \n",
       "19540                 Sooryavanshi  MOVIE          2021         Not Rated   \n",
       "19745                   Below Zero  MOVIE          2021         Not Rated   \n",
       "19761                        Dasvi  MOVIE          2022         Not Rated   \n",
       "19853              Haseen Dillruba  MOVIE          2021         Not Rated   \n",
       "19900       Meenakshi Sundareshwar  MOVIE          2021         Not Rated   \n",
       "\n",
       "       runtime                                             genres  \\\n",
       "1           78  ['action', 'drama', 'war', 'western', 'comedy'...   \n",
       "2          171                        ['romance', 'war', 'drama']   \n",
       "3           92                     ['comedy', 'drama', 'romance']   \n",
       "4           94                   ['thriller', 'drama', 'romance']   \n",
       "5           96                               ['western', 'drama']   \n",
       "...        ...                                                ...   \n",
       "19540      145                    ['action', 'thriller', 'crime']   \n",
       "19745      106  ['action', 'crime', 'thriller', 'horror', 'dra...   \n",
       "19761      125                                ['comedy', 'drama']   \n",
       "19853      135          ['romance', 'thriller', 'crime', 'drama']   \n",
       "19900      141                              ['romance', 'comedy']   \n",
       "\n",
       "      production_countries  seasons  imdb_score  imdb_votes  tmdb_popularity  \\\n",
       "1                   ['US']      0.0         8.2     89766.0            8.647   \n",
       "2                   ['US']      0.0         8.1     63026.0            8.435   \n",
       "3                   ['US']      0.0         7.8     57835.0           11.270   \n",
       "4                   ['US']      0.0         7.9     30924.0            8.273   \n",
       "5                   ['US']      0.0         7.8     48149.0           11.786   \n",
       "...                    ...      ...         ...         ...              ...   \n",
       "19540               ['IN']      0.0         6.3     75952.0          121.867   \n",
       "19745               ['ES']      0.0         6.2     19201.0           49.755   \n",
       "19761               ['IN']      0.0         7.4     21050.0            3.327   \n",
       "19853               ['IN']      0.0         6.9     26194.0           15.216   \n",
       "19900               ['IN']      0.0         7.1     17366.0            2.223   \n",
       "\n",
       "       tmdb_score Platform      imdb_pop  imdb_scor_nor  imdb_vote_nor  \\\n",
       "1             8.0   amazon  13430.527805       0.806818       0.039125   \n",
       "2             7.8   amazon  14394.110857       0.795455       0.027469   \n",
       "3             7.4   amazon  14597.390186       0.761364       0.025207   \n",
       "4             7.6   amazon  15750.913432       0.772727       0.013477   \n",
       "5             7.7   amazon  14992.572349       0.761364       0.020985   \n",
       "...           ...      ...           ...            ...            ...   \n",
       "19540         5.7  netflix  13911.257358       0.590909       0.033104   \n",
       "19745         6.4  netflix  16312.376845       0.579545       0.008367   \n",
       "19761         5.7  netflix  16221.226114       0.715909       0.009173   \n",
       "19853         6.4  netflix  15972.694154       0.659091       0.011415   \n",
       "19900         5.2  netflix  16403.981668       0.681818       0.007567   \n",
       "\n",
       "       new_metrix  \n",
       "1        0.031567  \n",
       "2        0.021851  \n",
       "3        0.019192  \n",
       "4        0.010414  \n",
       "5        0.015977  \n",
       "...           ...  \n",
       "19540    0.019561  \n",
       "19745    0.004849  \n",
       "19761    0.006567  \n",
       "19853    0.007524  \n",
       "19900    0.005159  \n",
       "\n",
       "[1857 rows x 17 columns]"
      ]
     },
     "execution_count": 137,
     "metadata": {},
     "output_type": "execute_result"
    }
   ],
   "source": [
    "mean_over = df[(df[\"imdb_scor_nor\"]>=scor_mean)&(df[\"imdb_vote_nor\"]>=vote_mean)]\n",
    "mean_over[\"new_metrix\"] = df[\"imdb_scor_nor\"]*df[\"imdb_vote_nor\"]\n",
    "mean_over"
   ]
  },
  {
   "cell_type": "code",
   "execution_count": 138,
   "id": "f472f058",
   "metadata": {
    "scrolled": true
   },
   "outputs": [
    {
     "data": {
      "text/plain": [
       "1015     0.004529\n",
       "12001    0.004529\n",
       "10471    0.004558\n",
       "16345    0.004569\n",
       "7428     0.004638\n",
       "           ...   \n",
       "14447    0.738924\n",
       "12483    0.760723\n",
       "12479    0.766014\n",
       "14328    0.770923\n",
       "14468    0.875000\n",
       "Name: new_metrix, Length: 1857, dtype: float64"
      ]
     },
     "execution_count": 138,
     "metadata": {},
     "output_type": "execute_result"
    }
   ],
   "source": [
    "ddd=mean_over[\"new_metrix\"].sort_values()\n",
    "ddd  \n",
    "#평균값으로 해도 기준이 이상하다 --결론"
   ]
  },
  {
   "cell_type": "code",
   "execution_count": 139,
   "id": "bc0fe0c4",
   "metadata": {},
   "outputs": [
    {
     "name": "stdout",
     "output_type": "stream",
     "text": [
      "Exodus\n",
      "Run for the Sun\n",
      "Cosmos: A Spacetime Odyssey\n",
      "The Platform\n",
      "Dark Light\n",
      "Warriors of Liberty City\n",
      "Skin Deep\n",
      "Going for Gold\n",
      "The Great Interior Design Challenge\n",
      "The Phantom Cat\n",
      "Red Hill\n",
      "Bloodride\n",
      "Serious Men\n",
      "Disney Channel Games\n",
      "Sam Smith: Love Goes – Live at Abbey Road Studios\n",
      "De Gaulle\n",
      "Girlfriend's Day\n",
      "Gordon Ramsay: Uncharted\n",
      "The Wonder Pets\n",
      "Forces of Nature\n"
     ]
    }
   ],
   "source": [
    "for i in range(20):\n",
    "    print(df.iloc[ddd.index[i]][\"title\"])"
   ]
  },
  {
   "cell_type": "code",
   "execution_count": 140,
   "id": "dc65c35a",
   "metadata": {
    "scrolled": true
   },
   "outputs": [
    {
     "data": {
      "text/html": [
       "<div>\n",
       "<style scoped>\n",
       "    .dataframe tbody tr th:only-of-type {\n",
       "        vertical-align: middle;\n",
       "    }\n",
       "\n",
       "    .dataframe tbody tr th {\n",
       "        vertical-align: top;\n",
       "    }\n",
       "\n",
       "    .dataframe thead th {\n",
       "        text-align: right;\n",
       "    }\n",
       "</style>\n",
       "<table border=\"1\" class=\"dataframe\">\n",
       "  <thead>\n",
       "    <tr style=\"text-align: right;\">\n",
       "      <th></th>\n",
       "      <th>title</th>\n",
       "      <th>type</th>\n",
       "      <th>release_year</th>\n",
       "      <th>age_certification</th>\n",
       "      <th>runtime</th>\n",
       "      <th>genres</th>\n",
       "      <th>production_countries</th>\n",
       "      <th>seasons</th>\n",
       "      <th>imdb_score</th>\n",
       "      <th>imdb_votes</th>\n",
       "      <th>tmdb_popularity</th>\n",
       "      <th>tmdb_score</th>\n",
       "      <th>Platform</th>\n",
       "      <th>imdb_pop</th>\n",
       "      <th>imdb_scor_nor</th>\n",
       "      <th>imdb_vote_nor</th>\n",
       "    </tr>\n",
       "  </thead>\n",
       "  <tbody>\n",
       "    <tr>\n",
       "      <th>0</th>\n",
       "      <td>The Three Stooges</td>\n",
       "      <td>SHOW</td>\n",
       "      <td>1934</td>\n",
       "      <td>TV-PG</td>\n",
       "      <td>19</td>\n",
       "      <td>['comedy', 'family', 'animation', 'action', 'f...</td>\n",
       "      <td>['US']</td>\n",
       "      <td>26.0</td>\n",
       "      <td>8.6</td>\n",
       "      <td>1092.0</td>\n",
       "      <td>15.424</td>\n",
       "      <td>7.6</td>\n",
       "      <td>amazon</td>\n",
       "      <td>17263.281817</td>\n",
       "      <td>0.852273</td>\n",
       "      <td>0.000474</td>\n",
       "    </tr>\n",
       "    <tr>\n",
       "      <th>1</th>\n",
       "      <td>The General</td>\n",
       "      <td>MOVIE</td>\n",
       "      <td>1926</td>\n",
       "      <td>Not Rated</td>\n",
       "      <td>78</td>\n",
       "      <td>['action', 'drama', 'war', 'western', 'comedy'...</td>\n",
       "      <td>['US']</td>\n",
       "      <td>0.0</td>\n",
       "      <td>8.2</td>\n",
       "      <td>89766.0</td>\n",
       "      <td>8.647</td>\n",
       "      <td>8.0</td>\n",
       "      <td>amazon</td>\n",
       "      <td>13430.527805</td>\n",
       "      <td>0.806818</td>\n",
       "      <td>0.039125</td>\n",
       "    </tr>\n",
       "    <tr>\n",
       "      <th>2</th>\n",
       "      <td>The Best Years of Our Lives</td>\n",
       "      <td>MOVIE</td>\n",
       "      <td>1946</td>\n",
       "      <td>Not Rated</td>\n",
       "      <td>171</td>\n",
       "      <td>['romance', 'war', 'drama']</td>\n",
       "      <td>['US']</td>\n",
       "      <td>0.0</td>\n",
       "      <td>8.1</td>\n",
       "      <td>63026.0</td>\n",
       "      <td>8.435</td>\n",
       "      <td>7.8</td>\n",
       "      <td>amazon</td>\n",
       "      <td>14394.110857</td>\n",
       "      <td>0.795455</td>\n",
       "      <td>0.027469</td>\n",
       "    </tr>\n",
       "    <tr>\n",
       "      <th>3</th>\n",
       "      <td>His Girl Friday</td>\n",
       "      <td>MOVIE</td>\n",
       "      <td>1940</td>\n",
       "      <td>Not Rated</td>\n",
       "      <td>92</td>\n",
       "      <td>['comedy', 'drama', 'romance']</td>\n",
       "      <td>['US']</td>\n",
       "      <td>0.0</td>\n",
       "      <td>7.8</td>\n",
       "      <td>57835.0</td>\n",
       "      <td>11.270</td>\n",
       "      <td>7.4</td>\n",
       "      <td>amazon</td>\n",
       "      <td>14597.390186</td>\n",
       "      <td>0.761364</td>\n",
       "      <td>0.025207</td>\n",
       "    </tr>\n",
       "    <tr>\n",
       "      <th>4</th>\n",
       "      <td>In a Lonely Place</td>\n",
       "      <td>MOVIE</td>\n",
       "      <td>1950</td>\n",
       "      <td>Not Rated</td>\n",
       "      <td>94</td>\n",
       "      <td>['thriller', 'drama', 'romance']</td>\n",
       "      <td>['US']</td>\n",
       "      <td>0.0</td>\n",
       "      <td>7.9</td>\n",
       "      <td>30924.0</td>\n",
       "      <td>8.273</td>\n",
       "      <td>7.6</td>\n",
       "      <td>amazon</td>\n",
       "      <td>15750.913432</td>\n",
       "      <td>0.772727</td>\n",
       "      <td>0.013477</td>\n",
       "    </tr>\n",
       "  </tbody>\n",
       "</table>\n",
       "</div>"
      ],
      "text/plain": [
       "                         title   type  release_year age_certification  \\\n",
       "0            The Three Stooges   SHOW          1934             TV-PG   \n",
       "1                  The General  MOVIE          1926         Not Rated   \n",
       "2  The Best Years of Our Lives  MOVIE          1946         Not Rated   \n",
       "3              His Girl Friday  MOVIE          1940         Not Rated   \n",
       "4            In a Lonely Place  MOVIE          1950         Not Rated   \n",
       "\n",
       "   runtime                                             genres  \\\n",
       "0       19  ['comedy', 'family', 'animation', 'action', 'f...   \n",
       "1       78  ['action', 'drama', 'war', 'western', 'comedy'...   \n",
       "2      171                        ['romance', 'war', 'drama']   \n",
       "3       92                     ['comedy', 'drama', 'romance']   \n",
       "4       94                   ['thriller', 'drama', 'romance']   \n",
       "\n",
       "  production_countries  seasons  imdb_score  imdb_votes  tmdb_popularity  \\\n",
       "0               ['US']     26.0         8.6      1092.0           15.424   \n",
       "1               ['US']      0.0         8.2     89766.0            8.647   \n",
       "2               ['US']      0.0         8.1     63026.0            8.435   \n",
       "3               ['US']      0.0         7.8     57835.0           11.270   \n",
       "4               ['US']      0.0         7.9     30924.0            8.273   \n",
       "\n",
       "   tmdb_score Platform      imdb_pop  imdb_scor_nor  imdb_vote_nor  \n",
       "0         7.6   amazon  17263.281817       0.852273       0.000474  \n",
       "1         8.0   amazon  13430.527805       0.806818       0.039125  \n",
       "2         7.8   amazon  14394.110857       0.795455       0.027469  \n",
       "3         7.4   amazon  14597.390186       0.761364       0.025207  \n",
       "4         7.6   amazon  15750.913432       0.772727       0.013477  "
      ]
     },
     "execution_count": 140,
     "metadata": {},
     "output_type": "execute_result"
    }
   ],
   "source": [
    "df.head()"
   ]
  },
  {
   "cell_type": "code",
   "execution_count": 141,
   "id": "6fcc6a2b",
   "metadata": {},
   "outputs": [
    {
     "data": {
      "text/plain": [
       "<Figure size 864x720 with 0 Axes>"
      ]
     },
     "execution_count": 141,
     "metadata": {},
     "output_type": "execute_result"
    },
    {
     "data": {
      "text/plain": [
       "<Figure size 864x720 with 0 Axes>"
      ]
     },
     "metadata": {},
     "output_type": "display_data"
    }
   ],
   "source": [
    "plt.figure(figsize=(12,10))\n",
    "#sns.scatterplot(data=df,x=\"imdb_score\",y=\"imdb_votes\",hue=\"imdb_pop_nor\")"
   ]
  },
  {
   "cell_type": "markdown",
   "id": "25e4288c",
   "metadata": {},
   "source": [
    "\n",
    "지금 결측치가 age_certification과 seasons가 많이 있다 \n",
    "\n",
    "1. movie && not rate 결과 있다 \n",
    "\n",
    "2. show&& not rate 결과도 있다 \n",
    "\n",
    "3. seasons가 0인건(결측치) 모두 movie이다 - 보통 영화 한편을 1 seasons라고 하지 않으니까 0으로 대체  \n",
    "\n",
    "\n",
    "\n",
    "\n"
   ]
  },
  {
   "cell_type": "code",
   "execution_count": null,
   "id": "f8271c74",
   "metadata": {},
   "outputs": [],
   "source": []
  },
  {
   "cell_type": "code",
   "execution_count": null,
   "id": "83d13670",
   "metadata": {},
   "outputs": [],
   "source": [
    "\n"
   ]
  },
  {
   "cell_type": "code",
   "execution_count": 142,
   "id": "7ff31864",
   "metadata": {},
   "outputs": [
    {
     "data": {
      "text/html": [
       "<div>\n",
       "<style scoped>\n",
       "    .dataframe tbody tr th:only-of-type {\n",
       "        vertical-align: middle;\n",
       "    }\n",
       "\n",
       "    .dataframe tbody tr th {\n",
       "        vertical-align: top;\n",
       "    }\n",
       "\n",
       "    .dataframe thead th {\n",
       "        text-align: right;\n",
       "    }\n",
       "</style>\n",
       "<table border=\"1\" class=\"dataframe\">\n",
       "  <thead>\n",
       "    <tr style=\"text-align: right;\">\n",
       "      <th></th>\n",
       "      <th>title</th>\n",
       "      <th>type</th>\n",
       "      <th>release_year</th>\n",
       "      <th>age_certification</th>\n",
       "      <th>runtime</th>\n",
       "      <th>genres</th>\n",
       "      <th>production_countries</th>\n",
       "      <th>seasons</th>\n",
       "      <th>imdb_score</th>\n",
       "      <th>imdb_votes</th>\n",
       "      <th>tmdb_popularity</th>\n",
       "      <th>tmdb_score</th>\n",
       "      <th>Platform</th>\n",
       "      <th>imdb_pop</th>\n",
       "      <th>imdb_scor_nor</th>\n",
       "      <th>imdb_vote_nor</th>\n",
       "    </tr>\n",
       "  </thead>\n",
       "  <tbody>\n",
       "  </tbody>\n",
       "</table>\n",
       "</div>"
      ],
      "text/plain": [
       "Empty DataFrame\n",
       "Columns: [title, type, release_year, age_certification, runtime, genres, production_countries, seasons, imdb_score, imdb_votes, tmdb_popularity, tmdb_score, Platform, imdb_pop, imdb_scor_nor, imdb_vote_nor]\n",
       "Index: []"
      ]
     },
     "execution_count": 142,
     "metadata": {},
     "output_type": "execute_result"
    }
   ],
   "source": [
    "# seasons가 0인것 확인해보기 \n",
    "o=df[df[\"seasons\"]==0]\n",
    "o[o[\"type\"]==\"SHOW\"]  # season이 0인건 모두 movies이다 \n"
   ]
  },
  {
   "cell_type": "code",
   "execution_count": 143,
   "id": "fc30b128",
   "metadata": {
    "scrolled": true
   },
   "outputs": [
    {
     "data": {
      "text/plain": [
       "<AxesSubplot:>"
      ]
     },
     "execution_count": 143,
     "metadata": {},
     "output_type": "execute_result"
    },
    {
     "data": {
      "image/png": "[encoded data removed]",
      "text/plain": [
       "<Figure size 432x288 with 2 Axes>"
      ]
     },
     "metadata": {
      "needs_background": "light"
     },
     "output_type": "display_data"
    }
   ],
   "source": [
    "# 상관관계 heatmap \n",
    "\n",
    "sns.heatmap(df.corr(),annot=True,vmin=-1,vmax=1)"
   ]
  },
  {
   "cell_type": "code",
   "execution_count": 144,
   "id": "e91bc3a0",
   "metadata": {},
   "outputs": [
    {
     "data": {
      "text/plain": [
       "(0.0, 600.0)"
      ]
     },
     "execution_count": 144,
     "metadata": {},
     "output_type": "execute_result"
    },
    {
     "data": {
      "image/png": "[encoded data removed]",
      "text/plain": [
       "<Figure size 432x288 with 1 Axes>"
      ]
     },
     "metadata": {
      "needs_background": "light"
     },
     "output_type": "display_data"
    }
   ],
   "source": [
    "sns.regplot(data=df,x=\"tmdb_popularity\",y=\"tmdb_score\")\n",
    "plt.xlim([0,600])"
   ]
  },
  {
   "cell_type": "code",
   "execution_count": 145,
   "id": "0a4553e1",
   "metadata": {},
   "outputs": [
    {
     "data": {
      "text/plain": [
       "<AxesSubplot:xlabel='runtime', ylabel='Density'>"
      ]
     },
     "execution_count": 145,
     "metadata": {},
     "output_type": "execute_result"
    },
    {
     "data": {
      "image/png": "[encoded data removed]",
      "text/plain": [
       "<Figure size 432x288 with 1 Axes>"
      ]
     },
     "metadata": {
      "needs_background": "light"
     },
     "output_type": "display_data"
    }
   ],
   "source": [
    "sns.kdeplot(data=df[\"runtime\"])"
   ]
  },
  {
   "cell_type": "code",
   "execution_count": 146,
   "id": "3965d461",
   "metadata": {},
   "outputs": [
    {
     "data": {
      "text/plain": [
       "<AxesSubplot:xlabel='type', ylabel='count'>"
      ]
     },
     "execution_count": 146,
     "metadata": {},
     "output_type": "execute_result"
    },
    {
     "data": {
      "image/png": "[encoded data removed]",
      "text/plain": [
       "<Figure size 432x288 with 1 Axes>"
      ]
     },
     "metadata": {
      "needs_background": "light"
     },
     "output_type": "display_data"
    }
   ],
   "source": [
    "# movie show 시각화 \n",
    "sns.countplot(data=df,x=\"type\")\n"
   ]
  },
  {
   "cell_type": "code",
   "execution_count": 147,
   "id": "88b60257",
   "metadata": {
    "scrolled": false
   },
   "outputs": [
    {
     "data": {
      "text/plain": [
       "<AxesSubplot:xlabel='age_certification', ylabel='count'>"
      ]
     },
     "execution_count": 147,
     "metadata": {},
     "output_type": "execute_result"
    },
    {
     "data": {
      "image/png": "[encoded data removed]",
      "text/plain": [
       "<Figure size 864x720 with 1 Axes>"
      ]
     },
     "metadata": {
      "needs_background": "light"
     },
     "output_type": "display_data"
    }
   ],
   "source": [
    "# age_criteran 시각화 \n",
    "plt.figure(figsize=(12,10))\n",
    "sns.countplot(data=df,x=\"age_certification\")\n"
   ]
  },
  {
   "cell_type": "code",
   "execution_count": null,
   "id": "36195648",
   "metadata": {},
   "outputs": [],
   "source": [
    "\n"
   ]
  },
  {
   "cell_type": "code",
   "execution_count": 148,
   "id": "feab6bbd",
   "metadata": {
    "scrolled": true
   },
   "outputs": [
    {
     "data": {
      "text/html": [
       "<div>\n",
       "<style scoped>\n",
       "    .dataframe tbody tr th:only-of-type {\n",
       "        vertical-align: middle;\n",
       "    }\n",
       "\n",
       "    .dataframe tbody tr th {\n",
       "        vertical-align: top;\n",
       "    }\n",
       "\n",
       "    .dataframe thead th {\n",
       "        text-align: right;\n",
       "    }\n",
       "</style>\n",
       "<table border=\"1\" class=\"dataframe\">\n",
       "  <thead>\n",
       "    <tr style=\"text-align: right;\">\n",
       "      <th></th>\n",
       "      <th>title</th>\n",
       "      <th>type</th>\n",
       "      <th>release_year</th>\n",
       "      <th>age_certification</th>\n",
       "      <th>runtime</th>\n",
       "      <th>genres</th>\n",
       "      <th>production_countries</th>\n",
       "      <th>seasons</th>\n",
       "      <th>imdb_score</th>\n",
       "      <th>imdb_votes</th>\n",
       "      <th>...</th>\n",
       "      <th>romance</th>\n",
       "      <th>documentation</th>\n",
       "      <th>war</th>\n",
       "      <th>horror</th>\n",
       "      <th>thriller</th>\n",
       "      <th>fantasy</th>\n",
       "      <th>music</th>\n",
       "      <th>comedy</th>\n",
       "      <th>scifi</th>\n",
       "      <th>drama</th>\n",
       "    </tr>\n",
       "  </thead>\n",
       "  <tbody>\n",
       "    <tr>\n",
       "      <th>0</th>\n",
       "      <td>The Three Stooges</td>\n",
       "      <td>SHOW</td>\n",
       "      <td>1934</td>\n",
       "      <td>TV-PG</td>\n",
       "      <td>19</td>\n",
       "      <td>[comedy, family, animation, action, fantasy, h...</td>\n",
       "      <td>['US']</td>\n",
       "      <td>26.0</td>\n",
       "      <td>8.6</td>\n",
       "      <td>1092.0</td>\n",
       "      <td>...</td>\n",
       "      <td>0</td>\n",
       "      <td>0</td>\n",
       "      <td>0</td>\n",
       "      <td>1</td>\n",
       "      <td>0</td>\n",
       "      <td>1</td>\n",
       "      <td>0</td>\n",
       "      <td>1</td>\n",
       "      <td>0</td>\n",
       "      <td>0</td>\n",
       "    </tr>\n",
       "    <tr>\n",
       "      <th>1</th>\n",
       "      <td>The General</td>\n",
       "      <td>MOVIE</td>\n",
       "      <td>1926</td>\n",
       "      <td>Not Rated</td>\n",
       "      <td>78</td>\n",
       "      <td>[action, drama, war, western, comedy, european]</td>\n",
       "      <td>['US']</td>\n",
       "      <td>0.0</td>\n",
       "      <td>8.2</td>\n",
       "      <td>89766.0</td>\n",
       "      <td>...</td>\n",
       "      <td>0</td>\n",
       "      <td>0</td>\n",
       "      <td>1</td>\n",
       "      <td>0</td>\n",
       "      <td>0</td>\n",
       "      <td>0</td>\n",
       "      <td>0</td>\n",
       "      <td>1</td>\n",
       "      <td>0</td>\n",
       "      <td>1</td>\n",
       "    </tr>\n",
       "    <tr>\n",
       "      <th>2</th>\n",
       "      <td>The Best Years of Our Lives</td>\n",
       "      <td>MOVIE</td>\n",
       "      <td>1946</td>\n",
       "      <td>Not Rated</td>\n",
       "      <td>171</td>\n",
       "      <td>[romance, war, drama]</td>\n",
       "      <td>['US']</td>\n",
       "      <td>0.0</td>\n",
       "      <td>8.1</td>\n",
       "      <td>63026.0</td>\n",
       "      <td>...</td>\n",
       "      <td>1</td>\n",
       "      <td>0</td>\n",
       "      <td>1</td>\n",
       "      <td>0</td>\n",
       "      <td>0</td>\n",
       "      <td>0</td>\n",
       "      <td>0</td>\n",
       "      <td>0</td>\n",
       "      <td>0</td>\n",
       "      <td>1</td>\n",
       "    </tr>\n",
       "    <tr>\n",
       "      <th>3</th>\n",
       "      <td>His Girl Friday</td>\n",
       "      <td>MOVIE</td>\n",
       "      <td>1940</td>\n",
       "      <td>Not Rated</td>\n",
       "      <td>92</td>\n",
       "      <td>[comedy, drama, romance]</td>\n",
       "      <td>['US']</td>\n",
       "      <td>0.0</td>\n",
       "      <td>7.8</td>\n",
       "      <td>57835.0</td>\n",
       "      <td>...</td>\n",
       "      <td>1</td>\n",
       "      <td>0</td>\n",
       "      <td>0</td>\n",
       "      <td>0</td>\n",
       "      <td>0</td>\n",
       "      <td>0</td>\n",
       "      <td>0</td>\n",
       "      <td>1</td>\n",
       "      <td>0</td>\n",
       "      <td>1</td>\n",
       "    </tr>\n",
       "    <tr>\n",
       "      <th>4</th>\n",
       "      <td>In a Lonely Place</td>\n",
       "      <td>MOVIE</td>\n",
       "      <td>1950</td>\n",
       "      <td>Not Rated</td>\n",
       "      <td>94</td>\n",
       "      <td>[thriller, drama, romance]</td>\n",
       "      <td>['US']</td>\n",
       "      <td>0.0</td>\n",
       "      <td>7.9</td>\n",
       "      <td>30924.0</td>\n",
       "      <td>...</td>\n",
       "      <td>1</td>\n",
       "      <td>0</td>\n",
       "      <td>0</td>\n",
       "      <td>0</td>\n",
       "      <td>1</td>\n",
       "      <td>0</td>\n",
       "      <td>0</td>\n",
       "      <td>0</td>\n",
       "      <td>0</td>\n",
       "      <td>1</td>\n",
       "    </tr>\n",
       "  </tbody>\n",
       "</table>\n",
       "<p>5 rows × 35 columns</p>\n",
       "</div>"
      ],
      "text/plain": [
       "                         title   type  release_year age_certification  \\\n",
       "0            The Three Stooges   SHOW          1934             TV-PG   \n",
       "1                  The General  MOVIE          1926         Not Rated   \n",
       "2  The Best Years of Our Lives  MOVIE          1946         Not Rated   \n",
       "3              His Girl Friday  MOVIE          1940         Not Rated   \n",
       "4            In a Lonely Place  MOVIE          1950         Not Rated   \n",
       "\n",
       "   runtime                                             genres  \\\n",
       "0       19  [comedy, family, animation, action, fantasy, h...   \n",
       "1       78    [action, drama, war, western, comedy, european]   \n",
       "2      171                              [romance, war, drama]   \n",
       "3       92                           [comedy, drama, romance]   \n",
       "4       94                         [thriller, drama, romance]   \n",
       "\n",
       "  production_countries  seasons  imdb_score  imdb_votes  ...  romance  \\\n",
       "0               ['US']     26.0         8.6      1092.0  ...        0   \n",
       "1               ['US']      0.0         8.2     89766.0  ...        0   \n",
       "2               ['US']      0.0         8.1     63026.0  ...        1   \n",
       "3               ['US']      0.0         7.8     57835.0  ...        1   \n",
       "4               ['US']      0.0         7.9     30924.0  ...        1   \n",
       "\n",
       "   documentation war  horror  thriller  fantasy  music  comedy  scifi  drama  \n",
       "0              0   0       1         0        1      0       1      0      0  \n",
       "1              0   1       0         0        0      0       1      0      1  \n",
       "2              0   1       0         0        0      0       0      0      1  \n",
       "3              0   0       0         0        0      0       1      0      1  \n",
       "4              0   0       0         1        0      0       0      0      1  \n",
       "\n",
       "[5 rows x 35 columns]"
      ]
     },
     "execution_count": 148,
     "metadata": {},
     "output_type": "execute_result"
    }
   ],
   "source": [
    "# 장르 나누고 시각화 하기 [영화 ,show]\n",
    "import re\n",
    "\n",
    "\n",
    "#f = lambda x : re.findall(\"\\w+\",x)\n",
    "#type(f(df.iloc[0][\"genres\"])) -> list \n",
    "\n",
    "df[\"genres\"] =df[\"genres\"].apply(lambda x : re.findall(\"\\w+\",x))\n",
    "genres_list = list(df[\"genres\"].values)\n",
    "\n",
    "new_genres_list =[]\n",
    "for sublist in genres_list:\n",
    "    for item in sublist:\n",
    "        new_genres_list.append(item)\n",
    "\n",
    "\n",
    "\n",
    "new_genres_list = set(new_genres_list)\n",
    "\n",
    "for i,genre in enumerate(new_genres_list):\n",
    "    df[genre]=df[\"genres\"].apply(lambda x: 1 if genre in x else 0).astype(int) # 해당하는 장르 컬럼 새로 만들어주기\n",
    "\n",
    "    \n",
    "df.head()"
   ]
  },
  {
   "cell_type": "code",
   "execution_count": 149,
   "id": "817a8722",
   "metadata": {},
   "outputs": [],
   "source": [
    "# 시각화 위한 전처리 \n",
    "\n",
    "# 영화중에서 각 장르별 개수 센다 \n",
    "genre_movie_dict = {}\n",
    "\n",
    "for genre in new_genres_list:\n",
    "    genre_movie_dict[genre] = df.query(\"type == 'MOVIE'\")[genre].sum()\n",
    "\n",
    "genre_movie_dict = dict(sorted(genre_movie_dict.items(), key=lambda x: x[0]))\n",
    "\n",
    "# show중에서 장르별 개수 센다 \n",
    "genre_series_dict = {}\n",
    "\n",
    "for genre in new_genres_list:\n",
    "    genre_series_dict[genre] = df.query(\"type == 'SHOW'\")[genre].sum()\n",
    "\n",
    "genre_series_dict = dict(sorted(genre_series_dict.items(), key=lambda x: x[0]))\n",
    "\n",
    "\n"
   ]
  },
  {
   "cell_type": "code",
   "execution_count": 150,
   "id": "2f9e7190",
   "metadata": {},
   "outputs": [
    {
     "data": {
      "text/plain": [
       "<AxesSubplot:>"
      ]
     },
     "execution_count": 150,
     "metadata": {},
     "output_type": "execute_result"
    },
    {
     "data": {
      "image/png": "[encoded data removed]",
      "text/plain": [
       "<Figure size 1080x720 with 1 Axes>"
      ]
     },
     "metadata": {
      "needs_background": "light"
     },
     "output_type": "display_data"
    }
   ],
   "source": [
    "# dictionry -> DataFrame \n",
    "plt.figure(figsize=(15,10))\n",
    "movie_genres=pd.DataFrame.from_dict(genre_movie_dict,orient=\"index\").T\n",
    "sns.barplot(data=movie_genres)"
   ]
  },
  {
   "cell_type": "code",
   "execution_count": 151,
   "id": "821bdb85",
   "metadata": {
    "scrolled": true
   },
   "outputs": [
    {
     "data": {
      "text/plain": [
       "<AxesSubplot:>"
      ]
     },
     "execution_count": 151,
     "metadata": {},
     "output_type": "execute_result"
    },
    {
     "data": {
      "image/png": "[encoded data removed]",
      "text/plain": [
       "<Figure size 1080x720 with 1 Axes>"
      ]
     },
     "metadata": {
      "needs_background": "light"
     },
     "output_type": "display_data"
    }
   ],
   "source": [
    "# dictionry -> DataFrame \n",
    "plt.figure(figsize=(15,10))\n",
    "show_genres=pd.DataFrame.from_dict(genre_series_dict,orient=\"index\").T\n",
    "sns.barplot(data=show_genres)"
   ]
  },
  {
   "cell_type": "code",
   "execution_count": 152,
   "id": "78ab262a",
   "metadata": {},
   "outputs": [],
   "source": [
    "# 장르별 ibdm score 시각화 하기 -> 평균값으로 했다 \n",
    "\n",
    "genre_movie_idbdm={}\n",
    "genre_show_idbdm={}\n",
    "\n",
    "for i,genre in enumerate(new_genres_list):\n",
    "    genre_movie_idbdm[genre] = df[df[\"type\"]==\"MOVIE\"].groupby(genre)[\"imdb_score\"].mean().sort_index().__getitem__(1)\n",
    "\n",
    "    \n",
    "    \n",
    "for i,genre in enumerate(new_genres_list):\n",
    "    genre_show_idbdm[genre] = df[df[\"type\"]==\"SHOW\"].groupby(genre)[\"imdb_score\"].mean().sort_index().__getitem__(1)\n",
    "    \n",
    "\n"
   ]
  },
  {
   "cell_type": "code",
   "execution_count": 153,
   "id": "6f244bd3",
   "metadata": {},
   "outputs": [
    {
     "data": {
      "text/plain": [
       "<AxesSubplot:>"
      ]
     },
     "execution_count": 153,
     "metadata": {},
     "output_type": "execute_result"
    },
    {
     "data": {
      "image/png": "[encoded data removed]",
      "text/plain": [
       "<Figure size 1080x720 with 1 Axes>"
      ]
     },
     "metadata": {
      "needs_background": "light"
     },
     "output_type": "display_data"
    }
   ],
   "source": [
    "# dictionry -> DataFrame \n",
    "plt.figure(figsize=(15,10))\n",
    "movie_genr=pd.DataFrame.from_dict(genre_movie_idbdm,orient=\"index\").T\n",
    "sns.barplot(data=movie_genr)"
   ]
  },
  {
   "cell_type": "code",
   "execution_count": 154,
   "id": "20fd32a1",
   "metadata": {
    "scrolled": true
   },
   "outputs": [
    {
     "data": {
      "text/plain": [
       "<AxesSubplot:>"
      ]
     },
     "execution_count": 154,
     "metadata": {},
     "output_type": "execute_result"
    },
    {
     "data": {
      "image/png": "[encoded data removed]",
      "text/plain": [
       "<Figure size 1080x720 with 1 Axes>"
      ]
     },
     "metadata": {
      "needs_background": "light"
     },
     "output_type": "display_data"
    }
   ],
   "source": [
    "# dictionry -> DataFrame \n",
    "plt.figure(figsize=(15,10))\n",
    "show_genr=pd.DataFrame.from_dict(genre_show_idbdm,orient=\"index\").T\n",
    "sns.barplot(data=show_genr)"
   ]
  },
  {
   "cell_type": "code",
   "execution_count": 155,
   "id": "601a3279",
   "metadata": {},
   "outputs": [
    {
     "data": {
      "text/plain": [
       "Index(['['US']', '['IN']', '['GB']', '[]', '['CA']', '['JP']', '['KR']',\n",
       "       '['FR']', '['AU']', '['ES']', '['CA', 'US']', '['CN']', '['XX']',\n",
       "       '['GB', 'US']', '['MX']', '['IT']', '['DE']', '['BR']', '['US', 'CA']',\n",
       "       '['PH']'],\n",
       "      dtype='object')"
      ]
     },
     "execution_count": 155,
     "metadata": {},
     "output_type": "execute_result"
    }
   ],
   "source": [
    "df['production_countries'].value_counts().index[:20]"
   ]
  },
  {
   "cell_type": "code",
   "execution_count": 156,
   "id": "fc64e92a",
   "metadata": {},
   "outputs": [
    {
     "data": {
      "text/plain": [
       "<AxesSubplot:xlabel='production_countries', ylabel='count'>"
      ]
     },
     "execution_count": 156,
     "metadata": {},
     "output_type": "execute_result"
    },
    {
     "data": {
      "image/png": "[encoded data removed]",
      "text/plain": [
       "<Figure size 1080x720 with 1 Axes>"
      ]
     },
     "metadata": {
      "needs_background": "light"
     },
     "output_type": "display_data"
    }
   ],
   "source": [
    "# 나라별 시각화 \n",
    "\n",
    "plt.figure(figsize=(15,10))\n",
    "\n",
    "sns.countplot(data=df,x=\"production_countries\",order = df['production_countries'].value_counts().index[:10]) \n",
    "# 각 독립적인 나라별로만 시각화 한것이다\n"
   ]
  }
 ],
 "metadata": {
  "kernelspec": {
   "display_name": "Python 3 (ipykernel)",
   "language": "python",
   "name": "python3"
  },
  "language_info": {
   "codemirror_mode": {
    "name": "ipython",
    "version": 3
   },
   "file_extension": ".py",
   "mimetype": "text/x-python",
   "name": "python",
   "nbconvert_exporter": "python",
   "pygments_lexer": "ipython3",
   "version": "3.9.7"
  }
 },
 "nbformat": 4,
 "nbformat_minor": 5
}
