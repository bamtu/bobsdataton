{
 "cells": [
  {
   "cell_type": "code",
   "execution_count": 14,
   "id": "c3861318",
   "metadata": {},
   "outputs": [],
   "source": [
    "import pandas as pd \n",
    "import numpy as np\n",
    "\n",
    "\n",
    "AmazonPrime_titles = pd.read_csv('C:/Users/JD-Laptop/Downloads/archive/AmazonPrime_titles.csv')\n",
    "Disney_titles = pd.read_csv('C:/Users/JD-Laptop/Downloads/archive/Disney_titles.csv')\n",
    "Netflix_titles = pd.read_csv('C:/Users/JD-Laptop/Downloads/archive/Netflix_titles.csv')\n",
    "Paramount_titles = pd.read_csv('C:/Users/JD-Laptop/Downloads/archive/Paramount_titles.csv')\n",
    "HBO_titles = pd.read_csv('C:/Users/JD-Laptop/Downloads/archive/HBO_titles.csv')\n",
    "Hulu_titles = pd.read_csv('C:/Users/JD-Laptop/Downloads/archive/Hulu_titles.csv')\n",
    "\n",
    "AmazonPrime_titles['platform'] = 'Amazon '\n",
    "Disney_titles['platform'] = 'Disney '\n",
    "Netflix_titles['platform'] = 'Netflix '\n",
    "Paramount_titles['platform'] = 'Paramount '\n",
    "HBO_titles['platform'] = 'HBO '\n",
    "Hulu_titles['platform'] = 'Hulu '\n",
    "\n",
    "df = pd.concat([AmazonPrime_titles, Disney_titles, Netflix_titles, Paramount_titles, HBO_titles, Hulu_titles], axis=0)\n",
    "\n",
    "\n",
    "df.to_csv('C:/Users/JD-Laptop/Downloads/archive/titles.csv')\n",
    "\n",
    "AmazonPrime_credits = pd.read_csv('C:/Users/JD-Laptop/Downloads/archive/AmazonPrime_credits.csv')\n",
    "Disney_credits = pd.read_csv('C:/Users/JD-Laptop/Downloads/archive/Disney_credits.csv')\n",
    "Netflix_credits = pd.read_csv('C:/Users/JD-Laptop/Downloads/archive/Netflix_credits.csv')\n",
    "Paramount_credits = pd.read_csv('C:/Users/JD-Laptop/Downloads/archive/Paramount_credits.csv')\n",
    "HBO_credits = pd.read_csv('C:/Users/JD-Laptop/Downloads/archive/HBO_credits.csv')\n",
    "Hulu_credits = pd.read_csv('C:/Users/JD-Laptop/Downloads/archive/Hulu_credits.csv')\n",
    "\n",
    "AmazonPrime_credits['platform'] = 'Amazon '\n",
    "Disney_credits['platform'] = 'Disney '\n",
    "Netflix_credits['platform'] = 'Netflix '\n",
    "Paramount_credits['platform'] = 'Paramount '\n",
    "HBO_credits['platform'] = 'HBO '\n",
    "Hulu_credits['platform'] = 'Hulu '\n",
    "\n",
    "df2 = pd.concat([AmazonPrime_credits, Disney_credits, Netflix_credits, Paramount_credits, HBO_credits, Hulu_credits], axis=0)\n",
    "\n",
    "df2.to_csv('C:/Users/JD-Laptop/Downloads/archive/credits.csv')"
   ]
  },
  {
   "cell_type": "code",
   "execution_count": null,
   "id": "b35581a9",
   "metadata": {},
   "outputs": [],
   "source": []
  }
 ],
 "metadata": {
  "kernelspec": {
   "display_name": "Python 3 (ipykernel)",
   "language": "python",
   "name": "python3"
  },
  "language_info": {
   "codemirror_mode": {
    "name": "ipython",
    "version": 3
   },
   "file_extension": ".py",
   "mimetype": "text/x-python",
   "name": "python",
   "nbconvert_exporter": "python",
   "pygments_lexer": "ipython3",
   "version": "3.9.13"
  }
 },
 "nbformat": 4,
 "nbformat_minor": 5
}
